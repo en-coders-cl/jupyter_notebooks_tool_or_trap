{
  "cells": [
    {
      "cell_type": "markdown",
      "id": "tzDr6_vyIq-0",
      "metadata": {
        "id": "tzDr6_vyIq-0"
      },
      "source": [
        "# ¡Llena ese carrito!"
      ]
    },
    {
      "cell_type": "markdown",
      "id": "wt2btLqO7uz6",
      "metadata": {
        "id": "wt2btLqO7uz6"
      },
      "source": [
        "# Introducción\n",
        "\n",
        "Instacart es una plataforma de entregas de comestibles donde la clientela puede registrar un pedido y hacer que se lo entreguen, similar a Uber Eats y Door Dash.\n",
        "El conjunto de datos que te hemos proporcionado tiene modificaciones del original. Redujimos el tamaño del conjunto para que tus cálculos se hicieran más rápido e introdujimos valores ausentes y duplicados. Tuvimos cuidado de conservar las distribuciones de los datos originales cuando hicimos los cambios.\n",
        "\n",
        "Debes completar tres pasos. Para cada uno de ellos, escribe una breve introducción que refleje con claridad cómo pretendes resolver cada paso, y escribe párrafos explicatorios que justifiquen tus decisiones al tiempo que avanzas en tu solución. También escribe una conclusión que resuma tus hallazgos y elecciones.\n"
      ]
    },
    {
      "cell_type": "markdown",
      "id": "7mmOPoUe7zGg",
      "metadata": {
        "id": "7mmOPoUe7zGg"
      },
      "source": [
        "## Diccionario de datos\n",
        "\n",
        "Hay cinco tablas en el conjunto de datos, y tendrás que usarlas todas para hacer el preprocesamiento de datos y el análisis exploratorio de datos. A continuación se muestra un diccionario de datos que enumera las columnas de cada tabla y describe los datos que contienen.\n",
        "\n",
        "- `instacart_orders.csv`: cada fila corresponde a un pedido en la aplicación Instacart.\n",
        "    - `'order_id'`: número de ID que identifica de manera única cada pedido.\n",
        "    - `'user_id'`: número de ID que identifica de manera única la cuenta de cada cliente.\n",
        "    - `'order_number'`: el número de veces que este cliente ha hecho un pedido.\n",
        "    - `'order_dow'`: día de la semana en que se hizo el pedido (0 si es domingo).\n",
        "    - `'order_hour_of_day'`: hora del día en que se hizo el pedido.\n",
        "    - `'days_since_prior_order'`: número de días transcurridos desde que este cliente hizo su pedido anterior.\n",
        "- `products.csv`: cada fila corresponde a un producto único que pueden comprar los clientes.\n",
        "    - `'product_id'`: número ID que identifica de manera única cada producto.\n",
        "    - `'product_name'`: nombre del producto.\n",
        "    - `'aisle_id'`: número ID que identifica de manera única cada categoría de pasillo de víveres.\n",
        "    - `'department_id'`: número ID que identifica de manera única cada departamento de víveres.\n",
        "- `order_products.csv`: cada fila corresponde a un artículo pedido en un pedido.\n",
        "    - `'order_id'`: número de ID que identifica de manera única cada pedido.\n",
        "    - `'product_id'`: número ID que identifica de manera única cada producto.\n",
        "    - `'add_to_cart_order'`: el orden secuencial en el que se añadió cada artículo en el carrito.\n",
        "    - `'reordered'`: 0 si el cliente nunca ha pedido este producto antes, 1 si lo ha pedido.\n",
        "- `aisles.csv`\n",
        "    - `'aisle_id'`: número ID que identifica de manera única cada categoría de pasillo de víveres.\n",
        "    - `'aisle'`: nombre del pasillo.\n",
        "- `departments.csv`\n",
        "    - `'department_id'`: número ID que identifica de manera única cada departamento de víveres.\n",
        "    - `'department'`: nombre del departamento."
      ]
    },
    {
      "cell_type": "markdown",
      "id": "H-ORBTmZ_C_U",
      "metadata": {
        "id": "H-ORBTmZ_C_U"
      },
      "source": [
        "# Paso 1. Descripción de los datos\n",
        "\n",
        "Lee los archivos de datos (`datasets/input/instacart_orders.csv`, `datasets/input/products.csv`, `datasets/input/aisles.csv`, `datasets/input/departments.csv` y `datasets/input/order_products.csv`) con `pd.read_csv()` usando los parámetros adecuados para leer los datos correctamente. Verifica la información para cada DataFrame creado.\n"
      ]
    },
    {
      "cell_type": "markdown",
      "id": "e60efb8c",
      "metadata": {
        "id": "e60efb8c"
      },
      "source": [
        "## Plan de solución\n",
        "\n",
        "\n",
        "\n",
        "Comenzamos importando los paquetes que necesitamos para el proyecto, después se lee cada archivo CSV como un DataFrame de pandas y se asigna cada uno a su propia variable.\n",
        "\n",
        "Al ver los archivos CSV, podemos ver que debemos especificar que el separador es un punto y coma.\n"
      ]
    },
    {
      "cell_type": "code",
      "execution_count": 1,
      "id": "fbf1adab",
      "metadata": {
        "id": "fbf1adab"
      },
      "outputs": [],
      "source": [
        "# importar librerías\n",
        "import pandas as pd\n",
        "import matplotlib.pyplot as plt"
      ]
    },
    {
      "cell_type": "code",
      "execution_count": 2,
      "id": "ad36396d",
      "metadata": {
        "id": "ad36396d"
      },
      "outputs": [],
      "source": [
        "# leer conjuntos de datos en DataFrames\n",
        "orders         = pd.read_csv('datasets/input/instacart_orders.csv', sep=';')\n",
        "products       = pd.read_csv('datasets/input/products.csv', sep=';')\n",
        "departments    = pd.read_csv('datasets/input/departments.csv', sep=';')\n",
        "aisles         = pd.read_csv('datasets/input/aisles.csv', sep=';')\n",
        "order_products = pd.read_csv('datasets/input/order_products.csv', sep=';')"
      ]
    },
    {
      "cell_type": "markdown",
      "id": "c500ec6e",
      "metadata": {
        "id": "c500ec6e"
      },
      "source": [
        "<font style=\"color:green\">\n",
        "\n",
        "Para tener una mejor idea de los datos, llamamos `info()` en cada DataFrame. Por defecto, si el DataFrame tiene demasiadas filas, `info()` no mostrará conteos no nulos. Si queremos ver los conteos para `order_products`, debemos incluir `show_counts=True`.\n",
        "\n",
        "</font>"
      ]
    },
    {
      "cell_type": "code",
      "execution_count": 3,
      "id": "ad6a1efa",
      "metadata": {
        "colab": {
          "base_uri": "https://localhost:8080/"
        },
        "id": "ad6a1efa",
        "outputId": "8366b9d4-e562-4031-8b26-d2442cf266ed"
      },
      "outputs": [
        {
          "name": "stdout",
          "output_type": "stream",
          "text": [
            "<class 'pandas.core.frame.DataFrame'>\n",
            "RangeIndex: 478967 entries, 0 to 478966\n",
            "Data columns (total 6 columns):\n",
            " #   Column                  Non-Null Count   Dtype  \n",
            "---  ------                  --------------   -----  \n",
            " 0   order_id                478967 non-null  int64  \n",
            " 1   user_id                 478967 non-null  int64  \n",
            " 2   order_number            478967 non-null  int64  \n",
            " 3   order_dow               478967 non-null  int64  \n",
            " 4   order_hour_of_day       478967 non-null  int64  \n",
            " 5   days_since_prior_order  450148 non-null  float64\n",
            "dtypes: float64(1), int64(5)\n",
            "memory usage: 21.9 MB\n"
          ]
        }
      ],
      "source": [
        "# mostrar información del DataFrame\n",
        "orders.info()"
      ]
    },
    {
      "cell_type": "code",
      "execution_count": 4,
      "id": "5130e05e",
      "metadata": {
        "colab": {
          "base_uri": "https://localhost:8080/"
        },
        "id": "5130e05e",
        "outputId": "074c866f-59a6-4789-bfe0-0c52577e2ffc"
      },
      "outputs": [
        {
          "name": "stdout",
          "output_type": "stream",
          "text": [
            "<class 'pandas.core.frame.DataFrame'>\n",
            "RangeIndex: 49694 entries, 0 to 49693\n",
            "Data columns (total 4 columns):\n",
            " #   Column         Non-Null Count  Dtype \n",
            "---  ------         --------------  ----- \n",
            " 0   product_id     49694 non-null  int64 \n",
            " 1   product_name   48436 non-null  object\n",
            " 2   aisle_id       49694 non-null  int64 \n",
            " 3   department_id  49694 non-null  int64 \n",
            "dtypes: int64(3), object(1)\n",
            "memory usage: 1.5+ MB\n"
          ]
        }
      ],
      "source": [
        "# mostrar información del DataFrame\n",
        "products.info()"
      ]
    },
    {
      "cell_type": "code",
      "execution_count": 5,
      "id": "d8370c05",
      "metadata": {
        "colab": {
          "base_uri": "https://localhost:8080/"
        },
        "id": "d8370c05",
        "outputId": "3ff05378-315b-4ed9-9a96-aace9e1575da"
      },
      "outputs": [
        {
          "name": "stdout",
          "output_type": "stream",
          "text": [
            "<class 'pandas.core.frame.DataFrame'>\n",
            "RangeIndex: 21 entries, 0 to 20\n",
            "Data columns (total 2 columns):\n",
            " #   Column         Non-Null Count  Dtype \n",
            "---  ------         --------------  ----- \n",
            " 0   department_id  21 non-null     int64 \n",
            " 1   department     21 non-null     object\n",
            "dtypes: int64(1), object(1)\n",
            "memory usage: 464.0+ bytes\n"
          ]
        }
      ],
      "source": [
        "# mostrar información del DataFrame\n",
        "departments.info()"
      ]
    },
    {
      "cell_type": "code",
      "execution_count": 6,
      "id": "59e2090f",
      "metadata": {
        "colab": {
          "base_uri": "https://localhost:8080/"
        },
        "id": "59e2090f",
        "outputId": "7019e7e4-e07a-4e89-8bc5-91c3f2044b43"
      },
      "outputs": [
        {
          "name": "stdout",
          "output_type": "stream",
          "text": [
            "<class 'pandas.core.frame.DataFrame'>\n",
            "RangeIndex: 134 entries, 0 to 133\n",
            "Data columns (total 2 columns):\n",
            " #   Column    Non-Null Count  Dtype \n",
            "---  ------    --------------  ----- \n",
            " 0   aisle_id  134 non-null    int64 \n",
            " 1   aisle     134 non-null    object\n",
            "dtypes: int64(1), object(1)\n",
            "memory usage: 2.2+ KB\n"
          ]
        }
      ],
      "source": [
        "# mostrar información del DataFrame\n",
        "aisles.info()"
      ]
    },
    {
      "cell_type": "code",
      "execution_count": 7,
      "id": "6fc81694",
      "metadata": {
        "colab": {
          "base_uri": "https://localhost:8080/"
        },
        "id": "6fc81694",
        "outputId": "632107b5-2f51-4116-d002-3acc2e52f05f"
      },
      "outputs": [
        {
          "name": "stdout",
          "output_type": "stream",
          "text": [
            "<class 'pandas.core.frame.DataFrame'>\n",
            "RangeIndex: 4545007 entries, 0 to 4545006\n",
            "Data columns (total 4 columns):\n",
            " #   Column             Non-Null Count    Dtype  \n",
            "---  ------             --------------    -----  \n",
            " 0   order_id           4545007 non-null  int64  \n",
            " 1   product_id         4545007 non-null  int64  \n",
            " 2   add_to_cart_order  4544171 non-null  float64\n",
            " 3   reordered          4545007 non-null  int64  \n",
            "dtypes: float64(1), int64(3)\n",
            "memory usage: 138.7 MB\n"
          ]
        }
      ],
      "source": [
        "# mostrar información del DataFrame\n",
        "order_products.info(show_counts=True)"
      ]
    },
    {
      "cell_type": "markdown",
      "id": "5brqGCzxT40O",
      "metadata": {
        "id": "5brqGCzxT40O"
      },
      "source": [
        "## Conclusiones\n",
        "\n",
        "Escribe aquí tus conclusiones\n"
      ]
    },
    {
      "cell_type": "markdown",
      "id": "OMBwzpVEYBpi",
      "metadata": {
        "id": "OMBwzpVEYBpi"
      },
      "source": [
        "# Paso 2\n",
        "\n",
        "Reprocesa los datos de la siguiente manera:\n",
        "\n",
        "- Verifica y corrige los tipos de datos (por ejemplo, asegúrate de que las columnas de ID sean números enteros).\n",
        "- Identifica y completa los valores ausentes.\n",
        "- Identifica y elimina los valores duplicados.\n",
        "\n",
        "Asegúrate de explicar qué tipos de valores ausentes y duplicados encontraste, cómo los completaste o eliminaste y por qué usaste esos métodos. ¿Por qué crees que estos valores ausentes y duplicados pueden haber estado presentes en el conjunto de datos?"
      ]
    },
    {
      "cell_type": "markdown",
      "id": "24f2685c",
      "metadata": {
        "id": "24f2685c"
      },
      "source": [
        "## Plan de solución\n",
        "Vamos a preprocesar los datos investigando los valores ausentes y duplicados para cada uno de los 5 DataFrames.\n",
        "\n",
        "Nos ocupamos primero de los valores duplicados porque no nos queremos molestar en completar los valores ausentes para filas que podrían estar duplicadas. Después de procesar los duplicados, volveremos a cada DataFrame para procesar los valores ausentes."
      ]
    },
    {
      "cell_type": "markdown",
      "id": "07357848-dc64-4156-9cc3-01ff4365226d",
      "metadata": {
        "id": "07357848-dc64-4156-9cc3-01ff4365226d"
      },
      "source": [
        "## Encuentra y elimina los valores duplicados (y describe cómo tomaste tus decisiones)."
      ]
    },
    {
      "cell_type": "markdown",
      "id": "f179f0a9",
      "metadata": {
        "id": "f179f0a9"
      },
      "source": [
        "### `orders` data frame"
      ]
    },
    {
      "cell_type": "markdown",
      "id": "7ff210b0",
      "metadata": {
        "id": "7ff210b0"
      },
      "source": [
        "<font style=\"color:green\">\n",
        "\n",
        "La manera más fácil de revisar si hay duplicados es buscar filas totalmente duplicadas llamando a `duplicated()` en el DataFrame sin ningún argumento.\n",
        "\n",
        "</font>"
      ]
    },
    {
      "cell_type": "code",
      "execution_count": 8,
      "id": "b99297a5-405a-463d-8535-9adc3da4ad74",
      "metadata": {
        "colab": {
          "base_uri": "https://localhost:8080/",
          "height": 520
        },
        "id": "b99297a5-405a-463d-8535-9adc3da4ad74",
        "outputId": "e8b75ae5-6c6b-4281-a19a-a3c4280b973c"
      },
      "outputs": [
        {
          "data": {
            "text/html": [
              "<div>\n",
              "<style scoped>\n",
              "    .dataframe tbody tr th:only-of-type {\n",
              "        vertical-align: middle;\n",
              "    }\n",
              "\n",
              "    .dataframe tbody tr th {\n",
              "        vertical-align: top;\n",
              "    }\n",
              "\n",
              "    .dataframe thead th {\n",
              "        text-align: right;\n",
              "    }\n",
              "</style>\n",
              "<table border=\"1\" class=\"dataframe\">\n",
              "  <thead>\n",
              "    <tr style=\"text-align: right;\">\n",
              "      <th></th>\n",
              "      <th>order_id</th>\n",
              "      <th>user_id</th>\n",
              "      <th>order_number</th>\n",
              "      <th>order_dow</th>\n",
              "      <th>order_hour_of_day</th>\n",
              "      <th>days_since_prior_order</th>\n",
              "    </tr>\n",
              "  </thead>\n",
              "  <tbody>\n",
              "    <tr>\n",
              "      <th>145574</th>\n",
              "      <td>794638</td>\n",
              "      <td>50898</td>\n",
              "      <td>24</td>\n",
              "      <td>3</td>\n",
              "      <td>2</td>\n",
              "      <td>2.0</td>\n",
              "    </tr>\n",
              "    <tr>\n",
              "      <th>223105</th>\n",
              "      <td>2160484</td>\n",
              "      <td>107525</td>\n",
              "      <td>16</td>\n",
              "      <td>3</td>\n",
              "      <td>2</td>\n",
              "      <td>30.0</td>\n",
              "    </tr>\n",
              "    <tr>\n",
              "      <th>230807</th>\n",
              "      <td>1918001</td>\n",
              "      <td>188546</td>\n",
              "      <td>14</td>\n",
              "      <td>3</td>\n",
              "      <td>2</td>\n",
              "      <td>16.0</td>\n",
              "    </tr>\n",
              "    <tr>\n",
              "      <th>266232</th>\n",
              "      <td>1782114</td>\n",
              "      <td>106752</td>\n",
              "      <td>1</td>\n",
              "      <td>3</td>\n",
              "      <td>2</td>\n",
              "      <td>NaN</td>\n",
              "    </tr>\n",
              "    <tr>\n",
              "      <th>273805</th>\n",
              "      <td>1112182</td>\n",
              "      <td>202304</td>\n",
              "      <td>84</td>\n",
              "      <td>3</td>\n",
              "      <td>2</td>\n",
              "      <td>6.0</td>\n",
              "    </tr>\n",
              "    <tr>\n",
              "      <th>284038</th>\n",
              "      <td>2845099</td>\n",
              "      <td>31189</td>\n",
              "      <td>11</td>\n",
              "      <td>3</td>\n",
              "      <td>2</td>\n",
              "      <td>7.0</td>\n",
              "    </tr>\n",
              "    <tr>\n",
              "      <th>311713</th>\n",
              "      <td>1021560</td>\n",
              "      <td>53767</td>\n",
              "      <td>3</td>\n",
              "      <td>3</td>\n",
              "      <td>2</td>\n",
              "      <td>9.0</td>\n",
              "    </tr>\n",
              "    <tr>\n",
              "      <th>321100</th>\n",
              "      <td>408114</td>\n",
              "      <td>68324</td>\n",
              "      <td>4</td>\n",
              "      <td>3</td>\n",
              "      <td>2</td>\n",
              "      <td>18.0</td>\n",
              "    </tr>\n",
              "    <tr>\n",
              "      <th>323900</th>\n",
              "      <td>1919531</td>\n",
              "      <td>191501</td>\n",
              "      <td>32</td>\n",
              "      <td>3</td>\n",
              "      <td>2</td>\n",
              "      <td>7.0</td>\n",
              "    </tr>\n",
              "    <tr>\n",
              "      <th>345917</th>\n",
              "      <td>2232988</td>\n",
              "      <td>82565</td>\n",
              "      <td>1</td>\n",
              "      <td>3</td>\n",
              "      <td>2</td>\n",
              "      <td>NaN</td>\n",
              "    </tr>\n",
              "    <tr>\n",
              "      <th>371905</th>\n",
              "      <td>391768</td>\n",
              "      <td>57671</td>\n",
              "      <td>19</td>\n",
              "      <td>3</td>\n",
              "      <td>2</td>\n",
              "      <td>10.0</td>\n",
              "    </tr>\n",
              "    <tr>\n",
              "      <th>394347</th>\n",
              "      <td>467134</td>\n",
              "      <td>63189</td>\n",
              "      <td>21</td>\n",
              "      <td>3</td>\n",
              "      <td>2</td>\n",
              "      <td>2.0</td>\n",
              "    </tr>\n",
              "    <tr>\n",
              "      <th>411408</th>\n",
              "      <td>1286742</td>\n",
              "      <td>183220</td>\n",
              "      <td>48</td>\n",
              "      <td>3</td>\n",
              "      <td>2</td>\n",
              "      <td>4.0</td>\n",
              "    </tr>\n",
              "    <tr>\n",
              "      <th>415163</th>\n",
              "      <td>2282673</td>\n",
              "      <td>86751</td>\n",
              "      <td>49</td>\n",
              "      <td>3</td>\n",
              "      <td>2</td>\n",
              "      <td>2.0</td>\n",
              "    </tr>\n",
              "    <tr>\n",
              "      <th>441599</th>\n",
              "      <td>2125197</td>\n",
              "      <td>14050</td>\n",
              "      <td>48</td>\n",
              "      <td>3</td>\n",
              "      <td>2</td>\n",
              "      <td>3.0</td>\n",
              "    </tr>\n",
              "  </tbody>\n",
              "</table>\n",
              "</div>"
            ],
            "text/plain": [
              "        order_id  user_id  order_number  order_dow  order_hour_of_day  \\\n",
              "145574    794638    50898            24          3                  2   \n",
              "223105   2160484   107525            16          3                  2   \n",
              "230807   1918001   188546            14          3                  2   \n",
              "266232   1782114   106752             1          3                  2   \n",
              "273805   1112182   202304            84          3                  2   \n",
              "284038   2845099    31189            11          3                  2   \n",
              "311713   1021560    53767             3          3                  2   \n",
              "321100    408114    68324             4          3                  2   \n",
              "323900   1919531   191501            32          3                  2   \n",
              "345917   2232988    82565             1          3                  2   \n",
              "371905    391768    57671            19          3                  2   \n",
              "394347    467134    63189            21          3                  2   \n",
              "411408   1286742   183220            48          3                  2   \n",
              "415163   2282673    86751            49          3                  2   \n",
              "441599   2125197    14050            48          3                  2   \n",
              "\n",
              "        days_since_prior_order  \n",
              "145574                     2.0  \n",
              "223105                    30.0  \n",
              "230807                    16.0  \n",
              "266232                     NaN  \n",
              "273805                     6.0  \n",
              "284038                     7.0  \n",
              "311713                     9.0  \n",
              "321100                    18.0  \n",
              "323900                     7.0  \n",
              "345917                     NaN  \n",
              "371905                    10.0  \n",
              "394347                     2.0  \n",
              "411408                     4.0  \n",
              "415163                     2.0  \n",
              "441599                     3.0  "
            ]
          },
          "execution_count": 8,
          "metadata": {},
          "output_type": "execute_result"
        }
      ],
      "source": [
        "# Revisa si hay pedidos duplicados\n",
        "orders[orders.duplicated()]"
      ]
    },
    {
      "cell_type": "markdown",
      "id": "b0bddcd0",
      "metadata": {
        "id": "b0bddcd0"
      },
      "source": [
        "¿Tienes líneas duplicadas? Si sí, ¿qué tienen en común?\n",
        "\n",
        "<font style=\"color:green\">\n",
        "\n",
        "¡Tenemos algunas filas duplicadas! Lo que llama la atención de ellas es que todas ocurrieron para los pedidos que se hicieron a las 2:00 a.m. en un miércoles. Para investigar esto, vamos a filtrar la tabla como corresponde.\n",
        "\n",
        "</font>"
      ]
    },
    {
      "cell_type": "code",
      "execution_count": 9,
      "id": "0d44de5d",
      "metadata": {
        "colab": {
          "base_uri": "https://localhost:8080/",
          "height": 424
        },
        "id": "0d44de5d",
        "outputId": "a61da357-40a0-448d-d490-4d71e9634c73"
      },
      "outputs": [
        {
          "data": {
            "text/html": [
              "<div>\n",
              "<style scoped>\n",
              "    .dataframe tbody tr th:only-of-type {\n",
              "        vertical-align: middle;\n",
              "    }\n",
              "\n",
              "    .dataframe tbody tr th {\n",
              "        vertical-align: top;\n",
              "    }\n",
              "\n",
              "    .dataframe thead th {\n",
              "        text-align: right;\n",
              "    }\n",
              "</style>\n",
              "<table border=\"1\" class=\"dataframe\">\n",
              "  <thead>\n",
              "    <tr style=\"text-align: right;\">\n",
              "      <th></th>\n",
              "      <th>order_id</th>\n",
              "      <th>user_id</th>\n",
              "      <th>order_number</th>\n",
              "      <th>order_dow</th>\n",
              "      <th>order_hour_of_day</th>\n",
              "      <th>days_since_prior_order</th>\n",
              "    </tr>\n",
              "  </thead>\n",
              "  <tbody>\n",
              "    <tr>\n",
              "      <th>4838</th>\n",
              "      <td>2766110</td>\n",
              "      <td>162084</td>\n",
              "      <td>41</td>\n",
              "      <td>3</td>\n",
              "      <td>2</td>\n",
              "      <td>16.0</td>\n",
              "    </tr>\n",
              "    <tr>\n",
              "      <th>5156</th>\n",
              "      <td>2190225</td>\n",
              "      <td>138285</td>\n",
              "      <td>18</td>\n",
              "      <td>3</td>\n",
              "      <td>2</td>\n",
              "      <td>11.0</td>\n",
              "    </tr>\n",
              "    <tr>\n",
              "      <th>15506</th>\n",
              "      <td>553049</td>\n",
              "      <td>58599</td>\n",
              "      <td>13</td>\n",
              "      <td>3</td>\n",
              "      <td>2</td>\n",
              "      <td>7.0</td>\n",
              "    </tr>\n",
              "    <tr>\n",
              "      <th>18420</th>\n",
              "      <td>382357</td>\n",
              "      <td>120200</td>\n",
              "      <td>19</td>\n",
              "      <td>3</td>\n",
              "      <td>2</td>\n",
              "      <td>11.0</td>\n",
              "    </tr>\n",
              "    <tr>\n",
              "      <th>24691</th>\n",
              "      <td>690242</td>\n",
              "      <td>77357</td>\n",
              "      <td>2</td>\n",
              "      <td>3</td>\n",
              "      <td>2</td>\n",
              "      <td>9.0</td>\n",
              "    </tr>\n",
              "    <tr>\n",
              "      <th>...</th>\n",
              "      <td>...</td>\n",
              "      <td>...</td>\n",
              "      <td>...</td>\n",
              "      <td>...</td>\n",
              "      <td>...</td>\n",
              "      <td>...</td>\n",
              "    </tr>\n",
              "    <tr>\n",
              "      <th>457013</th>\n",
              "      <td>3384021</td>\n",
              "      <td>14881</td>\n",
              "      <td>6</td>\n",
              "      <td>3</td>\n",
              "      <td>2</td>\n",
              "      <td>30.0</td>\n",
              "    </tr>\n",
              "    <tr>\n",
              "      <th>458816</th>\n",
              "      <td>910166</td>\n",
              "      <td>164782</td>\n",
              "      <td>18</td>\n",
              "      <td>3</td>\n",
              "      <td>2</td>\n",
              "      <td>4.0</td>\n",
              "    </tr>\n",
              "    <tr>\n",
              "      <th>459635</th>\n",
              "      <td>1680532</td>\n",
              "      <td>106435</td>\n",
              "      <td>6</td>\n",
              "      <td>3</td>\n",
              "      <td>2</td>\n",
              "      <td>21.0</td>\n",
              "    </tr>\n",
              "    <tr>\n",
              "      <th>468324</th>\n",
              "      <td>222962</td>\n",
              "      <td>54979</td>\n",
              "      <td>59</td>\n",
              "      <td>3</td>\n",
              "      <td>2</td>\n",
              "      <td>3.0</td>\n",
              "    </tr>\n",
              "    <tr>\n",
              "      <th>477526</th>\n",
              "      <td>2592344</td>\n",
              "      <td>46860</td>\n",
              "      <td>38</td>\n",
              "      <td>3</td>\n",
              "      <td>2</td>\n",
              "      <td>3.0</td>\n",
              "    </tr>\n",
              "  </tbody>\n",
              "</table>\n",
              "<p>121 rows × 6 columns</p>\n",
              "</div>"
            ],
            "text/plain": [
              "        order_id  user_id  order_number  order_dow  order_hour_of_day  \\\n",
              "4838     2766110   162084            41          3                  2   \n",
              "5156     2190225   138285            18          3                  2   \n",
              "15506     553049    58599            13          3                  2   \n",
              "18420     382357   120200            19          3                  2   \n",
              "24691     690242    77357             2          3                  2   \n",
              "...          ...      ...           ...        ...                ...   \n",
              "457013   3384021    14881             6          3                  2   \n",
              "458816    910166   164782            18          3                  2   \n",
              "459635   1680532   106435             6          3                  2   \n",
              "468324    222962    54979            59          3                  2   \n",
              "477526   2592344    46860            38          3                  2   \n",
              "\n",
              "        days_since_prior_order  \n",
              "4838                      16.0  \n",
              "5156                      11.0  \n",
              "15506                      7.0  \n",
              "18420                     11.0  \n",
              "24691                      9.0  \n",
              "...                        ...  \n",
              "457013                    30.0  \n",
              "458816                     4.0  \n",
              "459635                    21.0  \n",
              "468324                     3.0  \n",
              "477526                     3.0  \n",
              "\n",
              "[121 rows x 6 columns]"
            ]
          },
          "execution_count": 9,
          "metadata": {},
          "output_type": "execute_result"
        }
      ],
      "source": [
        "# Basándote en tus hallazgos,\n",
        "# Verifica todos los pedidos que se hicieron el miércoles a las 2:00 a.m.\n",
        "orders[(orders['order_dow'] == 3) & (orders['order_hour_of_day'] == 2)]"
      ]
    },
    {
      "cell_type": "markdown",
      "id": "a703be80",
      "metadata": {
        "id": "a703be80"
      },
      "source": [
        "<font style=\"color:green\">\n",
        "\n",
        "La tabla filtrada anterior es mucho más larga que el número de filas duplicadas. Esto sugiere que hubo algún error del sistema que hizo que los datos del pedido se escribiesen dos veces durante un corto periodo de tiempo, solo en un miércoles en particular. El conjunto de datos no tiene fechas, así que no podemos decir qué miércoles fue.\n",
        "\n",
        "Dado nuestro análisis, nos sentimos cómodos eliminando todas las filas duplicadas. Vamos a reiniciar el índice y reasignaremos el DataFrame procesado a `orders`.\n",
        "\n",
        "Observa que los estudiantes también podrían asignar el DataFrame procesado a una nueva variable.\n",
        "\n",
        "</font>"
      ]
    },
    {
      "cell_type": "code",
      "execution_count": 10,
      "id": "480563c7",
      "metadata": {
        "id": "480563c7"
      },
      "outputs": [],
      "source": [
        "# Elimina los pedidos duplicados\n",
        "orders = orders.drop_duplicates().reset_index(drop=True)"
      ]
    },
    {
      "cell_type": "markdown",
      "id": "036d41a1",
      "metadata": {
        "id": "036d41a1"
      },
      "source": [
        "<font style=\"color:green\">\n",
        "\n",
        "Ahora vamos a revisar para asegurarnos de que ya no hay filas duplicadas.\n",
        "\n",
        "</font>"
      ]
    },
    {
      "cell_type": "code",
      "execution_count": 11,
      "id": "0b2396a2",
      "metadata": {
        "colab": {
          "base_uri": "https://localhost:8080/",
          "height": 49
        },
        "id": "0b2396a2",
        "outputId": "f49705bf-5c4c-48ee-ebaa-abdb653a7999"
      },
      "outputs": [
        {
          "data": {
            "text/html": [
              "<div>\n",
              "<style scoped>\n",
              "    .dataframe tbody tr th:only-of-type {\n",
              "        vertical-align: middle;\n",
              "    }\n",
              "\n",
              "    .dataframe tbody tr th {\n",
              "        vertical-align: top;\n",
              "    }\n",
              "\n",
              "    .dataframe thead th {\n",
              "        text-align: right;\n",
              "    }\n",
              "</style>\n",
              "<table border=\"1\" class=\"dataframe\">\n",
              "  <thead>\n",
              "    <tr style=\"text-align: right;\">\n",
              "      <th></th>\n",
              "      <th>order_id</th>\n",
              "      <th>user_id</th>\n",
              "      <th>order_number</th>\n",
              "      <th>order_dow</th>\n",
              "      <th>order_hour_of_day</th>\n",
              "      <th>days_since_prior_order</th>\n",
              "    </tr>\n",
              "  </thead>\n",
              "  <tbody>\n",
              "  </tbody>\n",
              "</table>\n",
              "</div>"
            ],
            "text/plain": [
              "Empty DataFrame\n",
              "Columns: [order_id, user_id, order_number, order_dow, order_hour_of_day, days_since_prior_order]\n",
              "Index: []"
            ]
          },
          "execution_count": 11,
          "metadata": {},
          "output_type": "execute_result"
        }
      ],
      "source": [
        "# Vuelve a verificar si hay filas duplicadas\n",
        "orders[orders.duplicated()]"
      ]
    },
    {
      "cell_type": "markdown",
      "id": "01a26859",
      "metadata": {
        "id": "01a26859"
      },
      "source": [
        "<font style=\"color:green\">\n",
        "\n",
        "Finalmente, vamos a verificar y asegurarnos de que no hay IDs de pedidos duplicadas. Ya que estas IDs identifican de forma única cada pedido, no debería haber ningún duplicado.\n",
        "\n",
        "</font>"
      ]
    },
    {
      "cell_type": "code",
      "execution_count": 12,
      "id": "f6113ef1",
      "metadata": {
        "colab": {
          "base_uri": "https://localhost:8080/",
          "height": 49
        },
        "id": "f6113ef1",
        "outputId": "f5372731-21b4-44c2-8bd3-dff4cb2cbb9e"
      },
      "outputs": [
        {
          "data": {
            "text/html": [
              "<div>\n",
              "<style scoped>\n",
              "    .dataframe tbody tr th:only-of-type {\n",
              "        vertical-align: middle;\n",
              "    }\n",
              "\n",
              "    .dataframe tbody tr th {\n",
              "        vertical-align: top;\n",
              "    }\n",
              "\n",
              "    .dataframe thead th {\n",
              "        text-align: right;\n",
              "    }\n",
              "</style>\n",
              "<table border=\"1\" class=\"dataframe\">\n",
              "  <thead>\n",
              "    <tr style=\"text-align: right;\">\n",
              "      <th></th>\n",
              "      <th>order_id</th>\n",
              "      <th>user_id</th>\n",
              "      <th>order_number</th>\n",
              "      <th>order_dow</th>\n",
              "      <th>order_hour_of_day</th>\n",
              "      <th>days_since_prior_order</th>\n",
              "    </tr>\n",
              "  </thead>\n",
              "  <tbody>\n",
              "  </tbody>\n",
              "</table>\n",
              "</div>"
            ],
            "text/plain": [
              "Empty DataFrame\n",
              "Columns: [order_id, user_id, order_number, order_dow, order_hour_of_day, days_since_prior_order]\n",
              "Index: []"
            ]
          },
          "execution_count": 12,
          "metadata": {},
          "output_type": "execute_result"
        }
      ],
      "source": [
        "# Vuelve a verificar únicamente si hay IDs duplicados de pedidos\n",
        "orders[orders.duplicated(subset='order_id')]"
      ]
    },
    {
      "cell_type": "markdown",
      "id": "5e8905ae",
      "metadata": {
        "id": "5e8905ae"
      },
      "source": [
        "Parece que fue un miércoles cuando todos los pedidos de las 2:00 a.m. se duplicaron. Eliminamos los pedidos duplicados del conjunto de datos. Observa que hay valores ausentes en la columna `'days_since_prior_order'`. Volveremos a ellos después de ocuparnos de los duplicados en las otras tablas."
      ]
    },
    {
      "cell_type": "markdown",
      "id": "45e6bc46",
      "metadata": {
        "id": "45e6bc46"
      },
      "source": [
        "### `products` data frame"
      ]
    },
    {
      "cell_type": "markdown",
      "id": "aa085492",
      "metadata": {
        "id": "aa085492"
      },
      "source": [
        "<font style=\"color:green\">\n",
        "\n",
        "Después, hacemos la tabla `products`. Nuevamente, comenzamos simplemente revisando si hay filas duplicadas.\n",
        "\n",
        "</font>"
      ]
    },
    {
      "cell_type": "code",
      "execution_count": 13,
      "id": "5f526b5b-8175-46fa-a0fd-441767d50e64",
      "metadata": {
        "colab": {
          "base_uri": "https://localhost:8080/",
          "height": 49
        },
        "id": "5f526b5b-8175-46fa-a0fd-441767d50e64",
        "outputId": "fc0f0aa5-0033-4deb-8202-537b010e7889"
      },
      "outputs": [
        {
          "data": {
            "text/html": [
              "<div>\n",
              "<style scoped>\n",
              "    .dataframe tbody tr th:only-of-type {\n",
              "        vertical-align: middle;\n",
              "    }\n",
              "\n",
              "    .dataframe tbody tr th {\n",
              "        vertical-align: top;\n",
              "    }\n",
              "\n",
              "    .dataframe thead th {\n",
              "        text-align: right;\n",
              "    }\n",
              "</style>\n",
              "<table border=\"1\" class=\"dataframe\">\n",
              "  <thead>\n",
              "    <tr style=\"text-align: right;\">\n",
              "      <th></th>\n",
              "      <th>product_id</th>\n",
              "      <th>product_name</th>\n",
              "      <th>aisle_id</th>\n",
              "      <th>department_id</th>\n",
              "    </tr>\n",
              "  </thead>\n",
              "  <tbody>\n",
              "  </tbody>\n",
              "</table>\n",
              "</div>"
            ],
            "text/plain": [
              "Empty DataFrame\n",
              "Columns: [product_id, product_name, aisle_id, department_id]\n",
              "Index: []"
            ]
          },
          "execution_count": 13,
          "metadata": {},
          "output_type": "execute_result"
        }
      ],
      "source": [
        "# Verifica si hay filas totalmente duplicadas\n",
        "products[products.duplicated()]"
      ]
    },
    {
      "cell_type": "markdown",
      "id": "9290d3a2",
      "metadata": {
        "id": "9290d3a2"
      },
      "source": [
        "<font style=\"color:green\">\n",
        "\n",
        "¡Genial, no hay filas duplicadas! Lo siguiente es revisar si hay identificadores únicos duplicados, en este caso, las IDs de los productos.\n",
        "\n",
        "</font>"
      ]
    },
    {
      "cell_type": "code",
      "execution_count": 14,
      "id": "88daa4f4",
      "metadata": {
        "colab": {
          "base_uri": "https://localhost:8080/",
          "height": 49
        },
        "id": "88daa4f4",
        "outputId": "2435cfb6-3659-4517-e615-a80e4036a5eb"
      },
      "outputs": [
        {
          "data": {
            "text/html": [
              "<div>\n",
              "<style scoped>\n",
              "    .dataframe tbody tr th:only-of-type {\n",
              "        vertical-align: middle;\n",
              "    }\n",
              "\n",
              "    .dataframe tbody tr th {\n",
              "        vertical-align: top;\n",
              "    }\n",
              "\n",
              "    .dataframe thead th {\n",
              "        text-align: right;\n",
              "    }\n",
              "</style>\n",
              "<table border=\"1\" class=\"dataframe\">\n",
              "  <thead>\n",
              "    <tr style=\"text-align: right;\">\n",
              "      <th></th>\n",
              "      <th>product_id</th>\n",
              "      <th>product_name</th>\n",
              "      <th>aisle_id</th>\n",
              "      <th>department_id</th>\n",
              "    </tr>\n",
              "  </thead>\n",
              "  <tbody>\n",
              "  </tbody>\n",
              "</table>\n",
              "</div>"
            ],
            "text/plain": [
              "Empty DataFrame\n",
              "Columns: [product_id, product_name, aisle_id, department_id]\n",
              "Index: []"
            ]
          },
          "execution_count": 14,
          "metadata": {},
          "output_type": "execute_result"
        }
      ],
      "source": [
        "# Verifica únicamente si hay IDs duplicadas de productos\n",
        "products[products.duplicated(subset='product_id')]"
      ]
    },
    {
      "cell_type": "markdown",
      "id": "90a621ef",
      "metadata": {
        "id": "90a621ef"
      },
      "source": [
        "<font style=\"color:green\">\n",
        "\n",
        "En este punto, probablemente está bien si el estudiante afirma que no hay ningún duplicado y pasa a la siguiente tabla. Sin embargo, aquí hacemos un poco más de investigación al revisar si hay nombres duplicados de productos.\n",
        "\n",
        "</font>"
      ]
    },
    {
      "cell_type": "code",
      "execution_count": 15,
      "id": "c773f0bf",
      "metadata": {
        "colab": {
          "base_uri": "https://localhost:8080/",
          "height": 424
        },
        "id": "c773f0bf",
        "outputId": "03364e07-0c3b-4660-fe76-72baabbcb8d7"
      },
      "outputs": [
        {
          "data": {
            "text/html": [
              "<div>\n",
              "<style scoped>\n",
              "    .dataframe tbody tr th:only-of-type {\n",
              "        vertical-align: middle;\n",
              "    }\n",
              "\n",
              "    .dataframe tbody tr th {\n",
              "        vertical-align: top;\n",
              "    }\n",
              "\n",
              "    .dataframe thead th {\n",
              "        text-align: right;\n",
              "    }\n",
              "</style>\n",
              "<table border=\"1\" class=\"dataframe\">\n",
              "  <thead>\n",
              "    <tr style=\"text-align: right;\">\n",
              "      <th></th>\n",
              "      <th>product_id</th>\n",
              "      <th>product_name</th>\n",
              "      <th>aisle_id</th>\n",
              "      <th>department_id</th>\n",
              "    </tr>\n",
              "  </thead>\n",
              "  <tbody>\n",
              "    <tr>\n",
              "      <th>71</th>\n",
              "      <td>72</td>\n",
              "      <td>NaN</td>\n",
              "      <td>100</td>\n",
              "      <td>21</td>\n",
              "    </tr>\n",
              "    <tr>\n",
              "      <th>109</th>\n",
              "      <td>110</td>\n",
              "      <td>NaN</td>\n",
              "      <td>100</td>\n",
              "      <td>21</td>\n",
              "    </tr>\n",
              "    <tr>\n",
              "      <th>296</th>\n",
              "      <td>297</td>\n",
              "      <td>NaN</td>\n",
              "      <td>100</td>\n",
              "      <td>21</td>\n",
              "    </tr>\n",
              "    <tr>\n",
              "      <th>416</th>\n",
              "      <td>417</td>\n",
              "      <td>NaN</td>\n",
              "      <td>100</td>\n",
              "      <td>21</td>\n",
              "    </tr>\n",
              "    <tr>\n",
              "      <th>436</th>\n",
              "      <td>437</td>\n",
              "      <td>NaN</td>\n",
              "      <td>100</td>\n",
              "      <td>21</td>\n",
              "    </tr>\n",
              "    <tr>\n",
              "      <th>...</th>\n",
              "      <td>...</td>\n",
              "      <td>...</td>\n",
              "      <td>...</td>\n",
              "      <td>...</td>\n",
              "    </tr>\n",
              "    <tr>\n",
              "      <th>49689</th>\n",
              "      <td>49690</td>\n",
              "      <td>HIGH PERFORMANCE ENERGY DRINK</td>\n",
              "      <td>64</td>\n",
              "      <td>7</td>\n",
              "    </tr>\n",
              "    <tr>\n",
              "      <th>49690</th>\n",
              "      <td>49691</td>\n",
              "      <td>ORIGINAL PANCAKE &amp; WAFFLE MIX</td>\n",
              "      <td>130</td>\n",
              "      <td>14</td>\n",
              "    </tr>\n",
              "    <tr>\n",
              "      <th>49691</th>\n",
              "      <td>49692</td>\n",
              "      <td>ORGANIC INSTANT OATMEAL LIGHT MAPLE BROWN SUGAR</td>\n",
              "      <td>130</td>\n",
              "      <td>14</td>\n",
              "    </tr>\n",
              "    <tr>\n",
              "      <th>49692</th>\n",
              "      <td>49693</td>\n",
              "      <td>SPRING WATER BODY WASH</td>\n",
              "      <td>127</td>\n",
              "      <td>11</td>\n",
              "    </tr>\n",
              "    <tr>\n",
              "      <th>49693</th>\n",
              "      <td>49694</td>\n",
              "      <td>BURRITO- STEAK &amp; CHEESE</td>\n",
              "      <td>38</td>\n",
              "      <td>1</td>\n",
              "    </tr>\n",
              "  </tbody>\n",
              "</table>\n",
              "<p>1361 rows × 4 columns</p>\n",
              "</div>"
            ],
            "text/plain": [
              "       product_id                                     product_name  aisle_id  \\\n",
              "71             72                                              NaN       100   \n",
              "109           110                                              NaN       100   \n",
              "296           297                                              NaN       100   \n",
              "416           417                                              NaN       100   \n",
              "436           437                                              NaN       100   \n",
              "...           ...                                              ...       ...   \n",
              "49689       49690                    HIGH PERFORMANCE ENERGY DRINK        64   \n",
              "49690       49691                    ORIGINAL PANCAKE & WAFFLE MIX       130   \n",
              "49691       49692  ORGANIC INSTANT OATMEAL LIGHT MAPLE BROWN SUGAR       130   \n",
              "49692       49693                           SPRING WATER BODY WASH       127   \n",
              "49693       49694                          BURRITO- STEAK & CHEESE        38   \n",
              "\n",
              "       department_id  \n",
              "71                21  \n",
              "109               21  \n",
              "296               21  \n",
              "416               21  \n",
              "436               21  \n",
              "...              ...  \n",
              "49689              7  \n",
              "49690             14  \n",
              "49691             14  \n",
              "49692             11  \n",
              "49693              1  \n",
              "\n",
              "[1361 rows x 4 columns]"
            ]
          },
          "execution_count": 15,
          "metadata": {},
          "output_type": "execute_result"
        }
      ],
      "source": [
        "# Revisa únicamente si hay nombres duplicados de productos (convierte los nombres a letras mayúsculas para compararlos mejor)\n",
        "products[products['product_name'].str.lower().duplicated()]"
      ]
    },
    {
      "cell_type": "markdown",
      "id": "164dcc8b",
      "metadata": {
        "id": "164dcc8b"
      },
      "source": [
        "<font style=\"color:green\">\n",
        "\n",
        "Hay muchas filas con valores ausentes para el nombre de producto en nuestro resultado filtrado. Vamos a filtrar aún más para excluir estas filas.\n",
        "\n",
        "</font>"
      ]
    },
    {
      "cell_type": "code",
      "execution_count": 16,
      "id": "01efd02e",
      "metadata": {
        "colab": {
          "base_uri": "https://localhost:8080/",
          "height": 424
        },
        "id": "01efd02e",
        "outputId": "5138a0af-94a4-4aae-c2c9-a7bedf832ff7"
      },
      "outputs": [
        {
          "data": {
            "text/html": [
              "<div>\n",
              "<style scoped>\n",
              "    .dataframe tbody tr th:only-of-type {\n",
              "        vertical-align: middle;\n",
              "    }\n",
              "\n",
              "    .dataframe tbody tr th {\n",
              "        vertical-align: top;\n",
              "    }\n",
              "\n",
              "    .dataframe thead th {\n",
              "        text-align: right;\n",
              "    }\n",
              "</style>\n",
              "<table border=\"1\" class=\"dataframe\">\n",
              "  <thead>\n",
              "    <tr style=\"text-align: right;\">\n",
              "      <th></th>\n",
              "      <th>product_id</th>\n",
              "      <th>product_name</th>\n",
              "      <th>aisle_id</th>\n",
              "      <th>department_id</th>\n",
              "    </tr>\n",
              "  </thead>\n",
              "  <tbody>\n",
              "    <tr>\n",
              "      <th>2058</th>\n",
              "      <td>2059</td>\n",
              "      <td>Biotin 1000 Mcg</td>\n",
              "      <td>47</td>\n",
              "      <td>11</td>\n",
              "    </tr>\n",
              "    <tr>\n",
              "      <th>5455</th>\n",
              "      <td>5456</td>\n",
              "      <td>Green Tea With Ginseng and Honey</td>\n",
              "      <td>96</td>\n",
              "      <td>20</td>\n",
              "    </tr>\n",
              "    <tr>\n",
              "      <th>5558</th>\n",
              "      <td>5559</td>\n",
              "      <td>Cream Of Mushroom Soup</td>\n",
              "      <td>69</td>\n",
              "      <td>15</td>\n",
              "    </tr>\n",
              "    <tr>\n",
              "      <th>7558</th>\n",
              "      <td>7559</td>\n",
              "      <td>Cinnamon Rolls with Icing</td>\n",
              "      <td>105</td>\n",
              "      <td>13</td>\n",
              "    </tr>\n",
              "    <tr>\n",
              "      <th>9037</th>\n",
              "      <td>9038</td>\n",
              "      <td>American Cheese slices</td>\n",
              "      <td>21</td>\n",
              "      <td>16</td>\n",
              "    </tr>\n",
              "    <tr>\n",
              "      <th>...</th>\n",
              "      <td>...</td>\n",
              "      <td>...</td>\n",
              "      <td>...</td>\n",
              "      <td>...</td>\n",
              "    </tr>\n",
              "    <tr>\n",
              "      <th>49689</th>\n",
              "      <td>49690</td>\n",
              "      <td>HIGH PERFORMANCE ENERGY DRINK</td>\n",
              "      <td>64</td>\n",
              "      <td>7</td>\n",
              "    </tr>\n",
              "    <tr>\n",
              "      <th>49690</th>\n",
              "      <td>49691</td>\n",
              "      <td>ORIGINAL PANCAKE &amp; WAFFLE MIX</td>\n",
              "      <td>130</td>\n",
              "      <td>14</td>\n",
              "    </tr>\n",
              "    <tr>\n",
              "      <th>49691</th>\n",
              "      <td>49692</td>\n",
              "      <td>ORGANIC INSTANT OATMEAL LIGHT MAPLE BROWN SUGAR</td>\n",
              "      <td>130</td>\n",
              "      <td>14</td>\n",
              "    </tr>\n",
              "    <tr>\n",
              "      <th>49692</th>\n",
              "      <td>49693</td>\n",
              "      <td>SPRING WATER BODY WASH</td>\n",
              "      <td>127</td>\n",
              "      <td>11</td>\n",
              "    </tr>\n",
              "    <tr>\n",
              "      <th>49693</th>\n",
              "      <td>49694</td>\n",
              "      <td>BURRITO- STEAK &amp; CHEESE</td>\n",
              "      <td>38</td>\n",
              "      <td>1</td>\n",
              "    </tr>\n",
              "  </tbody>\n",
              "</table>\n",
              "<p>104 rows × 4 columns</p>\n",
              "</div>"
            ],
            "text/plain": [
              "       product_id                                     product_name  aisle_id  \\\n",
              "2058         2059                                  Biotin 1000 Mcg        47   \n",
              "5455         5456                 Green Tea With Ginseng and Honey        96   \n",
              "5558         5559                           Cream Of Mushroom Soup        69   \n",
              "7558         7559                        Cinnamon Rolls with Icing       105   \n",
              "9037         9038                           American Cheese slices        21   \n",
              "...           ...                                              ...       ...   \n",
              "49689       49690                    HIGH PERFORMANCE ENERGY DRINK        64   \n",
              "49690       49691                    ORIGINAL PANCAKE & WAFFLE MIX       130   \n",
              "49691       49692  ORGANIC INSTANT OATMEAL LIGHT MAPLE BROWN SUGAR       130   \n",
              "49692       49693                           SPRING WATER BODY WASH       127   \n",
              "49693       49694                          BURRITO- STEAK & CHEESE        38   \n",
              "\n",
              "       department_id  \n",
              "2058              11  \n",
              "5455              20  \n",
              "5558              15  \n",
              "7558              13  \n",
              "9037              16  \n",
              "...              ...  \n",
              "49689              7  \n",
              "49690             14  \n",
              "49691             14  \n",
              "49692             11  \n",
              "49693              1  \n",
              "\n",
              "[104 rows x 4 columns]"
            ]
          },
          "execution_count": 16,
          "metadata": {},
          "output_type": "execute_result"
        }
      ],
      "source": [
        "# Verifica si hay nombres duplicados de productos no faltantes.\n",
        "products[~(products['product_name'].isna()) & (products['product_name'].str.lower().duplicated())]"
      ]
    },
    {
      "cell_type": "markdown",
      "id": "9da8d293",
      "metadata": {
        "id": "9da8d293"
      },
      "source": [
        "Parece que hay muchos productos en el conjunto de datos que tienen el mismo nombre, pero distintas IDs de producto. Probablemente, son productos diferentes, así que no los trataremos como duplicados. Por lo tanto, la tabla `products` no contiene valores duplicados."
      ]
    },
    {
      "cell_type": "markdown",
      "id": "f24ceb89",
      "metadata": {
        "id": "f24ceb89"
      },
      "source": [
        "<font style=\"color:green\">\n",
        "\n",
        "Ahora, para las tablas `departments`, `aisles` y `order_products`. Hacemos una verificación estándar para las filas totalmente duplicadas y después solo para los duplicados de las IDs únicas. Ninguna de las tablas tiene valores duplicados.\n",
        "\n",
        "</font>"
      ]
    },
    {
      "cell_type": "markdown",
      "id": "60f30db1",
      "metadata": {
        "id": "60f30db1"
      },
      "source": [
        "### `departments` data frame"
      ]
    },
    {
      "cell_type": "code",
      "execution_count": 17,
      "id": "fb410ad4-0fbf-4b80-bb09-23fdea79afe3",
      "metadata": {
        "colab": {
          "base_uri": "https://localhost:8080/",
          "height": 49
        },
        "id": "fb410ad4-0fbf-4b80-bb09-23fdea79afe3",
        "outputId": "91eb2131-f207-4edf-dd78-f48acc49b0d9"
      },
      "outputs": [
        {
          "data": {
            "text/html": [
              "<div>\n",
              "<style scoped>\n",
              "    .dataframe tbody tr th:only-of-type {\n",
              "        vertical-align: middle;\n",
              "    }\n",
              "\n",
              "    .dataframe tbody tr th {\n",
              "        vertical-align: top;\n",
              "    }\n",
              "\n",
              "    .dataframe thead th {\n",
              "        text-align: right;\n",
              "    }\n",
              "</style>\n",
              "<table border=\"1\" class=\"dataframe\">\n",
              "  <thead>\n",
              "    <tr style=\"text-align: right;\">\n",
              "      <th></th>\n",
              "      <th>department_id</th>\n",
              "      <th>department</th>\n",
              "    </tr>\n",
              "  </thead>\n",
              "  <tbody>\n",
              "  </tbody>\n",
              "</table>\n",
              "</div>"
            ],
            "text/plain": [
              "Empty DataFrame\n",
              "Columns: [department_id, department]\n",
              "Index: []"
            ]
          },
          "execution_count": 17,
          "metadata": {},
          "output_type": "execute_result"
        }
      ],
      "source": [
        "departments[departments.duplicated()]"
      ]
    },
    {
      "cell_type": "code",
      "execution_count": 18,
      "id": "332b12bb",
      "metadata": {
        "colab": {
          "base_uri": "https://localhost:8080/",
          "height": 49
        },
        "id": "332b12bb",
        "outputId": "65e2c254-e831-454d-a3e7-7c8993694ad8"
      },
      "outputs": [
        {
          "data": {
            "text/html": [
              "<div>\n",
              "<style scoped>\n",
              "    .dataframe tbody tr th:only-of-type {\n",
              "        vertical-align: middle;\n",
              "    }\n",
              "\n",
              "    .dataframe tbody tr th {\n",
              "        vertical-align: top;\n",
              "    }\n",
              "\n",
              "    .dataframe thead th {\n",
              "        text-align: right;\n",
              "    }\n",
              "</style>\n",
              "<table border=\"1\" class=\"dataframe\">\n",
              "  <thead>\n",
              "    <tr style=\"text-align: right;\">\n",
              "      <th></th>\n",
              "      <th>department_id</th>\n",
              "      <th>department</th>\n",
              "    </tr>\n",
              "  </thead>\n",
              "  <tbody>\n",
              "  </tbody>\n",
              "</table>\n",
              "</div>"
            ],
            "text/plain": [
              "Empty DataFrame\n",
              "Columns: [department_id, department]\n",
              "Index: []"
            ]
          },
          "execution_count": 18,
          "metadata": {},
          "output_type": "execute_result"
        }
      ],
      "source": [
        "departments[departments.duplicated(subset='department_id')]"
      ]
    },
    {
      "cell_type": "markdown",
      "id": "bd30d78e",
      "metadata": {
        "id": "bd30d78e"
      },
      "source": [
        "No hay valores duplicados en la tabla `departments`."
      ]
    },
    {
      "cell_type": "markdown",
      "id": "889349c1",
      "metadata": {
        "id": "889349c1"
      },
      "source": [
        "### `aisles` data frame"
      ]
    },
    {
      "cell_type": "code",
      "execution_count": 19,
      "id": "9da89fb9-4679-40f5-ad0d-c34df753a3f8",
      "metadata": {
        "colab": {
          "base_uri": "https://localhost:8080/",
          "height": 49
        },
        "id": "9da89fb9-4679-40f5-ad0d-c34df753a3f8",
        "outputId": "8509a41a-228c-4def-e18e-5b66cb75c90d"
      },
      "outputs": [
        {
          "data": {
            "text/html": [
              "<div>\n",
              "<style scoped>\n",
              "    .dataframe tbody tr th:only-of-type {\n",
              "        vertical-align: middle;\n",
              "    }\n",
              "\n",
              "    .dataframe tbody tr th {\n",
              "        vertical-align: top;\n",
              "    }\n",
              "\n",
              "    .dataframe thead th {\n",
              "        text-align: right;\n",
              "    }\n",
              "</style>\n",
              "<table border=\"1\" class=\"dataframe\">\n",
              "  <thead>\n",
              "    <tr style=\"text-align: right;\">\n",
              "      <th></th>\n",
              "      <th>aisle_id</th>\n",
              "      <th>aisle</th>\n",
              "    </tr>\n",
              "  </thead>\n",
              "  <tbody>\n",
              "  </tbody>\n",
              "</table>\n",
              "</div>"
            ],
            "text/plain": [
              "Empty DataFrame\n",
              "Columns: [aisle_id, aisle]\n",
              "Index: []"
            ]
          },
          "execution_count": 19,
          "metadata": {},
          "output_type": "execute_result"
        }
      ],
      "source": [
        "aisles[aisles.duplicated()]"
      ]
    },
    {
      "cell_type": "code",
      "execution_count": 20,
      "id": "da7c2822",
      "metadata": {
        "colab": {
          "base_uri": "https://localhost:8080/",
          "height": 49
        },
        "id": "da7c2822",
        "outputId": "e830270d-39bd-4952-e8e8-9865d7f8dca4"
      },
      "outputs": [
        {
          "data": {
            "text/html": [
              "<div>\n",
              "<style scoped>\n",
              "    .dataframe tbody tr th:only-of-type {\n",
              "        vertical-align: middle;\n",
              "    }\n",
              "\n",
              "    .dataframe tbody tr th {\n",
              "        vertical-align: top;\n",
              "    }\n",
              "\n",
              "    .dataframe thead th {\n",
              "        text-align: right;\n",
              "    }\n",
              "</style>\n",
              "<table border=\"1\" class=\"dataframe\">\n",
              "  <thead>\n",
              "    <tr style=\"text-align: right;\">\n",
              "      <th></th>\n",
              "      <th>aisle_id</th>\n",
              "      <th>aisle</th>\n",
              "    </tr>\n",
              "  </thead>\n",
              "  <tbody>\n",
              "  </tbody>\n",
              "</table>\n",
              "</div>"
            ],
            "text/plain": [
              "Empty DataFrame\n",
              "Columns: [aisle_id, aisle]\n",
              "Index: []"
            ]
          },
          "execution_count": 20,
          "metadata": {},
          "output_type": "execute_result"
        }
      ],
      "source": [
        "aisles[aisles.duplicated(subset='aisle_id')]"
      ]
    },
    {
      "cell_type": "markdown",
      "id": "ac63826f",
      "metadata": {
        "id": "ac63826f"
      },
      "source": [
        "No valores duplicados en la tabla `aisles`."
      ]
    },
    {
      "cell_type": "markdown",
      "id": "274cd06a",
      "metadata": {
        "id": "274cd06a"
      },
      "source": [
        "### `order_products` data frame"
      ]
    },
    {
      "cell_type": "markdown",
      "id": "022da91e",
      "metadata": {
        "id": "022da91e"
      },
      "source": [
        "<font style=\"color:green\">\n",
        "\n",
        "Finalmente, tenemos la enorme tabla  `order_products`. Primero, revisa si hay filas totalmente duplicadas.\n",
        "\n",
        "</font>"
      ]
    },
    {
      "cell_type": "code",
      "execution_count": 21,
      "id": "52326689-84a8-4b8f-a881-7c68780f62c9",
      "metadata": {
        "colab": {
          "base_uri": "https://localhost:8080/",
          "height": 49
        },
        "id": "52326689-84a8-4b8f-a881-7c68780f62c9",
        "outputId": "6e727d4d-906a-49d9-9037-0bb59274f394"
      },
      "outputs": [
        {
          "data": {
            "text/html": [
              "<div>\n",
              "<style scoped>\n",
              "    .dataframe tbody tr th:only-of-type {\n",
              "        vertical-align: middle;\n",
              "    }\n",
              "\n",
              "    .dataframe tbody tr th {\n",
              "        vertical-align: top;\n",
              "    }\n",
              "\n",
              "    .dataframe thead th {\n",
              "        text-align: right;\n",
              "    }\n",
              "</style>\n",
              "<table border=\"1\" class=\"dataframe\">\n",
              "  <thead>\n",
              "    <tr style=\"text-align: right;\">\n",
              "      <th></th>\n",
              "      <th>order_id</th>\n",
              "      <th>product_id</th>\n",
              "      <th>add_to_cart_order</th>\n",
              "      <th>reordered</th>\n",
              "    </tr>\n",
              "  </thead>\n",
              "  <tbody>\n",
              "  </tbody>\n",
              "</table>\n",
              "</div>"
            ],
            "text/plain": [
              "Empty DataFrame\n",
              "Columns: [order_id, product_id, add_to_cart_order, reordered]\n",
              "Index: []"
            ]
          },
          "execution_count": 21,
          "metadata": {},
          "output_type": "execute_result"
        }
      ],
      "source": [
        "# Revisa si hay filas totalmente duplicadas\n",
        "order_products[order_products.duplicated()]"
      ]
    },
    {
      "cell_type": "markdown",
      "id": "438e2061",
      "metadata": {
        "id": "438e2061"
      },
      "source": [
        "<font style=\"color:green\">\n",
        "\n",
        "Para esta tabla, es un poco complicado revisar si hay identificadores únicos duplicados, ya que no hay una única columna que identifique cada fila de manera exclusiva. En cambio, lo que debe ser único en esta tabla es la combinación de las columnas `'order_id'` y `'product_id'`, ya que ningún producto debe aparecer más de una vez para cada pedido.\n",
        "\n",
        "Revisar si hay duplicados en el subconjunto de aquellas columnas nos dice que tampoco hay ningún duplicado en esta tabla. ¡A los valores ausentes!\n",
        "\n",
        "</font>"
      ]
    },
    {
      "cell_type": "code",
      "execution_count": 22,
      "id": "7b861391",
      "metadata": {
        "colab": {
          "base_uri": "https://localhost:8080/",
          "height": 49
        },
        "id": "7b861391",
        "outputId": "61980a46-ca9a-407e-9e96-d35efb7c0711"
      },
      "outputs": [
        {
          "data": {
            "text/html": [
              "<div>\n",
              "<style scoped>\n",
              "    .dataframe tbody tr th:only-of-type {\n",
              "        vertical-align: middle;\n",
              "    }\n",
              "\n",
              "    .dataframe tbody tr th {\n",
              "        vertical-align: top;\n",
              "    }\n",
              "\n",
              "    .dataframe thead th {\n",
              "        text-align: right;\n",
              "    }\n",
              "</style>\n",
              "<table border=\"1\" class=\"dataframe\">\n",
              "  <thead>\n",
              "    <tr style=\"text-align: right;\">\n",
              "      <th></th>\n",
              "      <th>order_id</th>\n",
              "      <th>product_id</th>\n",
              "      <th>add_to_cart_order</th>\n",
              "      <th>reordered</th>\n",
              "    </tr>\n",
              "  </thead>\n",
              "  <tbody>\n",
              "  </tbody>\n",
              "</table>\n",
              "</div>"
            ],
            "text/plain": [
              "Empty DataFrame\n",
              "Columns: [order_id, product_id, add_to_cart_order, reordered]\n",
              "Index: []"
            ]
          },
          "execution_count": 22,
          "metadata": {},
          "output_type": "execute_result"
        }
      ],
      "source": [
        "# Vuelve a verificar si hay cualquier otro duplicado engañoso\n",
        "order_products[order_products.duplicated(subset=['order_id', 'product_id'])]"
      ]
    },
    {
      "cell_type": "markdown",
      "id": "0b890492",
      "metadata": {
        "id": "0b890492"
      },
      "source": [
        "No hay valores duplicados en la tabla `order_products`."
      ]
    },
    {
      "cell_type": "markdown",
      "id": "1e46de76",
      "metadata": {
        "id": "1e46de76"
      },
      "source": [
        "## Encuentra y elimina los valores ausentes\n",
        "\n",
        "Al trabajar con valores duplicados, pudimos observar que también nos falta investigar valores ausentes:\n",
        "\n",
        "* La columna `'product_name'` de la tabla products.\n",
        "* La columna `'days_since_prior_order'` de la tabla orders.\n",
        "* La columna `'add_to_cart_order'` de la tabla order_productos."
      ]
    },
    {
      "cell_type": "markdown",
      "id": "c0aebd78",
      "metadata": {
        "id": "c0aebd78"
      },
      "source": [
        "### `products` data frame"
      ]
    },
    {
      "cell_type": "markdown",
      "id": "964cf6e4",
      "metadata": {
        "id": "964cf6e4"
      },
      "source": [
        "<font style=\"color:green\">\n",
        "\n",
        "Ahora que nos hemos encargado de los duplicados, nos ocuparemos de los valores ausentes DataFrame por DataFrame.\n",
        "\n",
        "Comenzaremos con la tabla `products`, que tiene valores ausentes solo en la columna `'product_name'`. Un buen lugar para empezar es visualizar únicamente las filas en donde falta ese valor.\n",
        "\n",
        "</font>"
      ]
    },
    {
      "cell_type": "code",
      "execution_count": 23,
      "id": "fe4a8b0f",
      "metadata": {
        "colab": {
          "base_uri": "https://localhost:8080/",
          "height": 424
        },
        "id": "fe4a8b0f",
        "outputId": "42e307c3-8d20-4953-cad6-e575286c3b19"
      },
      "outputs": [
        {
          "data": {
            "text/html": [
              "<div>\n",
              "<style scoped>\n",
              "    .dataframe tbody tr th:only-of-type {\n",
              "        vertical-align: middle;\n",
              "    }\n",
              "\n",
              "    .dataframe tbody tr th {\n",
              "        vertical-align: top;\n",
              "    }\n",
              "\n",
              "    .dataframe thead th {\n",
              "        text-align: right;\n",
              "    }\n",
              "</style>\n",
              "<table border=\"1\" class=\"dataframe\">\n",
              "  <thead>\n",
              "    <tr style=\"text-align: right;\">\n",
              "      <th></th>\n",
              "      <th>product_id</th>\n",
              "      <th>product_name</th>\n",
              "      <th>aisle_id</th>\n",
              "      <th>department_id</th>\n",
              "    </tr>\n",
              "  </thead>\n",
              "  <tbody>\n",
              "    <tr>\n",
              "      <th>37</th>\n",
              "      <td>38</td>\n",
              "      <td>NaN</td>\n",
              "      <td>100</td>\n",
              "      <td>21</td>\n",
              "    </tr>\n",
              "    <tr>\n",
              "      <th>71</th>\n",
              "      <td>72</td>\n",
              "      <td>NaN</td>\n",
              "      <td>100</td>\n",
              "      <td>21</td>\n",
              "    </tr>\n",
              "    <tr>\n",
              "      <th>109</th>\n",
              "      <td>110</td>\n",
              "      <td>NaN</td>\n",
              "      <td>100</td>\n",
              "      <td>21</td>\n",
              "    </tr>\n",
              "    <tr>\n",
              "      <th>296</th>\n",
              "      <td>297</td>\n",
              "      <td>NaN</td>\n",
              "      <td>100</td>\n",
              "      <td>21</td>\n",
              "    </tr>\n",
              "    <tr>\n",
              "      <th>416</th>\n",
              "      <td>417</td>\n",
              "      <td>NaN</td>\n",
              "      <td>100</td>\n",
              "      <td>21</td>\n",
              "    </tr>\n",
              "    <tr>\n",
              "      <th>...</th>\n",
              "      <td>...</td>\n",
              "      <td>...</td>\n",
              "      <td>...</td>\n",
              "      <td>...</td>\n",
              "    </tr>\n",
              "    <tr>\n",
              "      <th>49552</th>\n",
              "      <td>49553</td>\n",
              "      <td>NaN</td>\n",
              "      <td>100</td>\n",
              "      <td>21</td>\n",
              "    </tr>\n",
              "    <tr>\n",
              "      <th>49574</th>\n",
              "      <td>49575</td>\n",
              "      <td>NaN</td>\n",
              "      <td>100</td>\n",
              "      <td>21</td>\n",
              "    </tr>\n",
              "    <tr>\n",
              "      <th>49640</th>\n",
              "      <td>49641</td>\n",
              "      <td>NaN</td>\n",
              "      <td>100</td>\n",
              "      <td>21</td>\n",
              "    </tr>\n",
              "    <tr>\n",
              "      <th>49663</th>\n",
              "      <td>49664</td>\n",
              "      <td>NaN</td>\n",
              "      <td>100</td>\n",
              "      <td>21</td>\n",
              "    </tr>\n",
              "    <tr>\n",
              "      <th>49668</th>\n",
              "      <td>49669</td>\n",
              "      <td>NaN</td>\n",
              "      <td>100</td>\n",
              "      <td>21</td>\n",
              "    </tr>\n",
              "  </tbody>\n",
              "</table>\n",
              "<p>1258 rows × 4 columns</p>\n",
              "</div>"
            ],
            "text/plain": [
              "       product_id product_name  aisle_id  department_id\n",
              "37             38          NaN       100             21\n",
              "71             72          NaN       100             21\n",
              "109           110          NaN       100             21\n",
              "296           297          NaN       100             21\n",
              "416           417          NaN       100             21\n",
              "...           ...          ...       ...            ...\n",
              "49552       49553          NaN       100             21\n",
              "49574       49575          NaN       100             21\n",
              "49640       49641          NaN       100             21\n",
              "49663       49664          NaN       100             21\n",
              "49668       49669          NaN       100             21\n",
              "\n",
              "[1258 rows x 4 columns]"
            ]
          },
          "execution_count": 23,
          "metadata": {},
          "output_type": "execute_result"
        }
      ],
      "source": [
        "# Encuentra los valores ausentes en la columna 'product_name'\n",
        "products[products['product_name'].isna()]"
      ]
    },
    {
      "cell_type": "markdown",
      "id": "f581cea5",
      "metadata": {
        "id": "f581cea5"
      },
      "source": [
        "<font style=\"color:green\">\n",
        "\n",
        "Es posible que haya un patrón. Parece que la ID del pasillo y la ID del departamento es la mismo para cada fila a la que le falta un nombre de producto. Verifiquemos esto usando código.\n",
        "\n",
        "Observa que los estudiantes también pueden hacer esto con una línea de código, pero está dividido entre dos celdas.\n",
        "\n",
        "</font>"
      ]
    },
    {
      "cell_type": "code",
      "execution_count": 24,
      "id": "e96167bc",
      "metadata": {
        "colab": {
          "base_uri": "https://localhost:8080/",
          "height": 49
        },
        "id": "e96167bc",
        "outputId": "ec97ea96-f685-46d9-a1c8-1f1366e9c312"
      },
      "outputs": [
        {
          "data": {
            "text/html": [
              "<div>\n",
              "<style scoped>\n",
              "    .dataframe tbody tr th:only-of-type {\n",
              "        vertical-align: middle;\n",
              "    }\n",
              "\n",
              "    .dataframe tbody tr th {\n",
              "        vertical-align: top;\n",
              "    }\n",
              "\n",
              "    .dataframe thead th {\n",
              "        text-align: right;\n",
              "    }\n",
              "</style>\n",
              "<table border=\"1\" class=\"dataframe\">\n",
              "  <thead>\n",
              "    <tr style=\"text-align: right;\">\n",
              "      <th></th>\n",
              "      <th>product_id</th>\n",
              "      <th>product_name</th>\n",
              "      <th>aisle_id</th>\n",
              "      <th>department_id</th>\n",
              "    </tr>\n",
              "  </thead>\n",
              "  <tbody>\n",
              "  </tbody>\n",
              "</table>\n",
              "</div>"
            ],
            "text/plain": [
              "Empty DataFrame\n",
              "Columns: [product_id, product_name, aisle_id, department_id]\n",
              "Index: []"
            ]
          },
          "execution_count": 24,
          "metadata": {},
          "output_type": "execute_result"
        }
      ],
      "source": [
        "# ¿Todos los nombres de productos ausentes están relacionados con el pasillo con ID 100?\n",
        "products[(products['product_name'].isna()) & (products['aisle_id'] != 100)]"
      ]
    },
    {
      "cell_type": "code",
      "execution_count": 25,
      "id": "8fd0a541",
      "metadata": {
        "colab": {
          "base_uri": "https://localhost:8080/",
          "height": 49
        },
        "id": "8fd0a541",
        "outputId": "f9df87bc-410d-45e5-db38-716ee83c84db"
      },
      "outputs": [
        {
          "data": {
            "text/html": [
              "<div>\n",
              "<style scoped>\n",
              "    .dataframe tbody tr th:only-of-type {\n",
              "        vertical-align: middle;\n",
              "    }\n",
              "\n",
              "    .dataframe tbody tr th {\n",
              "        vertical-align: top;\n",
              "    }\n",
              "\n",
              "    .dataframe thead th {\n",
              "        text-align: right;\n",
              "    }\n",
              "</style>\n",
              "<table border=\"1\" class=\"dataframe\">\n",
              "  <thead>\n",
              "    <tr style=\"text-align: right;\">\n",
              "      <th></th>\n",
              "      <th>product_id</th>\n",
              "      <th>product_name</th>\n",
              "      <th>aisle_id</th>\n",
              "      <th>department_id</th>\n",
              "    </tr>\n",
              "  </thead>\n",
              "  <tbody>\n",
              "  </tbody>\n",
              "</table>\n",
              "</div>"
            ],
            "text/plain": [
              "Empty DataFrame\n",
              "Columns: [product_id, product_name, aisle_id, department_id]\n",
              "Index: []"
            ]
          },
          "execution_count": 25,
          "metadata": {},
          "output_type": "execute_result"
        }
      ],
      "source": [
        "# ¿Todos los nombres de productos ausentes están relacionados con el departamento con ID 21?\n",
        "products[(products['product_name'].isna()) & (products['department_id'] != 21)]"
      ]
    },
    {
      "cell_type": "markdown",
      "id": "662c4e22",
      "metadata": {
        "id": "662c4e22"
      },
      "source": [
        "<font style=\"color:green\">\n",
        "\n",
        "Así es, cada nombre de producto ausente es del departamento 21 y del pasillo 100. Vamos a usar las tablas `department` y `aisle` para revisar a qué se refieren estas IDs.\n",
        "\n",
        "</font>"
      ]
    },
    {
      "cell_type": "code",
      "execution_count": 26,
      "id": "325c3464",
      "metadata": {
        "colab": {
          "base_uri": "https://localhost:8080/"
        },
        "id": "325c3464",
        "outputId": "36d58708-394e-43e9-c980-1eef22debc42"
      },
      "outputs": [
        {
          "name": "stdout",
          "output_type": "stream",
          "text": [
            "20    missing\n",
            "Name: department, dtype: object\n",
            "\n",
            "99    missing\n",
            "Name: aisle, dtype: object\n"
          ]
        }
      ],
      "source": [
        "# Usa las tablas department y aisle para revisar los datos del pasillo con ID 100 y el departamento con ID 21.\n",
        "print(departments[departments['department_id'] == 21]['department'])\n",
        "print()\n",
        "print(aisles[aisles['aisle_id'] == 100]['aisle'])"
      ]
    },
    {
      "cell_type": "markdown",
      "id": "e428bf66",
      "metadata": {
        "id": "e428bf66"
      },
      "source": [
        "<font style=\"color:green\">\n",
        "\n",
        "Tanto aisle como department están etiquetadas como `'missing'`. Estos deben ser datos basura, pero no podemos saberlo a ciencia cierta con los datos que tenemos. Reemplacemos los nombres de productos ausentes con `'Unknown'` y llevemos a cabo nuestro análisis. Después, llamaremos `info()` para asegurarnos de que no hayan quedado valores ausentes.\n",
        "\n",
        "</font>"
      ]
    },
    {
      "cell_type": "code",
      "execution_count": 27,
      "id": "6b295120",
      "metadata": {
        "colab": {
          "base_uri": "https://localhost:8080/"
        },
        "id": "6b295120",
        "outputId": "d5a28087-bc1a-4f70-ab6f-5313ff804f09"
      },
      "outputs": [
        {
          "name": "stdout",
          "output_type": "stream",
          "text": [
            "<class 'pandas.core.frame.DataFrame'>\n",
            "RangeIndex: 49694 entries, 0 to 49693\n",
            "Data columns (total 4 columns):\n",
            " #   Column         Non-Null Count  Dtype \n",
            "---  ------         --------------  ----- \n",
            " 0   product_id     49694 non-null  int64 \n",
            " 1   product_name   49694 non-null  object\n",
            " 2   aisle_id       49694 non-null  int64 \n",
            " 3   department_id  49694 non-null  int64 \n",
            "dtypes: int64(3), object(1)\n",
            "memory usage: 1.5+ MB\n"
          ]
        }
      ],
      "source": [
        "# Completa los nombres de productos ausentes con 'Unknown'\n",
        "products['product_name'] = products['product_name'].fillna('Unknown')\n",
        "products.info()"
      ]
    },
    {
      "cell_type": "markdown",
      "id": "fc70e5ad",
      "metadata": {
        "id": "fc70e5ad"
      },
      "source": [
        "Todos los nombres de productos ausentes tienen una etiqueta `'missing'` para sus departamentos y pasillos correspondientes. Teniendo en cuenta los datos que tenemos, no podemos determinar cómo se llaman estos productos. Así que decidimos remplazar los valores ausentes con el string `'Unknown'`."
      ]
    },
    {
      "cell_type": "markdown",
      "id": "7eb45c86",
      "metadata": {
        "id": "7eb45c86"
      },
      "source": [
        "### `orders` data frame"
      ]
    },
    {
      "cell_type": "markdown",
      "id": "70bbd350",
      "metadata": {
        "id": "70bbd350"
      },
      "source": [
        "<font style=\"color:green\">\n",
        "\n",
        "Ahora nos ocuparemos de la tabla `orders`, que solo tiene valores ausentes en la columna `'days_since_prior_order'`. De nuevo, vamos a visualizar únicamente las filas en donde el valor está ausente.\n",
        "\n",
        "</font>"
      ]
    },
    {
      "cell_type": "code",
      "execution_count": 28,
      "id": "93e41d96",
      "metadata": {
        "colab": {
          "base_uri": "https://localhost:8080/",
          "height": 424
        },
        "id": "93e41d96",
        "outputId": "88ee6f4f-d9a3-4d65-afdb-b2ec09564c46"
      },
      "outputs": [
        {
          "data": {
            "text/html": [
              "<div>\n",
              "<style scoped>\n",
              "    .dataframe tbody tr th:only-of-type {\n",
              "        vertical-align: middle;\n",
              "    }\n",
              "\n",
              "    .dataframe tbody tr th {\n",
              "        vertical-align: top;\n",
              "    }\n",
              "\n",
              "    .dataframe thead th {\n",
              "        text-align: right;\n",
              "    }\n",
              "</style>\n",
              "<table border=\"1\" class=\"dataframe\">\n",
              "  <thead>\n",
              "    <tr style=\"text-align: right;\">\n",
              "      <th></th>\n",
              "      <th>order_id</th>\n",
              "      <th>user_id</th>\n",
              "      <th>order_number</th>\n",
              "      <th>order_dow</th>\n",
              "      <th>order_hour_of_day</th>\n",
              "      <th>days_since_prior_order</th>\n",
              "    </tr>\n",
              "  </thead>\n",
              "  <tbody>\n",
              "    <tr>\n",
              "      <th>28</th>\n",
              "      <td>133707</td>\n",
              "      <td>182261</td>\n",
              "      <td>1</td>\n",
              "      <td>3</td>\n",
              "      <td>10</td>\n",
              "      <td>NaN</td>\n",
              "    </tr>\n",
              "    <tr>\n",
              "      <th>96</th>\n",
              "      <td>787445</td>\n",
              "      <td>25685</td>\n",
              "      <td>1</td>\n",
              "      <td>6</td>\n",
              "      <td>18</td>\n",
              "      <td>NaN</td>\n",
              "    </tr>\n",
              "    <tr>\n",
              "      <th>100</th>\n",
              "      <td>294410</td>\n",
              "      <td>111449</td>\n",
              "      <td>1</td>\n",
              "      <td>0</td>\n",
              "      <td>19</td>\n",
              "      <td>NaN</td>\n",
              "    </tr>\n",
              "    <tr>\n",
              "      <th>103</th>\n",
              "      <td>2869915</td>\n",
              "      <td>123958</td>\n",
              "      <td>1</td>\n",
              "      <td>4</td>\n",
              "      <td>16</td>\n",
              "      <td>NaN</td>\n",
              "    </tr>\n",
              "    <tr>\n",
              "      <th>104</th>\n",
              "      <td>2521921</td>\n",
              "      <td>42286</td>\n",
              "      <td>1</td>\n",
              "      <td>3</td>\n",
              "      <td>18</td>\n",
              "      <td>NaN</td>\n",
              "    </tr>\n",
              "    <tr>\n",
              "      <th>...</th>\n",
              "      <td>...</td>\n",
              "      <td>...</td>\n",
              "      <td>...</td>\n",
              "      <td>...</td>\n",
              "      <td>...</td>\n",
              "      <td>...</td>\n",
              "    </tr>\n",
              "    <tr>\n",
              "      <th>478880</th>\n",
              "      <td>2589657</td>\n",
              "      <td>205028</td>\n",
              "      <td>1</td>\n",
              "      <td>0</td>\n",
              "      <td>16</td>\n",
              "      <td>NaN</td>\n",
              "    </tr>\n",
              "    <tr>\n",
              "      <th>478881</th>\n",
              "      <td>2222353</td>\n",
              "      <td>141211</td>\n",
              "      <td>1</td>\n",
              "      <td>2</td>\n",
              "      <td>13</td>\n",
              "      <td>NaN</td>\n",
              "    </tr>\n",
              "    <tr>\n",
              "      <th>478907</th>\n",
              "      <td>2272807</td>\n",
              "      <td>204154</td>\n",
              "      <td>1</td>\n",
              "      <td>1</td>\n",
              "      <td>15</td>\n",
              "      <td>NaN</td>\n",
              "    </tr>\n",
              "    <tr>\n",
              "      <th>478911</th>\n",
              "      <td>2499542</td>\n",
              "      <td>68810</td>\n",
              "      <td>1</td>\n",
              "      <td>4</td>\n",
              "      <td>19</td>\n",
              "      <td>NaN</td>\n",
              "    </tr>\n",
              "    <tr>\n",
              "      <th>478930</th>\n",
              "      <td>1387033</td>\n",
              "      <td>22496</td>\n",
              "      <td>1</td>\n",
              "      <td>5</td>\n",
              "      <td>14</td>\n",
              "      <td>NaN</td>\n",
              "    </tr>\n",
              "  </tbody>\n",
              "</table>\n",
              "<p>28817 rows × 6 columns</p>\n",
              "</div>"
            ],
            "text/plain": [
              "        order_id  user_id  order_number  order_dow  order_hour_of_day  \\\n",
              "28        133707   182261             1          3                 10   \n",
              "96        787445    25685             1          6                 18   \n",
              "100       294410   111449             1          0                 19   \n",
              "103      2869915   123958             1          4                 16   \n",
              "104      2521921    42286             1          3                 18   \n",
              "...          ...      ...           ...        ...                ...   \n",
              "478880   2589657   205028             1          0                 16   \n",
              "478881   2222353   141211             1          2                 13   \n",
              "478907   2272807   204154             1          1                 15   \n",
              "478911   2499542    68810             1          4                 19   \n",
              "478930   1387033    22496             1          5                 14   \n",
              "\n",
              "        days_since_prior_order  \n",
              "28                         NaN  \n",
              "96                         NaN  \n",
              "100                        NaN  \n",
              "103                        NaN  \n",
              "104                        NaN  \n",
              "...                        ...  \n",
              "478880                     NaN  \n",
              "478881                     NaN  \n",
              "478907                     NaN  \n",
              "478911                     NaN  \n",
              "478930                     NaN  \n",
              "\n",
              "[28817 rows x 6 columns]"
            ]
          },
          "execution_count": 28,
          "metadata": {},
          "output_type": "execute_result"
        }
      ],
      "source": [
        "# Encuentra los valores ausentes\n",
        "orders[orders['days_since_prior_order'].isna()]"
      ]
    },
    {
      "cell_type": "markdown",
      "id": "ce7c4577",
      "metadata": {
        "id": "ce7c4577"
      },
      "source": [
        "<font style=\"color:green\">\n",
        "\n",
        "A primera vista, parece que estos valores ausentes están en las filas que corresponden al primer pedido de los clientes. Verifiquemos con el código.\n",
        "\n",
        "</font>"
      ]
    },
    {
      "cell_type": "code",
      "execution_count": 29,
      "id": "166e5a86",
      "metadata": {
        "colab": {
          "base_uri": "https://localhost:8080/",
          "height": 49
        },
        "id": "166e5a86",
        "outputId": "648bdf2b-c094-404e-d0e8-f4743ff4e313"
      },
      "outputs": [
        {
          "data": {
            "text/html": [
              "<div>\n",
              "<style scoped>\n",
              "    .dataframe tbody tr th:only-of-type {\n",
              "        vertical-align: middle;\n",
              "    }\n",
              "\n",
              "    .dataframe tbody tr th {\n",
              "        vertical-align: top;\n",
              "    }\n",
              "\n",
              "    .dataframe thead th {\n",
              "        text-align: right;\n",
              "    }\n",
              "</style>\n",
              "<table border=\"1\" class=\"dataframe\">\n",
              "  <thead>\n",
              "    <tr style=\"text-align: right;\">\n",
              "      <th></th>\n",
              "      <th>order_id</th>\n",
              "      <th>user_id</th>\n",
              "      <th>order_number</th>\n",
              "      <th>order_dow</th>\n",
              "      <th>order_hour_of_day</th>\n",
              "      <th>days_since_prior_order</th>\n",
              "    </tr>\n",
              "  </thead>\n",
              "  <tbody>\n",
              "  </tbody>\n",
              "</table>\n",
              "</div>"
            ],
            "text/plain": [
              "Empty DataFrame\n",
              "Columns: [order_id, user_id, order_number, order_dow, order_hour_of_day, days_since_prior_order]\n",
              "Index: []"
            ]
          },
          "execution_count": 29,
          "metadata": {},
          "output_type": "execute_result"
        }
      ],
      "source": [
        "# ¿Hay algún valor ausente que no sea el primer pedido del cliente?\n",
        "orders[(orders['days_since_prior_order'].isna()) & (orders['order_number'] != 1)]"
      ]
    },
    {
      "cell_type": "markdown",
      "id": "4e23d089",
      "metadata": {
        "id": "4e23d089"
      },
      "source": [
        "Todos los valores `'days_since_prior_order'` ausentes corresponden a la primera compra de los clientes. ¡Esto tiene sentido porque no existe un pedido anterior! Dejaremos los valores como `NaN` para que la columna pueda permanecer como numérica. Además, los valores `NaN` no deberían interferir con ningún cálculo que podamos hacer usando esta columna."
      ]
    },
    {
      "cell_type": "markdown",
      "id": "69dc9ca4",
      "metadata": {
        "id": "69dc9ca4"
      },
      "source": [
        "### `order_products` data frame"
      ]
    },
    {
      "cell_type": "markdown",
      "id": "f4b3bf15",
      "metadata": {
        "id": "f4b3bf15"
      },
      "source": [
        "<font style=\"color:green\">\n",
        "\n",
        "Finalmente, tenemos valores ausentes en la columna `'add_to_cart_order'` de la tabla `order_products`. Como en un procedimiento estándar, comenzamos visualizando solo las filas con valores ausentes.\n",
        "\n",
        "</font>"
      ]
    },
    {
      "cell_type": "code",
      "execution_count": 30,
      "id": "b8240253",
      "metadata": {
        "colab": {
          "base_uri": "https://localhost:8080/",
          "height": 424
        },
        "id": "b8240253",
        "outputId": "fb7174e1-b0b5-4a4c-a890-f8f00886171c"
      },
      "outputs": [
        {
          "data": {
            "text/html": [
              "<div>\n",
              "<style scoped>\n",
              "    .dataframe tbody tr th:only-of-type {\n",
              "        vertical-align: middle;\n",
              "    }\n",
              "\n",
              "    .dataframe tbody tr th {\n",
              "        vertical-align: top;\n",
              "    }\n",
              "\n",
              "    .dataframe thead th {\n",
              "        text-align: right;\n",
              "    }\n",
              "</style>\n",
              "<table border=\"1\" class=\"dataframe\">\n",
              "  <thead>\n",
              "    <tr style=\"text-align: right;\">\n",
              "      <th></th>\n",
              "      <th>order_id</th>\n",
              "      <th>product_id</th>\n",
              "      <th>add_to_cart_order</th>\n",
              "      <th>reordered</th>\n",
              "    </tr>\n",
              "  </thead>\n",
              "  <tbody>\n",
              "    <tr>\n",
              "      <th>737</th>\n",
              "      <td>2449164</td>\n",
              "      <td>5068</td>\n",
              "      <td>NaN</td>\n",
              "      <td>0</td>\n",
              "    </tr>\n",
              "    <tr>\n",
              "      <th>9926</th>\n",
              "      <td>1968313</td>\n",
              "      <td>43867</td>\n",
              "      <td>NaN</td>\n",
              "      <td>0</td>\n",
              "    </tr>\n",
              "    <tr>\n",
              "      <th>14394</th>\n",
              "      <td>2926893</td>\n",
              "      <td>11688</td>\n",
              "      <td>NaN</td>\n",
              "      <td>0</td>\n",
              "    </tr>\n",
              "    <tr>\n",
              "      <th>16418</th>\n",
              "      <td>1717990</td>\n",
              "      <td>4142</td>\n",
              "      <td>NaN</td>\n",
              "      <td>0</td>\n",
              "    </tr>\n",
              "    <tr>\n",
              "      <th>30114</th>\n",
              "      <td>1959075</td>\n",
              "      <td>42828</td>\n",
              "      <td>NaN</td>\n",
              "      <td>1</td>\n",
              "    </tr>\n",
              "    <tr>\n",
              "      <th>...</th>\n",
              "      <td>...</td>\n",
              "      <td>...</td>\n",
              "      <td>...</td>\n",
              "      <td>...</td>\n",
              "    </tr>\n",
              "    <tr>\n",
              "      <th>4505662</th>\n",
              "      <td>1800005</td>\n",
              "      <td>7411</td>\n",
              "      <td>NaN</td>\n",
              "      <td>0</td>\n",
              "    </tr>\n",
              "    <tr>\n",
              "      <th>4511400</th>\n",
              "      <td>1633337</td>\n",
              "      <td>260</td>\n",
              "      <td>NaN</td>\n",
              "      <td>0</td>\n",
              "    </tr>\n",
              "    <tr>\n",
              "      <th>4517562</th>\n",
              "      <td>404157</td>\n",
              "      <td>9517</td>\n",
              "      <td>NaN</td>\n",
              "      <td>0</td>\n",
              "    </tr>\n",
              "    <tr>\n",
              "      <th>4534112</th>\n",
              "      <td>1673227</td>\n",
              "      <td>17835</td>\n",
              "      <td>NaN</td>\n",
              "      <td>0</td>\n",
              "    </tr>\n",
              "    <tr>\n",
              "      <th>4535739</th>\n",
              "      <td>1832957</td>\n",
              "      <td>17949</td>\n",
              "      <td>NaN</td>\n",
              "      <td>1</td>\n",
              "    </tr>\n",
              "  </tbody>\n",
              "</table>\n",
              "<p>836 rows × 4 columns</p>\n",
              "</div>"
            ],
            "text/plain": [
              "         order_id  product_id  add_to_cart_order  reordered\n",
              "737       2449164        5068                NaN          0\n",
              "9926      1968313       43867                NaN          0\n",
              "14394     2926893       11688                NaN          0\n",
              "16418     1717990        4142                NaN          0\n",
              "30114     1959075       42828                NaN          1\n",
              "...           ...         ...                ...        ...\n",
              "4505662   1800005        7411                NaN          0\n",
              "4511400   1633337         260                NaN          0\n",
              "4517562    404157        9517                NaN          0\n",
              "4534112   1673227       17835                NaN          0\n",
              "4535739   1832957       17949                NaN          1\n",
              "\n",
              "[836 rows x 4 columns]"
            ]
          },
          "execution_count": 30,
          "metadata": {},
          "output_type": "execute_result"
        }
      ],
      "source": [
        "# Encuentra los valores ausentes\n",
        "order_products[order_products['add_to_cart_order'].isna()]"
      ]
    },
    {
      "cell_type": "markdown",
      "id": "bbc901cd",
      "metadata": {
        "id": "bbc901cd"
      },
      "source": [
        "<font style=\"color:green\">\n",
        "\n",
        "Aquí no hay ningún patrón obvio. Investiguemos un poco más mirando con más detenimiento los valores de la columna `'add_to_cart_order'`. Podemos usar `describe()` o `min()`, `max()`, etc.\n",
        "\n",
        "</font>"
      ]
    },
    {
      "cell_type": "code",
      "execution_count": 31,
      "id": "9a78e5ee",
      "metadata": {
        "colab": {
          "base_uri": "https://localhost:8080/"
        },
        "id": "9a78e5ee",
        "outputId": "ba4a8fae-825c-41b8-f6a8-15b5072af93c"
      },
      "outputs": [
        {
          "name": "stdout",
          "output_type": "stream",
          "text": [
            "1.0\n",
            "64.0\n"
          ]
        }
      ],
      "source": [
        "# ¿Cuáles son los valores mínimos y máximos en esta columna?\n",
        "print(order_products['add_to_cart_order'].min())\n",
        "print(order_products['add_to_cart_order'].max())"
      ]
    },
    {
      "cell_type": "markdown",
      "id": "0f5555fc",
      "metadata": {
        "id": "0f5555fc"
      },
      "source": [
        "<font style=\"color:green\">\n",
        "\n",
        "Un valor mínimo de 1 tiene sentido porque cada pedido necesita, al menos, 1 artículo. Pero, un valor máximo de 64 resulta un tanto curioso. No hay ninguna razón (que no sea mera suerte) para que cualquiera pidiera más de 64 artículos en un pedido.\n",
        "\n",
        "Además, 64 enciende las alarmas porque es un número de base 2 muy común que surgen con asuntos de informática. Esta es una pista de que quizás el tipo database para esa columna solo admite almacenamiento de 64 bits. Pero no esperamos que nuestros estudiantes sepan esto.\n",
        "\n",
        "Vamos a verificar si cada pedido con valores ausentes tiene más de 64 artículos en ella. Podemos hacer esto filtrando la tabla para que solo incluya IDs de pedidos con un valor ausente en la columna `'add_to_cart_order'`. Esto es difícil porque queremos mantener todas las filas para cada uno de esos pedidos, y no únicamente las filas con valores ausentes.\n",
        "\n",
        "Hacer una lista de las IDs de pedidos que se relacionan con un valor ausente nos podría ayudar.\n",
        "\n",
        "</font>"
      ]
    },
    {
      "cell_type": "code",
      "execution_count": 32,
      "id": "ab9d0c2b",
      "metadata": {
        "id": "ab9d0c2b"
      },
      "outputs": [],
      "source": [
        "# Guarda todas las IDs de pedidos que tengan un valor ausente en 'add_to_cart_order'\n",
        "miss_cart_order_ids = sorted(list(order_products[order_products['add_to_cart_order'].isna()]['order_id'].unique()))"
      ]
    },
    {
      "cell_type": "markdown",
      "id": "9620d55a",
      "metadata": {
        "id": "9620d55a"
      },
      "source": [
        "<font style=\"color:green\">\n",
        "\n",
        "Ahora solo nos resta filtrar la tabla de modo que la ID de pedido esté en la lista `miss_cart_order_ids`, agrupa por ID, y utiliza el método `size()` o `count()` para contar el número de filas en cada grupo (cada fila corresponde a un artículo en el pedido).\n",
        "\n",
        "Debemos encontrar el número mínimo de artículos de todos estos pedidos. Una manera de hacerlo es simplemente ordenar los resultados en orden ascendente.\n",
        "\n",
        "</font>"
      ]
    },
    {
      "cell_type": "code",
      "execution_count": 33,
      "id": "54c31695",
      "metadata": {
        "colab": {
          "base_uri": "https://localhost:8080/"
        },
        "id": "54c31695",
        "outputId": "81567f12-dd03-4dbe-f812-74604278ec0e"
      },
      "outputs": [
        {
          "data": {
            "text/plain": [
              "65"
            ]
          },
          "execution_count": 33,
          "metadata": {},
          "output_type": "execute_result"
        }
      ],
      "source": [
        "# ¿Todos los pedidos con valores ausentes tienen más de 64 productos?\n",
        "# Agrupa todos los pedidos con datos ausentes por su ID de pedido.\n",
        "# Cuenta el número de 'product_id' en cada pedido y revisa el valor mínimo del conteo.\n",
        "orders_grp = order_products[order_products['order_id'].isin(miss_cart_order_ids)].groupby('order_id')\n",
        "orders_grp['product_id'].count().min()"
      ]
    },
    {
      "cell_type": "markdown",
      "id": "52033683",
      "metadata": {
        "id": "52033683"
      },
      "source": [
        "<font style=\"color:green\">\n",
        "\n",
        "Como era de esperarse, cada pedido relacionado con un valor ausente tiene más de 64 artículos en ella.\n",
        "\n",
        "Ya que no podemos saber en qué pedido se agregaron al carrito los artículos con valores ausentes para aquellos pedidos con más de 65 artículos, completaremos los valores ausentes con un valor de marcador de posición numérico que no pueda confundirse con daros reales; por ejemplo, 999.\n",
        "\n",
        "Ahora que ya hemos completado todos los valores ausentes, no hay más `NaN` en la columna, así que podemos convertirlo de `float` a `int`. Tiene sentido que sean enteros para que se pueda sumar el pedido del carrito.\n",
        "\n",
        "Llamamos `info()` para asegurarnos de que los valores ausentes estén llenos y que el tipo de datos se haya convertido.\n",
        "\n",
        "Los estudiantes podrían elegir aquí ocuparse de sus valores ausentes de manera distinta, lo que está bien.\n",
        "\n",
        "</font>"
      ]
    },
    {
      "cell_type": "code",
      "execution_count": 34,
      "id": "7a987d08",
      "metadata": {
        "colab": {
          "base_uri": "https://localhost:8080/"
        },
        "id": "7a987d08",
        "outputId": "96f0e31b-d7ad-4d0a-b70e-17c286a9c735"
      },
      "outputs": [
        {
          "name": "stdout",
          "output_type": "stream",
          "text": [
            "<class 'pandas.core.frame.DataFrame'>\n",
            "RangeIndex: 4545007 entries, 0 to 4545006\n",
            "Data columns (total 4 columns):\n",
            " #   Column             Non-Null Count    Dtype\n",
            "---  ------             --------------    -----\n",
            " 0   order_id           4545007 non-null  int64\n",
            " 1   product_id         4545007 non-null  int64\n",
            " 2   add_to_cart_order  4545007 non-null  int32\n",
            " 3   reordered          4545007 non-null  int64\n",
            "dtypes: int32(1), int64(3)\n",
            "memory usage: 121.4 MB\n"
          ]
        }
      ],
      "source": [
        "# Remplaza los valores ausentes en la columna 'add_to_cart? con 999 y convierte la columna al tipo entero.\n",
        "order_products['add_to_cart_order'] = order_products['add_to_cart_order'].fillna(999).astype('int')\n",
        "order_products.info(show_counts=True)"
      ]
    },
    {
      "cell_type": "markdown",
      "id": "fea4bcc7",
      "metadata": {
        "id": "fea4bcc7"
      },
      "source": [
        "Por alguna razón, cualquier artículo que haya sido el sexagésimo quinto o posterior en añadirse al carrito tiene un valor ausente en la columna `'add_to_cart_order'`. Podría ser que los tipos de datos de aquella columna en la base de datos solo pudieran contener valores enteros del 1 al 64. Decidimos remplazar los valores ausentes con un valor de código, 999, que representa un unknown en los pedidos mayores a 64. También convertimos la columna al tipo de datos entero. Solo debemos recordar esto si realizamos cálculos usando esta columna durante nuestro análisis.\n",
        "\n",
        "Otros valores de código razonables que podríamos haber usado son 0 o -1, ya que no se muestran en ninguna otra parte del conjunto de datos y no tienen ningún significado físico real para esta variable.\n",
        "\n",
        "También observa que, para los pedidos con exactamente 65 artículos, pudimos remplazar el valor ausente con 65. Pero olvidemos eso por ahora, ya que no podemos determinar cuál es el sexagésimo quinto artículo para todas los pedidos con 66 artículos o más."
      ]
    },
    {
      "cell_type": "markdown",
      "id": "t75BD19oaR5f",
      "metadata": {
        "id": "t75BD19oaR5f"
      },
      "source": [
        "## Conclusiones\n",
        "\n",
        "Escribe aquí tus conclusiones\n"
      ]
    },
    {
      "cell_type": "markdown",
      "id": "turkish-kidney",
      "metadata": {
        "id": "turkish-kidney"
      },
      "source": [
        "# [A] Fácil (hay que completar todo para aprobar)"
      ]
    },
    {
      "cell_type": "markdown",
      "id": "short-capability",
      "metadata": {
        "id": "short-capability"
      },
      "source": [
        "### [A1] Verifica que los valores en las columnas `'order_hour_of_day'` y `'order_dow'` en la tabla orders sean sensibles (es decir, `'order_hour_of_day'` oscile entre 0 y 23 y `'order_dow'` oscile entre 0 y 6)."
      ]
    },
    {
      "cell_type": "markdown",
      "id": "a46bbcf7",
      "metadata": {
        "id": "a46bbcf7"
      },
      "source": [
        "<font style=\"color:green\">\n",
        "\n",
        "Hay 24 horas en un día, y 7 días en una semana. Esperamos que los valores en las columnas `'order_hour_of_day'` y `'order_dow'` reflejen esto. Una manera directa de hacer esto es mostrar los valores únicos en cada columna. La salida no tiene que estar ordenada, pero el ordenamiento los hace más fácil de leer.\n",
        "\n",
        "Todo parece estar en su lugar, así que podemos continuar.\n",
        "\n",
        "</font>"
      ]
    },
    {
      "cell_type": "code",
      "execution_count": 35,
      "id": "growing-fruit",
      "metadata": {
        "colab": {
          "base_uri": "https://localhost:8080/"
        },
        "id": "growing-fruit",
        "outputId": "bb1c53e9-b29d-4836-d138-8f2a529c5264"
      },
      "outputs": [
        {
          "data": {
            "text/plain": [
              "[0,\n",
              " 1,\n",
              " 2,\n",
              " 3,\n",
              " 4,\n",
              " 5,\n",
              " 6,\n",
              " 7,\n",
              " 8,\n",
              " 9,\n",
              " 10,\n",
              " 11,\n",
              " 12,\n",
              " 13,\n",
              " 14,\n",
              " 15,\n",
              " 16,\n",
              " 17,\n",
              " 18,\n",
              " 19,\n",
              " 20,\n",
              " 21,\n",
              " 22,\n",
              " 23]"
            ]
          },
          "execution_count": 35,
          "metadata": {},
          "output_type": "execute_result"
        }
      ],
      "source": [
        "sorted(orders['order_hour_of_day'].unique())"
      ]
    },
    {
      "cell_type": "code",
      "execution_count": 36,
      "id": "accessory-malaysia",
      "metadata": {
        "colab": {
          "base_uri": "https://localhost:8080/"
        },
        "id": "accessory-malaysia",
        "outputId": "ab4bde46-671e-49a3-b6e8-26fe1c8b328d"
      },
      "outputs": [
        {
          "data": {
            "text/plain": [
              "[0, 1, 2, 3, 4, 5, 6]"
            ]
          },
          "execution_count": 36,
          "metadata": {},
          "output_type": "execute_result"
        }
      ],
      "source": [
        "sorted(orders['order_dow'].unique())"
      ]
    },
    {
      "cell_type": "markdown",
      "id": "a6743a70",
      "metadata": {
        "id": "a6743a70"
      },
      "source": [
        "### [A2] ¿A qué hora del día compran víveres las personas?"
      ]
    },
    {
      "cell_type": "markdown",
      "id": "888d47da",
      "metadata": {
        "id": "888d47da"
      },
      "source": [
        "<font style=\"color:green\">\n",
        "\n",
        "Queremos graficar el número de pedidos realizados para cada hora del día. Una gráfica de barras es muy buena para esto, pues en nuestros datos la hora del día es una variable discreta.\n",
        "\n",
        "Ya que cada fila en `orders` corresponde a una orden única, podemos simplemente contar cuántas veces ocurre cada hora del día en `orders` y trazar el resultado en un gráfico de barras.\n",
        "\n",
        "Como `value_counts()` devuelve como su índice un objeto Series con los valores `'order_hour_of_day'` únicos, debemos llamar `sort_index()` para asegurarnos de que las barras del eje X se tracen en el orden adecuado.\n",
        "\n",
        "Debemos animar a los estudiantes a que también incluyan `plt.show()` en cada celda con un gráfico.\n",
        "\n",
        "</font>"
      ]
    },
    {
      "cell_type": "code",
      "execution_count": 37,
      "id": "a36cca27",
      "metadata": {
        "colab": {
          "base_uri": "https://localhost:8080/",
          "height": 475
        },
        "id": "a36cca27",
        "outputId": "98ae422f-7cf6-46a1-8d88-5f295f020eb6"
      },
      "outputs": [
        {
          "data": {
            "image/png": "[encoded data removed]",
            "text/plain": [
              "<Figure size 640x480 with 1 Axes>"
            ]
          },
          "metadata": {},
          "output_type": "display_data"
        }
      ],
      "source": [
        "hour_of_day_counts = orders['order_hour_of_day'].value_counts().sort_index()\n",
        "hour_of_day_counts.plot(kind='bar',\n",
        "                        title='Pedidos por hora del día',\n",
        "                        xlabel='Hora del día',\n",
        "                        ylabel='Número de pedidos'\n",
        "                       )\n",
        "plt.show()"
      ]
    },
    {
      "cell_type": "markdown",
      "id": "11270eed",
      "metadata": {
        "id": "11270eed"
      },
      "source": [
        "La mayoría de los pedidos se hacen entre las 9:00 a.m. y las 5 p.m., con picos a las 10:00 a.m. y 3:00 p.m."
      ]
    },
    {
      "cell_type": "markdown",
      "id": "documented-command",
      "metadata": {
        "id": "documented-command"
      },
      "source": [
        "### [A3] ¿Qué día de la semana compran víveres las personas?"
      ]
    },
    {
      "cell_type": "markdown",
      "id": "1df46819",
      "metadata": {
        "id": "1df46819"
      },
      "source": [
        "<font style=\"color:green\">\n",
        "\n",
        "Esta pregunta es muy parecida a la anterior. La única diferencia es que vamos a trazar barras para la columna `'order_dow'`.\n",
        "\n",
        "</font>"
      ]
    },
    {
      "cell_type": "code",
      "execution_count": 38,
      "id": "chief-digit",
      "metadata": {
        "colab": {
          "base_uri": "https://localhost:8080/",
          "height": 467
        },
        "id": "chief-digit",
        "outputId": "aa850a17-0dd2-43d3-be61-80b344bf4c7e"
      },
      "outputs": [
        {
          "data": {
            "image/png": "[encoded data removed]",
            "text/plain": [
              "<Figure size 640x480 with 1 Axes>"
            ]
          },
          "metadata": {},
          "output_type": "display_data"
        }
      ],
      "source": [
        "day_of_week_counts = orders['order_dow'].value_counts().sort_index()\n",
        "day_of_week_counts.plot(kind='bar',\n",
        "                        title='Pedidos por día de la semana',\n",
        "                        xlabel='Día de la semana',\n",
        "                        ylabel='Número de pedidos'\n",
        "                       )\n",
        "plt.show()"
      ]
    },
    {
      "cell_type": "markdown",
      "id": "dominant-lightning",
      "metadata": {
        "id": "dominant-lightning"
      },
      "source": [
        "El diccionario de datos no especifica qué entero corresponde a qué día de la semana. Este especifica que domingo = 0, entonces las personas hicieron más pedidos al inicio de la semana (domingo y lunes)."
      ]
    },
    {
      "cell_type": "markdown",
      "id": "cutting-concert",
      "metadata": {
        "id": "cutting-concert"
      },
      "source": [
        "### [A4] ¿Cuánto tiempo esperan las personas hasta hacer otro pedido?"
      ]
    },
    {
      "cell_type": "markdown",
      "id": "4bd75ffc",
      "metadata": {
        "id": "4bd75ffc"
      },
      "source": [
        "<font style=\"color:green\">\n",
        "\n",
        "Los valores en `'days_since_prior_order'` deben ser discretos, así que un gráfico de barras viene bien aquí también.\n",
        "\n",
        "</font>"
      ]
    },
    {
      "cell_type": "code",
      "execution_count": 39,
      "id": "c231f523",
      "metadata": {
        "colab": {
          "base_uri": "https://localhost:8080/",
          "height": 489
        },
        "id": "c231f523",
        "outputId": "04728f2d-060a-4beb-d90e-18e2259b1200"
      },
      "outputs": [
        {
          "data": {
            "image/png": "[encoded data removed]",
            "text/plain": [
              "<Figure size 640x480 with 1 Axes>"
            ]
          },
          "metadata": {},
          "output_type": "display_data"
        }
      ],
      "source": [
        "orders['days_since_prior_order'].value_counts().sort_index().plot(kind='bar',\n",
        "                                                                  title='Días transcurridos desde el pedido anterior',\n",
        "                                                                  xlabel='Número de días',\n",
        "                                                                  ylabel='Número de pedidos'\n",
        "                                                                 )\n",
        "plt.show()"
      ]
    },
    {
      "cell_type": "markdown",
      "id": "09f25340",
      "metadata": {
        "id": "09f25340"
      },
      "source": [
        "<font style=\"color:green\">\n",
        "\n",
        "¿Qué pasa con todos los valores 0? Esta columna no tiene valores ausentes (para cuando un cliente haga su primer pedido), pero nunca los completamos y, de todos modos, los valores `NaN` no se incluyen en el gráfico. Por ello, un valor de 0 probablemente signifique que el cliente ya ha hecho un pedido diferente en el mismo día.\n",
        "\n",
        "El valor máximo de 30 días implica que el conjunto de datos está destinado solo a incluir pedidos que se hayan hecho hace 30 días o menos que un pedido anterior (y los pedidos de primera vez). El gran pico en los valores es bastante extraño. Quizás muchos clientes hacen pedidos de inscripción que automáticamente piden los mismos pedidos una vez al mes. O quizás el proceso de entrada de entradas tenía fallas y todos los pedidos que se hicieron 30 días o más después de la orden anterior se establecieron a un valor máximo de 30. No podemos saberlo.\n",
        "\n",
        "</font>"
      ]
    },
    {
      "cell_type": "markdown",
      "id": "discrete-vertex",
      "metadata": {
        "id": "discrete-vertex"
      },
      "source": [
        "Los valores 0 probablemente corresponden a clientes que hicieron más de un pedido en el mismo día.\n",
        "\n",
        "Aún así, el valor máximo de 30 días y el alto pico en ese valor resulta desconcertante. El pico podría explicarse por las personas que configuraron sus inscripciones para que se hiciera un pedido automáticamente una vez al mes. Pero no explica por qué no hay valores superiores a 30 días. Yo esperaría que muchos clientes hicieran pedidos menos de una vez al mes. Quizás esos clientes fueron intencionalmente excluidos del conjunto de datos."
      ]
    },
    {
      "cell_type": "markdown",
      "id": "8d926614",
      "metadata": {
        "id": "8d926614"
      },
      "source": [
        "Sin tener en cuenta el pico a los 30 días, la mayoría de las personas esperan entre 2 y 10 días entre pedidos. El tiempo de espera más común es de 7 días. En otras palabras, es normal que las personas hagan un pedido semanal de víveres. Resulta interesante que, en la cola de la distribución también vemos pequeños picos a los 14, 21 y 28 días. Estos corresponderían a pedidos realizados cada 2, 3 o 4 semanas."
      ]
    },
    {
      "cell_type": "markdown",
      "id": "tight-staff",
      "metadata": {
        "id": "tight-staff"
      },
      "source": [
        "# [B] Intermedio (deben completarse todos para aprobar)"
      ]
    },
    {
      "cell_type": "markdown",
      "id": "ba482edd",
      "metadata": {
        "id": "ba482edd"
      },
      "source": [
        "<font style=\"color:green\">\n",
        "\n",
        "Queremos trazar otro histograma o gráfico de barras en donde el eje X sea la hora del día, pero esta vez queremos trazar dos distribuciones en la misma figura: miércoles y sábado.\n",
        "\n",
        "Nuestro enfoque aquí es filtrar `orders` para que quedarnos únicamente con los pedidos de los miércoles, y después contar los valores en la columna `'order_hour_of_day'`. Después hacemos lo mismo para los sábados. Finalmente, podemos combinar los resultados en un DataFrame que usemos para trazar los gráficos de barra.\n",
        "\n",
        "Comencemos creando los conteos filtrados.\n",
        "\n",
        "</font>"
      ]
    },
    {
      "cell_type": "markdown",
      "id": "packed-classic",
      "metadata": {
        "id": "packed-classic"
      },
      "source": [
        "### [B1] ¿Hay alguna diferencia entre las distribuciones `'order_hour_of_day'` en miércoles y sábados? Traza gráficos de barras para los dos días y describe las diferencias que veas."
      ]
    },
    {
      "cell_type": "code",
      "execution_count": 40,
      "id": "d89b8403",
      "metadata": {
        "colab": {
          "base_uri": "https://localhost:8080/"
        },
        "id": "d89b8403",
        "outputId": "05f9c163-9031-47ae-c09e-75622a778acc"
      },
      "outputs": [
        {
          "data": {
            "text/plain": [
              "0      373\n",
              "1      215\n",
              "2      106\n",
              "3      101\n",
              "4      108\n",
              "5      170\n",
              "6      643\n",
              "7     1732\n",
              "8     3125\n",
              "9     4490\n",
              "10    5026\n",
              "11    5004\n",
              "12    4688\n",
              "13    4674\n",
              "14    4774\n",
              "15    5163\n",
              "16    4976\n",
              "17    4175\n",
              "18    3463\n",
              "19    2652\n",
              "20    1917\n",
              "21    1450\n",
              "22    1154\n",
              "23     718\n",
              "Name: order_hour_of_day, dtype: int64"
            ]
          },
          "execution_count": 40,
          "metadata": {},
          "output_type": "execute_result"
        }
      ],
      "source": [
        "wed_mask = orders['order_dow'] == 3\n",
        "hod_counts_wed = orders[wed_mask]['order_hour_of_day'].value_counts().sort_index()\n",
        "\n",
        "hod_counts_wed"
      ]
    },
    {
      "cell_type": "code",
      "execution_count": 41,
      "id": "94e54e8a",
      "metadata": {
        "colab": {
          "base_uri": "https://localhost:8080/"
        },
        "id": "94e54e8a",
        "outputId": "dd5bae8b-bdb1-4f4b-fbd5-db2e3c95dae9"
      },
      "outputs": [
        {
          "data": {
            "text/plain": [
              "0      464\n",
              "1      254\n",
              "2      177\n",
              "3      125\n",
              "4      118\n",
              "5      161\n",
              "6      451\n",
              "7     1619\n",
              "8     3246\n",
              "9     4311\n",
              "10    4919\n",
              "11    5116\n",
              "12    5132\n",
              "13    5323\n",
              "14    5375\n",
              "15    5188\n",
              "16    5029\n",
              "17    4295\n",
              "18    3338\n",
              "19    2610\n",
              "20    1847\n",
              "21    1473\n",
              "22    1185\n",
              "23     893\n",
              "Name: order_hour_of_day, dtype: int64"
            ]
          },
          "execution_count": 41,
          "metadata": {},
          "output_type": "execute_result"
        }
      ],
      "source": [
        "sat_mask = orders['order_dow'] == 6\n",
        "hod_counts_sat = orders[sat_mask]['order_hour_of_day'].value_counts().sort_index()\n",
        "\n",
        "hod_counts_sat"
      ]
    },
    {
      "cell_type": "markdown",
      "id": "a1317b5c",
      "metadata": {
        "id": "a1317b5c"
      },
      "source": [
        "<font style=\"color:green\">\n",
        "\n",
        "Después creamos un DataFrame con dos columnas: una para miércoles y otra para sábado. Si no cambiamos el nombre de las columnas, ambas tendrán el mismo nombre (es decir, `'order_hour_of_day'`).\n",
        "\n",
        "</font>"
      ]
    },
    {
      "cell_type": "code",
      "execution_count": 42,
      "id": "797c90a8",
      "metadata": {
        "colab": {
          "base_uri": "https://localhost:8080/",
          "height": 201
        },
        "id": "797c90a8",
        "outputId": "881a14b4-e131-421e-c5a9-c71c0f0df075"
      },
      "outputs": [
        {
          "data": {
            "text/html": [
              "<div>\n",
              "<style scoped>\n",
              "    .dataframe tbody tr th:only-of-type {\n",
              "        vertical-align: middle;\n",
              "    }\n",
              "\n",
              "    .dataframe tbody tr th {\n",
              "        vertical-align: top;\n",
              "    }\n",
              "\n",
              "    .dataframe thead th {\n",
              "        text-align: right;\n",
              "    }\n",
              "</style>\n",
              "<table border=\"1\" class=\"dataframe\">\n",
              "  <thead>\n",
              "    <tr style=\"text-align: right;\">\n",
              "      <th></th>\n",
              "      <th>Miércoles</th>\n",
              "      <th>Sábado</th>\n",
              "    </tr>\n",
              "  </thead>\n",
              "  <tbody>\n",
              "    <tr>\n",
              "      <th>0</th>\n",
              "      <td>373</td>\n",
              "      <td>464</td>\n",
              "    </tr>\n",
              "    <tr>\n",
              "      <th>1</th>\n",
              "      <td>215</td>\n",
              "      <td>254</td>\n",
              "    </tr>\n",
              "    <tr>\n",
              "      <th>2</th>\n",
              "      <td>106</td>\n",
              "      <td>177</td>\n",
              "    </tr>\n",
              "    <tr>\n",
              "      <th>3</th>\n",
              "      <td>101</td>\n",
              "      <td>125</td>\n",
              "    </tr>\n",
              "    <tr>\n",
              "      <th>4</th>\n",
              "      <td>108</td>\n",
              "      <td>118</td>\n",
              "    </tr>\n",
              "    <tr>\n",
              "      <th>5</th>\n",
              "      <td>170</td>\n",
              "      <td>161</td>\n",
              "    </tr>\n",
              "    <tr>\n",
              "      <th>6</th>\n",
              "      <td>643</td>\n",
              "      <td>451</td>\n",
              "    </tr>\n",
              "    <tr>\n",
              "      <th>7</th>\n",
              "      <td>1732</td>\n",
              "      <td>1619</td>\n",
              "    </tr>\n",
              "    <tr>\n",
              "      <th>8</th>\n",
              "      <td>3125</td>\n",
              "      <td>3246</td>\n",
              "    </tr>\n",
              "    <tr>\n",
              "      <th>9</th>\n",
              "      <td>4490</td>\n",
              "      <td>4311</td>\n",
              "    </tr>\n",
              "    <tr>\n",
              "      <th>10</th>\n",
              "      <td>5026</td>\n",
              "      <td>4919</td>\n",
              "    </tr>\n",
              "    <tr>\n",
              "      <th>11</th>\n",
              "      <td>5004</td>\n",
              "      <td>5116</td>\n",
              "    </tr>\n",
              "    <tr>\n",
              "      <th>12</th>\n",
              "      <td>4688</td>\n",
              "      <td>5132</td>\n",
              "    </tr>\n",
              "    <tr>\n",
              "      <th>13</th>\n",
              "      <td>4674</td>\n",
              "      <td>5323</td>\n",
              "    </tr>\n",
              "    <tr>\n",
              "      <th>14</th>\n",
              "      <td>4774</td>\n",
              "      <td>5375</td>\n",
              "    </tr>\n",
              "    <tr>\n",
              "      <th>15</th>\n",
              "      <td>5163</td>\n",
              "      <td>5188</td>\n",
              "    </tr>\n",
              "    <tr>\n",
              "      <th>16</th>\n",
              "      <td>4976</td>\n",
              "      <td>5029</td>\n",
              "    </tr>\n",
              "    <tr>\n",
              "      <th>17</th>\n",
              "      <td>4175</td>\n",
              "      <td>4295</td>\n",
              "    </tr>\n",
              "    <tr>\n",
              "      <th>18</th>\n",
              "      <td>3463</td>\n",
              "      <td>3338</td>\n",
              "    </tr>\n",
              "    <tr>\n",
              "      <th>19</th>\n",
              "      <td>2652</td>\n",
              "      <td>2610</td>\n",
              "    </tr>\n",
              "    <tr>\n",
              "      <th>20</th>\n",
              "      <td>1917</td>\n",
              "      <td>1847</td>\n",
              "    </tr>\n",
              "    <tr>\n",
              "      <th>21</th>\n",
              "      <td>1450</td>\n",
              "      <td>1473</td>\n",
              "    </tr>\n",
              "    <tr>\n",
              "      <th>22</th>\n",
              "      <td>1154</td>\n",
              "      <td>1185</td>\n",
              "    </tr>\n",
              "    <tr>\n",
              "      <th>23</th>\n",
              "      <td>718</td>\n",
              "      <td>893</td>\n",
              "    </tr>\n",
              "  </tbody>\n",
              "</table>\n",
              "</div>"
            ],
            "text/plain": [
              "    Miércoles  Sábado\n",
              "0         373     464\n",
              "1         215     254\n",
              "2         106     177\n",
              "3         101     125\n",
              "4         108     118\n",
              "5         170     161\n",
              "6         643     451\n",
              "7        1732    1619\n",
              "8        3125    3246\n",
              "9        4490    4311\n",
              "10       5026    4919\n",
              "11       5004    5116\n",
              "12       4688    5132\n",
              "13       4674    5323\n",
              "14       4774    5375\n",
              "15       5163    5188\n",
              "16       4976    5029\n",
              "17       4175    4295\n",
              "18       3463    3338\n",
              "19       2652    2610\n",
              "20       1917    1847\n",
              "21       1450    1473\n",
              "22       1154    1185\n",
              "23        718     893"
            ]
          },
          "execution_count": 42,
          "metadata": {},
          "output_type": "execute_result"
        }
      ],
      "source": [
        "hod_counts = pd.concat([hod_counts_wed, hod_counts_sat], axis=1)\n",
        "hod_counts.columns = ['Miércoles', 'Sábado']\n",
        "hod_counts"
      ]
    },
    {
      "cell_type": "markdown",
      "id": "537f2e1a",
      "metadata": {
        "id": "537f2e1a"
      },
      "source": [
        "<font style=\"color:green\">\n",
        "\n",
        "Lo único que tenemos que hacer ahora es crear un gráfico de barras.\n",
        "\n",
        "</font>"
      ]
    },
    {
      "cell_type": "code",
      "execution_count": 43,
      "id": "35bcea30",
      "metadata": {
        "colab": {
          "base_uri": "https://localhost:8080/",
          "height": 475
        },
        "id": "35bcea30",
        "outputId": "8f4a4e30-4aaa-4519-9d3c-6e22b318056d"
      },
      "outputs": [
        {
          "data": {
            "image/png": "[encoded data removed]",
            "text/plain": [
              "<Figure size 640x480 with 1 Axes>"
            ]
          },
          "metadata": {},
          "output_type": "display_data"
        }
      ],
      "source": [
        "hod_counts.plot(kind='bar',\n",
        "                title='Comparación de pedidos del miércoles y sábado',\n",
        "                xlabel='Hora del día',\n",
        "                ylabel='Número de pedidos'\n",
        "               )\n",
        "plt.show()"
      ]
    },
    {
      "cell_type": "markdown",
      "id": "charitable-congo",
      "metadata": {
        "id": "charitable-congo"
      },
      "source": [
        "Hay una pequeña caída de 11 a.m. a 13 p.m. los miércoles. No hay esta caída los sábados. Quizás esta caída puede atribuirse a las personas que no usan Instacart porque almuerzan entre las 11 a.m. y 13 p.m."
      ]
    },
    {
      "cell_type": "markdown",
      "id": "e3891143",
      "metadata": {
        "id": "e3891143"
      },
      "source": [
        "### [B2] ¿Cuál es la distribución para el número de pedidos por cliente?"
      ]
    },
    {
      "cell_type": "markdown",
      "id": "48be6d2c",
      "metadata": {
        "id": "48be6d2c"
      },
      "source": [
        "<font style=\"color:green\">\n",
        "\n",
        "La estrategia aquí es hallar el número total de pedidos para cada cliente único, después trazar un gráfico de barras o un histograma en donde el eje X sea el número de pedidos.\n",
        "\n",
        "Podemos usar la tabla `orders` para contar el número de pedidos para cada usuario usando las IDs de usuarios para diferenciar clientes.\n",
        "\n",
        "</font>"
      ]
    },
    {
      "cell_type": "code",
      "execution_count": 44,
      "id": "d8c26c23",
      "metadata": {
        "colab": {
          "base_uri": "https://localhost:8080/"
        },
        "id": "d8c26c23",
        "outputId": "4370693e-ed72-477e-9121-4141f9381f75"
      },
      "outputs": [
        {
          "data": {
            "text/plain": [
              "user_id\n",
              "152331     1\n",
              "139876     1\n",
              "60408      1\n",
              "139873     1\n",
              "139871     1\n",
              "          ..\n",
              "66664     24\n",
              "148162    24\n",
              "78375     25\n",
              "193164    26\n",
              "149605    28\n",
              "Name: order_id, Length: 157437, dtype: int64"
            ]
          },
          "execution_count": 44,
          "metadata": {},
          "output_type": "execute_result"
        }
      ],
      "source": [
        "order_count_per_user = orders.groupby('user_id')['order_id'].count().sort_values()\n",
        "order_count_per_user"
      ]
    },
    {
      "cell_type": "markdown",
      "id": "5c53d62b",
      "metadata": {
        "id": "5c53d62b"
      },
      "source": [
        "<font style=\"color:green\">\n",
        "\n",
        "Ahora trazamos el histograma del resultado. El número de contenedores puede variar en tanto el histograma sea representativo de la distribución. Un gráfico de barras también es aceptable aquí, ya que estamos tratando con un número relativamente pequeño de valores discretos en el eje X.\n",
        "\n",
        "</font>"
      ]
    },
    {
      "cell_type": "code",
      "execution_count": 45,
      "id": "00e69a66",
      "metadata": {
        "colab": {
          "base_uri": "https://localhost:8080/",
          "height": 472
        },
        "id": "00e69a66",
        "outputId": "b5d988e2-769c-4a80-e35e-b3e91945df90"
      },
      "outputs": [
        {
          "data": {
            "image/png": "[encoded data removed]",
            "text/plain": [
              "<Figure size 640x480 with 1 Axes>"
            ]
          },
          "metadata": {},
          "output_type": "display_data"
        }
      ],
      "source": [
        "order_count_per_user.plot(kind='hist',\n",
        "                          bins=28,\n",
        "                          title='Distribución del total de pedidos'\n",
        "                         )\n",
        "plt.xlabel('Número de pedidos')\n",
        "plt.ylabel('Número de clientes')\n",
        "plt.show()"
      ]
    },
    {
      "cell_type": "markdown",
      "id": "d2eff7d5",
      "metadata": {
        "id": "d2eff7d5"
      },
      "source": [
        "La mayoría de clientes en el conjunto de datos hizo entre 1 y 10 pedidos, y estos fueron disminuyendo considerablemente después de 1 pedido."
      ]
    },
    {
      "cell_type": "markdown",
      "id": "54a0319c",
      "metadata": {
        "id": "54a0319c"
      },
      "source": [
        "### [B3] ¿Cuáles son los 20 productos más populares (muestra su ID y nombre)?"
      ]
    },
    {
      "cell_type": "markdown",
      "id": "2415b93c",
      "metadata": {
        "id": "2415b93c"
      },
      "source": [
        "<font style=\"color:green\">\n",
        "\n",
        "Esta pregunta no requiere ninguna figura, pero en la solución se incluye un gráfico de barras en caso de que los estudiantes hagan uno y deseen compararlo con algo.\n",
        "\n",
        "Esta es la primera pregunta que requiere una fusión. Debemos fusionar `products` con `order_products` de modo que podamos mostrar en la misma tabla tanto las IDs como los nombres de los productos.\n",
        "\n",
        "</font>"
      ]
    },
    {
      "cell_type": "code",
      "execution_count": 46,
      "id": "exterior-arizona",
      "metadata": {
        "colab": {
          "base_uri": "https://localhost:8080/",
          "height": 424
        },
        "id": "exterior-arizona",
        "outputId": "cdc3cca4-a962-4666-e127-10bd5cffd4c6",
        "scrolled": true
      },
      "outputs": [
        {
          "data": {
            "text/html": [
              "<div>\n",
              "<style scoped>\n",
              "    .dataframe tbody tr th:only-of-type {\n",
              "        vertical-align: middle;\n",
              "    }\n",
              "\n",
              "    .dataframe tbody tr th {\n",
              "        vertical-align: top;\n",
              "    }\n",
              "\n",
              "    .dataframe thead th {\n",
              "        text-align: right;\n",
              "    }\n",
              "</style>\n",
              "<table border=\"1\" class=\"dataframe\">\n",
              "  <thead>\n",
              "    <tr style=\"text-align: right;\">\n",
              "      <th></th>\n",
              "      <th>order_id</th>\n",
              "      <th>product_id</th>\n",
              "      <th>add_to_cart_order</th>\n",
              "      <th>reordered</th>\n",
              "      <th>product_name</th>\n",
              "      <th>aisle_id</th>\n",
              "      <th>department_id</th>\n",
              "    </tr>\n",
              "  </thead>\n",
              "  <tbody>\n",
              "    <tr>\n",
              "      <th>0</th>\n",
              "      <td>2141543</td>\n",
              "      <td>11440</td>\n",
              "      <td>17</td>\n",
              "      <td>0</td>\n",
              "      <td>Chicken Breast Tenders Breaded</td>\n",
              "      <td>129</td>\n",
              "      <td>1</td>\n",
              "    </tr>\n",
              "    <tr>\n",
              "      <th>1</th>\n",
              "      <td>147172</td>\n",
              "      <td>11440</td>\n",
              "      <td>7</td>\n",
              "      <td>1</td>\n",
              "      <td>Chicken Breast Tenders Breaded</td>\n",
              "      <td>129</td>\n",
              "      <td>1</td>\n",
              "    </tr>\n",
              "    <tr>\n",
              "      <th>2</th>\n",
              "      <td>3341719</td>\n",
              "      <td>11440</td>\n",
              "      <td>4</td>\n",
              "      <td>1</td>\n",
              "      <td>Chicken Breast Tenders Breaded</td>\n",
              "      <td>129</td>\n",
              "      <td>1</td>\n",
              "    </tr>\n",
              "    <tr>\n",
              "      <th>3</th>\n",
              "      <td>1938779</td>\n",
              "      <td>11440</td>\n",
              "      <td>8</td>\n",
              "      <td>1</td>\n",
              "      <td>Chicken Breast Tenders Breaded</td>\n",
              "      <td>129</td>\n",
              "      <td>1</td>\n",
              "    </tr>\n",
              "    <tr>\n",
              "      <th>4</th>\n",
              "      <td>1728338</td>\n",
              "      <td>11440</td>\n",
              "      <td>23</td>\n",
              "      <td>0</td>\n",
              "      <td>Chicken Breast Tenders Breaded</td>\n",
              "      <td>129</td>\n",
              "      <td>1</td>\n",
              "    </tr>\n",
              "    <tr>\n",
              "      <th>...</th>\n",
              "      <td>...</td>\n",
              "      <td>...</td>\n",
              "      <td>...</td>\n",
              "      <td>...</td>\n",
              "      <td>...</td>\n",
              "      <td>...</td>\n",
              "      <td>...</td>\n",
              "    </tr>\n",
              "    <tr>\n",
              "      <th>4545002</th>\n",
              "      <td>267402</td>\n",
              "      <td>45226</td>\n",
              "      <td>14</td>\n",
              "      <td>0</td>\n",
              "      <td>Sweet Teriyaki Chicken Oven Sauce</td>\n",
              "      <td>5</td>\n",
              "      <td>13</td>\n",
              "    </tr>\n",
              "    <tr>\n",
              "      <th>4545003</th>\n",
              "      <td>2621676</td>\n",
              "      <td>25201</td>\n",
              "      <td>10</td>\n",
              "      <td>0</td>\n",
              "      <td>Crisp Waters Candle Scents</td>\n",
              "      <td>101</td>\n",
              "      <td>17</td>\n",
              "    </tr>\n",
              "    <tr>\n",
              "      <th>4545004</th>\n",
              "      <td>937623</td>\n",
              "      <td>49153</td>\n",
              "      <td>2</td>\n",
              "      <td>0</td>\n",
              "      <td>Shine Collection Brillance Shampoo</td>\n",
              "      <td>22</td>\n",
              "      <td>11</td>\n",
              "    </tr>\n",
              "    <tr>\n",
              "      <th>4545005</th>\n",
              "      <td>532895</td>\n",
              "      <td>8182</td>\n",
              "      <td>1</td>\n",
              "      <td>0</td>\n",
              "      <td>Total Mint Stripe Gel Toothpaste</td>\n",
              "      <td>20</td>\n",
              "      <td>11</td>\n",
              "    </tr>\n",
              "    <tr>\n",
              "      <th>4545006</th>\n",
              "      <td>3132243</td>\n",
              "      <td>40024</td>\n",
              "      <td>1</td>\n",
              "      <td>0</td>\n",
              "      <td>Egg Replacer Powder</td>\n",
              "      <td>17</td>\n",
              "      <td>13</td>\n",
              "    </tr>\n",
              "  </tbody>\n",
              "</table>\n",
              "<p>4545007 rows × 7 columns</p>\n",
              "</div>"
            ],
            "text/plain": [
              "         order_id  product_id  add_to_cart_order  reordered  \\\n",
              "0         2141543       11440                 17          0   \n",
              "1          147172       11440                  7          1   \n",
              "2         3341719       11440                  4          1   \n",
              "3         1938779       11440                  8          1   \n",
              "4         1728338       11440                 23          0   \n",
              "...           ...         ...                ...        ...   \n",
              "4545002    267402       45226                 14          0   \n",
              "4545003   2621676       25201                 10          0   \n",
              "4545004    937623       49153                  2          0   \n",
              "4545005    532895        8182                  1          0   \n",
              "4545006   3132243       40024                  1          0   \n",
              "\n",
              "                               product_name  aisle_id  department_id  \n",
              "0            Chicken Breast Tenders Breaded       129              1  \n",
              "1            Chicken Breast Tenders Breaded       129              1  \n",
              "2            Chicken Breast Tenders Breaded       129              1  \n",
              "3            Chicken Breast Tenders Breaded       129              1  \n",
              "4            Chicken Breast Tenders Breaded       129              1  \n",
              "...                                     ...       ...            ...  \n",
              "4545002   Sweet Teriyaki Chicken Oven Sauce         5             13  \n",
              "4545003          Crisp Waters Candle Scents       101             17  \n",
              "4545004  Shine Collection Brillance Shampoo        22             11  \n",
              "4545005    Total Mint Stripe Gel Toothpaste        20             11  \n",
              "4545006                 Egg Replacer Powder        17             13  \n",
              "\n",
              "[4545007 rows x 7 columns]"
            ]
          },
          "execution_count": 46,
          "metadata": {},
          "output_type": "execute_result"
        }
      ],
      "source": [
        "df_merge = order_products.merge(products, on='product_id')\n",
        "df_merge"
      ]
    },
    {
      "cell_type": "markdown",
      "id": "d9ae8cf3",
      "metadata": {
        "id": "d9ae8cf3"
      },
      "source": [
        "<font style=\"color:green\">\n",
        "\n",
        "Solo tenemos que contar el número de filas para cada producto, ordenar el resultado en orden descendiente y visualizar únicamente las primeras 20 filas.\n",
        "\n",
        "Podríamos obtener los conteos correctos si los agrupamos por IDs de producto, pero también queremos mostrar los nombres de los productos. Ya que cada ID de producto mapea solo un nombre de producto, los podemos agrupar tanto por ID como por nombre sin alterar el conteo. Hacer esto nos permite ver los nombres y las IDs en nuestro resultado.\n",
        "\n",
        "Ten en cuenta que los alumnos podrían encontrar otras maneras de lograr este resultado.\n",
        "\n",
        "</font>"
      ]
    },
    {
      "cell_type": "code",
      "execution_count": 47,
      "id": "universal-facial",
      "metadata": {
        "colab": {
          "base_uri": "https://localhost:8080/",
          "height": 708
        },
        "id": "universal-facial",
        "outputId": "09b1404e-c12e-45ca-fbf9-ef6012d73101"
      },
      "outputs": [
        {
          "data": {
            "text/html": [
              "<div>\n",
              "<style scoped>\n",
              "    .dataframe tbody tr th:only-of-type {\n",
              "        vertical-align: middle;\n",
              "    }\n",
              "\n",
              "    .dataframe tbody tr th {\n",
              "        vertical-align: top;\n",
              "    }\n",
              "\n",
              "    .dataframe thead th {\n",
              "        text-align: right;\n",
              "    }\n",
              "</style>\n",
              "<table border=\"1\" class=\"dataframe\">\n",
              "  <thead>\n",
              "    <tr style=\"text-align: right;\">\n",
              "      <th></th>\n",
              "      <th></th>\n",
              "      <th>order_id</th>\n",
              "      <th>add_to_cart_order</th>\n",
              "      <th>reordered</th>\n",
              "      <th>aisle_id</th>\n",
              "      <th>department_id</th>\n",
              "    </tr>\n",
              "    <tr>\n",
              "      <th>product_id</th>\n",
              "      <th>product_name</th>\n",
              "      <th></th>\n",
              "      <th></th>\n",
              "      <th></th>\n",
              "      <th></th>\n",
              "      <th></th>\n",
              "    </tr>\n",
              "  </thead>\n",
              "  <tbody>\n",
              "    <tr>\n",
              "      <th>24852</th>\n",
              "      <th>Banana</th>\n",
              "      <td>66050</td>\n",
              "      <td>66050</td>\n",
              "      <td>66050</td>\n",
              "      <td>66050</td>\n",
              "      <td>66050</td>\n",
              "    </tr>\n",
              "    <tr>\n",
              "      <th>13176</th>\n",
              "      <th>Bag of Organic Bananas</th>\n",
              "      <td>53297</td>\n",
              "      <td>53297</td>\n",
              "      <td>53297</td>\n",
              "      <td>53297</td>\n",
              "      <td>53297</td>\n",
              "    </tr>\n",
              "    <tr>\n",
              "      <th>21137</th>\n",
              "      <th>Organic Strawberries</th>\n",
              "      <td>37039</td>\n",
              "      <td>37039</td>\n",
              "      <td>37039</td>\n",
              "      <td>37039</td>\n",
              "      <td>37039</td>\n",
              "    </tr>\n",
              "    <tr>\n",
              "      <th>21903</th>\n",
              "      <th>Organic Baby Spinach</th>\n",
              "      <td>33971</td>\n",
              "      <td>33971</td>\n",
              "      <td>33971</td>\n",
              "      <td>33971</td>\n",
              "      <td>33971</td>\n",
              "    </tr>\n",
              "    <tr>\n",
              "      <th>47209</th>\n",
              "      <th>Organic Hass Avocado</th>\n",
              "      <td>29773</td>\n",
              "      <td>29773</td>\n",
              "      <td>29773</td>\n",
              "      <td>29773</td>\n",
              "      <td>29773</td>\n",
              "    </tr>\n",
              "    <tr>\n",
              "      <th>47766</th>\n",
              "      <th>Organic Avocado</th>\n",
              "      <td>24689</td>\n",
              "      <td>24689</td>\n",
              "      <td>24689</td>\n",
              "      <td>24689</td>\n",
              "      <td>24689</td>\n",
              "    </tr>\n",
              "    <tr>\n",
              "      <th>47626</th>\n",
              "      <th>Large Lemon</th>\n",
              "      <td>21495</td>\n",
              "      <td>21495</td>\n",
              "      <td>21495</td>\n",
              "      <td>21495</td>\n",
              "      <td>21495</td>\n",
              "    </tr>\n",
              "    <tr>\n",
              "      <th>16797</th>\n",
              "      <th>Strawberries</th>\n",
              "      <td>20018</td>\n",
              "      <td>20018</td>\n",
              "      <td>20018</td>\n",
              "      <td>20018</td>\n",
              "      <td>20018</td>\n",
              "    </tr>\n",
              "    <tr>\n",
              "      <th>26209</th>\n",
              "      <th>Limes</th>\n",
              "      <td>19690</td>\n",
              "      <td>19690</td>\n",
              "      <td>19690</td>\n",
              "      <td>19690</td>\n",
              "      <td>19690</td>\n",
              "    </tr>\n",
              "    <tr>\n",
              "      <th>27845</th>\n",
              "      <th>Organic Whole Milk</th>\n",
              "      <td>19600</td>\n",
              "      <td>19600</td>\n",
              "      <td>19600</td>\n",
              "      <td>19600</td>\n",
              "      <td>19600</td>\n",
              "    </tr>\n",
              "    <tr>\n",
              "      <th>27966</th>\n",
              "      <th>Organic Raspberries</th>\n",
              "      <td>19197</td>\n",
              "      <td>19197</td>\n",
              "      <td>19197</td>\n",
              "      <td>19197</td>\n",
              "      <td>19197</td>\n",
              "    </tr>\n",
              "    <tr>\n",
              "      <th>22935</th>\n",
              "      <th>Organic Yellow Onion</th>\n",
              "      <td>15898</td>\n",
              "      <td>15898</td>\n",
              "      <td>15898</td>\n",
              "      <td>15898</td>\n",
              "      <td>15898</td>\n",
              "    </tr>\n",
              "    <tr>\n",
              "      <th>24964</th>\n",
              "      <th>Organic Garlic</th>\n",
              "      <td>15292</td>\n",
              "      <td>15292</td>\n",
              "      <td>15292</td>\n",
              "      <td>15292</td>\n",
              "      <td>15292</td>\n",
              "    </tr>\n",
              "    <tr>\n",
              "      <th>45007</th>\n",
              "      <th>Organic Zucchini</th>\n",
              "      <td>14584</td>\n",
              "      <td>14584</td>\n",
              "      <td>14584</td>\n",
              "      <td>14584</td>\n",
              "      <td>14584</td>\n",
              "    </tr>\n",
              "    <tr>\n",
              "      <th>39275</th>\n",
              "      <th>Organic Blueberries</th>\n",
              "      <td>13879</td>\n",
              "      <td>13879</td>\n",
              "      <td>13879</td>\n",
              "      <td>13879</td>\n",
              "      <td>13879</td>\n",
              "    </tr>\n",
              "    <tr>\n",
              "      <th>49683</th>\n",
              "      <th>Cucumber Kirby</th>\n",
              "      <td>13675</td>\n",
              "      <td>13675</td>\n",
              "      <td>13675</td>\n",
              "      <td>13675</td>\n",
              "      <td>13675</td>\n",
              "    </tr>\n",
              "    <tr>\n",
              "      <th>28204</th>\n",
              "      <th>Organic Fuji Apple</th>\n",
              "      <td>12544</td>\n",
              "      <td>12544</td>\n",
              "      <td>12544</td>\n",
              "      <td>12544</td>\n",
              "      <td>12544</td>\n",
              "    </tr>\n",
              "    <tr>\n",
              "      <th>5876</th>\n",
              "      <th>Organic Lemon</th>\n",
              "      <td>12232</td>\n",
              "      <td>12232</td>\n",
              "      <td>12232</td>\n",
              "      <td>12232</td>\n",
              "      <td>12232</td>\n",
              "    </tr>\n",
              "    <tr>\n",
              "      <th>8277</th>\n",
              "      <th>Apple Honeycrisp Organic</th>\n",
              "      <td>11993</td>\n",
              "      <td>11993</td>\n",
              "      <td>11993</td>\n",
              "      <td>11993</td>\n",
              "      <td>11993</td>\n",
              "    </tr>\n",
              "    <tr>\n",
              "      <th>40706</th>\n",
              "      <th>Organic Grape Tomatoes</th>\n",
              "      <td>11781</td>\n",
              "      <td>11781</td>\n",
              "      <td>11781</td>\n",
              "      <td>11781</td>\n",
              "      <td>11781</td>\n",
              "    </tr>\n",
              "  </tbody>\n",
              "</table>\n",
              "</div>"
            ],
            "text/plain": [
              "                                     order_id  add_to_cart_order  reordered  \\\n",
              "product_id product_name                                                       \n",
              "24852      Banana                       66050              66050      66050   \n",
              "13176      Bag of Organic Bananas       53297              53297      53297   \n",
              "21137      Organic Strawberries         37039              37039      37039   \n",
              "21903      Organic Baby Spinach         33971              33971      33971   \n",
              "47209      Organic Hass Avocado         29773              29773      29773   \n",
              "47766      Organic Avocado              24689              24689      24689   \n",
              "47626      Large Lemon                  21495              21495      21495   \n",
              "16797      Strawberries                 20018              20018      20018   \n",
              "26209      Limes                        19690              19690      19690   \n",
              "27845      Organic Whole Milk           19600              19600      19600   \n",
              "27966      Organic Raspberries          19197              19197      19197   \n",
              "22935      Organic Yellow Onion         15898              15898      15898   \n",
              "24964      Organic Garlic               15292              15292      15292   \n",
              "45007      Organic Zucchini             14584              14584      14584   \n",
              "39275      Organic Blueberries          13879              13879      13879   \n",
              "49683      Cucumber Kirby               13675              13675      13675   \n",
              "28204      Organic Fuji Apple           12544              12544      12544   \n",
              "5876       Organic Lemon                12232              12232      12232   \n",
              "8277       Apple Honeycrisp Organic     11993              11993      11993   \n",
              "40706      Organic Grape Tomatoes       11781              11781      11781   \n",
              "\n",
              "                                     aisle_id  department_id  \n",
              "product_id product_name                                       \n",
              "24852      Banana                       66050          66050  \n",
              "13176      Bag of Organic Bananas       53297          53297  \n",
              "21137      Organic Strawberries         37039          37039  \n",
              "21903      Organic Baby Spinach         33971          33971  \n",
              "47209      Organic Hass Avocado         29773          29773  \n",
              "47766      Organic Avocado              24689          24689  \n",
              "47626      Large Lemon                  21495          21495  \n",
              "16797      Strawberries                 20018          20018  \n",
              "26209      Limes                        19690          19690  \n",
              "27845      Organic Whole Milk           19600          19600  \n",
              "27966      Organic Raspberries          19197          19197  \n",
              "22935      Organic Yellow Onion         15898          15898  \n",
              "24964      Organic Garlic               15292          15292  \n",
              "45007      Organic Zucchini             14584          14584  \n",
              "39275      Organic Blueberries          13879          13879  \n",
              "49683      Cucumber Kirby               13675          13675  \n",
              "28204      Organic Fuji Apple           12544          12544  \n",
              "5876       Organic Lemon                12232          12232  \n",
              "8277       Apple Honeycrisp Organic     11993          11993  \n",
              "40706      Organic Grape Tomatoes       11781          11781  "
            ]
          },
          "execution_count": 47,
          "metadata": {},
          "output_type": "execute_result"
        }
      ],
      "source": [
        "top_products = df_merge.groupby(['product_id', 'product_name']).count().sort_values(['order_id'], ascending=False)\n",
        "top_products.head(20)"
      ]
    },
    {
      "cell_type": "markdown",
      "id": "14f71b4b",
      "metadata": {
        "id": "14f71b4b"
      },
      "source": [
        "<font style=\"color:green\">\n",
        "\n",
        "A continuación encontrarás un gráfico de barras del número de veces en que se pidieron cada uno de los 20 principales artículos.\n",
        "\n",
        "</font>"
      ]
    },
    {
      "cell_type": "code",
      "execution_count": 48,
      "id": "bbcdd20b",
      "metadata": {
        "colab": {
          "base_uri": "https://localhost:8080/",
          "height": 671
        },
        "id": "bbcdd20b",
        "outputId": "afdcfa5e-2eb0-4694-c539-70dbe673286f"
      },
      "outputs": [
        {
          "data": {
            "image/png": "[encoded data removed]",
            "text/plain": [
              "<Figure size 640x480 with 1 Axes>"
            ]
          },
          "metadata": {},
          "output_type": "display_data"
        }
      ],
      "source": [
        "top_products.head(20).plot.bar(y='order_id')\n",
        "plt.show()"
      ]
    },
    {
      "cell_type": "markdown",
      "id": "7df00f47",
      "metadata": {
        "id": "7df00f47"
      },
      "source": [
        "Los 20 principales artículos son todos productos agrícolas, excepto por la leche. ¡Parece que a las personas les gusta lo delicioso y nutritivo!"
      ]
    },
    {
      "cell_type": "markdown",
      "id": "gross-theme",
      "metadata": {
        "id": "gross-theme"
      },
      "source": [
        "# [C] Difícil (hay que completar todo para aprobar)"
      ]
    },
    {
      "cell_type": "markdown",
      "id": "romantic-deposit",
      "metadata": {
        "id": "romantic-deposit"
      },
      "source": [
        "### [C1] ¿Cuántos artículos compran normalmente las personas en un pedido? ¿Cómo es la distribución?"
      ]
    },
    {
      "cell_type": "markdown",
      "id": "ded704b0",
      "metadata": {
        "id": "ded704b0"
      },
      "source": [
        "<font style=\"color:green\">\n",
        "\n",
        "La pregunta sobre \"normalmente\" implica que queremos saber el número promedio de artículos que se agregan en un pedido. También queremos graficar una distribución que muestre esto visualmente.\n",
        "\n",
        "Primero, debemos contar el número de productos en cada pedido. Podemos hacerlo usando la tabla `order_products`, agrupando por las IDs de pedido, y después utilizando las IDs de producto para contar el número de productos en cada pedido.\n",
        "\n",
        "</font>"
      ]
    },
    {
      "cell_type": "code",
      "execution_count": 49,
      "id": "virtual-punch",
      "metadata": {
        "colab": {
          "base_uri": "https://localhost:8080/"
        },
        "id": "virtual-punch",
        "outputId": "50550884-f7bb-474c-d01d-6e0206b31516"
      },
      "outputs": [
        {
          "data": {
            "text/plain": [
              "1      21847\n",
              "2      26292\n",
              "3      29046\n",
              "4      31054\n",
              "5      31923\n",
              "       ...  \n",
              "98         1\n",
              "104        1\n",
              "108        1\n",
              "115        1\n",
              "127        1\n",
              "Name: product_id, Length: 90, dtype: int64"
            ]
          },
          "execution_count": 49,
          "metadata": {},
          "output_type": "execute_result"
        }
      ],
      "source": [
        "num_items = order_products.groupby('order_id').count()['product_id']\n",
        "histogram_vals = num_items.value_counts().sort_index()\n",
        "histogram_vals"
      ]
    },
    {
      "cell_type": "markdown",
      "id": "629adb5a",
      "metadata": {
        "id": "629adb5a"
      },
      "source": [
        "<font style=\"color:green\">\n",
        "\n",
        "Y ahora solo tenemos que trazar un gráfico de barras o un histograma. Incluso si los valores son discretos, en este caso, probablemente sea mejor un histograma, ya que hay demasiados valores. Aunque un gráfico de barras también es aceptable.\n",
        "\n",
        "</font>"
      ]
    },
    {
      "cell_type": "code",
      "execution_count": 50,
      "id": "sensitive-breathing",
      "metadata": {
        "colab": {
          "base_uri": "https://localhost:8080/",
          "height": 484
        },
        "id": "sensitive-breathing",
        "outputId": "3fd9ae3c-e87e-4dd3-deb8-922b0e43ce52"
      },
      "outputs": [
        {
          "data": {
            "image/png": "[encoded data removed]",
            "text/plain": [
              "<Figure size 640x480 with 1 Axes>"
            ]
          },
          "metadata": {},
          "output_type": "display_data"
        }
      ],
      "source": [
        "histogram_vals.plot(kind='bar',\n",
        "                title='Artículos comprados en un pedido',\n",
        "                xlabel='Número de artículos',\n",
        "                ylabel='Número de pedidos'\n",
        "               )\n",
        "plt.show()"
      ]
    },
    {
      "cell_type": "markdown",
      "id": "2281765d",
      "metadata": {
        "id": "2281765d"
      },
      "source": [
        "<font style=\"color:green\">\n",
        "\n",
        "El gráfico anterior está bien, pero es difícil ver los detalles alrededor del valor \"típico\" porque hay muchos tamaños de pedidos que tienen una representación muy pequeña en el conjunto de datos.\n",
        "\n",
        "Si excluimos de nuestro gráfico la mayoría de los tamaños grandes, podemos tener una mejor idea de la distribución alrededor del valor típico.\n",
        "\n",
        "</font>"
      ]
    },
    {
      "cell_type": "markdown",
      "id": "d5f8aa6e",
      "metadata": {
        "id": "d5f8aa6e"
      },
      "source": [
        "La mayoría de los números de pedidos están en la cola de la distribución. Para poder ver mejor la parte que no está en la cola, vamos a elegir un valor en la cola como un corte y únicamente graficaremos los pedidos menores a esa cantidad de artículos. Un tamaño de pedido de 35 artículos está lo suficientemente lejos de la cola como para ello."
      ]
    },
    {
      "cell_type": "code",
      "execution_count": 51,
      "id": "completed-frank",
      "metadata": {
        "colab": {
          "base_uri": "https://localhost:8080/",
          "height": 475
        },
        "id": "completed-frank",
        "outputId": "fba26de6-8624-452a-e952-f9aedd682d80"
      },
      "outputs": [
        {
          "data": {
            "image/png": "[encoded data removed]",
            "text/plain": [
              "<Figure size 640x480 with 1 Axes>"
            ]
          },
          "metadata": {},
          "output_type": "display_data"
        }
      ],
      "source": [
        "histogram_vals[histogram_vals.index < 35].plot(kind='bar',\n",
        "                title='Artículos comprados en un pedido',\n",
        "                xlabel='Número de artículos',\n",
        "                ylabel='Número de pedidos'\n",
        "               )\n",
        "plt.show()"
      ]
    },
    {
      "cell_type": "markdown",
      "id": "designed-mortality",
      "metadata": {
        "id": "designed-mortality"
      },
      "source": [
        "Un pedido típico contiene 5 o 6 artículos; y la mayoría de los pedidos tienen entre 1 y 20 artículos."
      ]
    },
    {
      "cell_type": "markdown",
      "id": "5e6b5537",
      "metadata": {
        "id": "5e6b5537"
      },
      "source": [
        "### [C2] ¿Cuáles son los 20 principales artículos que vuelven a pedirse con mayor frecuencia (muestra sus nombres e IDs de los productos)?"
      ]
    },
    {
      "cell_type": "markdown",
      "id": "6febe03f",
      "metadata": {
        "id": "6febe03f"
      },
      "source": [
        "<font style=\"color:green\">\n",
        "\n",
        "Esta pregunta comparte elementos con algunas de las preguntas anteriores. Nuestra estrategia es filtrar la tabla `order_products` para que solamente trabajemos con artículos que volvieron a pedirse, y después usemos la tabla filtrada para encontrar los 20 principales artículos que se piden. Para mostrar sus nombres e IDs, debemos fusionarla con la tabla `products`, tal como hicimos anteriormente.\n",
        "\n",
        "Comencemos filtrando.\n",
        "\n",
        "</font>"
      ]
    },
    {
      "cell_type": "code",
      "execution_count": 52,
      "id": "9374e55a",
      "metadata": {
        "colab": {
          "base_uri": "https://localhost:8080/",
          "height": 363
        },
        "id": "9374e55a",
        "outputId": "75c30234-a68a-4b51-b4b3-cdd0ffdedf7f"
      },
      "outputs": [
        {
          "data": {
            "text/html": [
              "<div>\n",
              "<style scoped>\n",
              "    .dataframe tbody tr th:only-of-type {\n",
              "        vertical-align: middle;\n",
              "    }\n",
              "\n",
              "    .dataframe tbody tr th {\n",
              "        vertical-align: top;\n",
              "    }\n",
              "\n",
              "    .dataframe thead th {\n",
              "        text-align: right;\n",
              "    }\n",
              "</style>\n",
              "<table border=\"1\" class=\"dataframe\">\n",
              "  <thead>\n",
              "    <tr style=\"text-align: right;\">\n",
              "      <th></th>\n",
              "      <th>order_id</th>\n",
              "      <th>product_id</th>\n",
              "      <th>add_to_cart_order</th>\n",
              "      <th>reordered</th>\n",
              "    </tr>\n",
              "  </thead>\n",
              "  <tbody>\n",
              "    <tr>\n",
              "      <th>1</th>\n",
              "      <td>567889</td>\n",
              "      <td>1560</td>\n",
              "      <td>1</td>\n",
              "      <td>1</td>\n",
              "    </tr>\n",
              "    <tr>\n",
              "      <th>2</th>\n",
              "      <td>2261212</td>\n",
              "      <td>26683</td>\n",
              "      <td>1</td>\n",
              "      <td>1</td>\n",
              "    </tr>\n",
              "    <tr>\n",
              "      <th>3</th>\n",
              "      <td>491251</td>\n",
              "      <td>8670</td>\n",
              "      <td>35</td>\n",
              "      <td>1</td>\n",
              "    </tr>\n",
              "    <tr>\n",
              "      <th>4</th>\n",
              "      <td>2571142</td>\n",
              "      <td>1940</td>\n",
              "      <td>5</td>\n",
              "      <td>1</td>\n",
              "    </tr>\n",
              "    <tr>\n",
              "      <th>5</th>\n",
              "      <td>2456893</td>\n",
              "      <td>21616</td>\n",
              "      <td>4</td>\n",
              "      <td>1</td>\n",
              "    </tr>\n",
              "    <tr>\n",
              "      <th>6</th>\n",
              "      <td>644579</td>\n",
              "      <td>12341</td>\n",
              "      <td>5</td>\n",
              "      <td>1</td>\n",
              "    </tr>\n",
              "    <tr>\n",
              "      <th>7</th>\n",
              "      <td>2231852</td>\n",
              "      <td>44925</td>\n",
              "      <td>10</td>\n",
              "      <td>1</td>\n",
              "    </tr>\n",
              "    <tr>\n",
              "      <th>8</th>\n",
              "      <td>3185766</td>\n",
              "      <td>36259</td>\n",
              "      <td>14</td>\n",
              "      <td>1</td>\n",
              "    </tr>\n",
              "    <tr>\n",
              "      <th>9</th>\n",
              "      <td>420019</td>\n",
              "      <td>23315</td>\n",
              "      <td>4</td>\n",
              "      <td>1</td>\n",
              "    </tr>\n",
              "    <tr>\n",
              "      <th>10</th>\n",
              "      <td>925051</td>\n",
              "      <td>9421</td>\n",
              "      <td>2</td>\n",
              "      <td>1</td>\n",
              "    </tr>\n",
              "  </tbody>\n",
              "</table>\n",
              "</div>"
            ],
            "text/plain": [
              "    order_id  product_id  add_to_cart_order  reordered\n",
              "1     567889        1560                  1          1\n",
              "2    2261212       26683                  1          1\n",
              "3     491251        8670                 35          1\n",
              "4    2571142        1940                  5          1\n",
              "5    2456893       21616                  4          1\n",
              "6     644579       12341                  5          1\n",
              "7    2231852       44925                 10          1\n",
              "8    3185766       36259                 14          1\n",
              "9     420019       23315                  4          1\n",
              "10    925051        9421                  2          1"
            ]
          },
          "execution_count": 52,
          "metadata": {},
          "output_type": "execute_result"
        }
      ],
      "source": [
        "reorder_products = order_products[order_products['reordered'] == 1]\n",
        "reorder_products.head(10)"
      ]
    },
    {
      "cell_type": "markdown",
      "id": "87250767",
      "metadata": {
        "id": "87250767"
      },
      "source": [
        "<font style=\"color:green\">\n",
        "\n",
        "Después, fusionamos la tabla filtrada con la tabla `products` para obtener los nombres e IDs en la misma tabla.\n",
        "\n",
        "</font>"
      ]
    },
    {
      "cell_type": "code",
      "execution_count": 53,
      "id": "possible-change",
      "metadata": {
        "colab": {
          "base_uri": "https://localhost:8080/",
          "height": 424
        },
        "id": "possible-change",
        "outputId": "da5ce79f-2bde-4d7e-a6b3-f0364183ef36",
        "scrolled": true
      },
      "outputs": [
        {
          "data": {
            "text/html": [
              "<div>\n",
              "<style scoped>\n",
              "    .dataframe tbody tr th:only-of-type {\n",
              "        vertical-align: middle;\n",
              "    }\n",
              "\n",
              "    .dataframe tbody tr th {\n",
              "        vertical-align: top;\n",
              "    }\n",
              "\n",
              "    .dataframe thead th {\n",
              "        text-align: right;\n",
              "    }\n",
              "</style>\n",
              "<table border=\"1\" class=\"dataframe\">\n",
              "  <thead>\n",
              "    <tr style=\"text-align: right;\">\n",
              "      <th></th>\n",
              "      <th>order_id</th>\n",
              "      <th>product_id</th>\n",
              "      <th>add_to_cart_order</th>\n",
              "      <th>reordered</th>\n",
              "      <th>product_name</th>\n",
              "      <th>aisle_id</th>\n",
              "      <th>department_id</th>\n",
              "    </tr>\n",
              "  </thead>\n",
              "  <tbody>\n",
              "    <tr>\n",
              "      <th>0</th>\n",
              "      <td>567889</td>\n",
              "      <td>1560</td>\n",
              "      <td>1</td>\n",
              "      <td>1</td>\n",
              "      <td>Bag Of Ice</td>\n",
              "      <td>37</td>\n",
              "      <td>1</td>\n",
              "    </tr>\n",
              "    <tr>\n",
              "      <th>1</th>\n",
              "      <td>761899</td>\n",
              "      <td>1560</td>\n",
              "      <td>2</td>\n",
              "      <td>1</td>\n",
              "      <td>Bag Of Ice</td>\n",
              "      <td>37</td>\n",
              "      <td>1</td>\n",
              "    </tr>\n",
              "    <tr>\n",
              "      <th>2</th>\n",
              "      <td>1388514</td>\n",
              "      <td>1560</td>\n",
              "      <td>8</td>\n",
              "      <td>1</td>\n",
              "      <td>Bag Of Ice</td>\n",
              "      <td>37</td>\n",
              "      <td>1</td>\n",
              "    </tr>\n",
              "    <tr>\n",
              "      <th>3</th>\n",
              "      <td>2629631</td>\n",
              "      <td>1560</td>\n",
              "      <td>1</td>\n",
              "      <td>1</td>\n",
              "      <td>Bag Of Ice</td>\n",
              "      <td>37</td>\n",
              "      <td>1</td>\n",
              "    </tr>\n",
              "    <tr>\n",
              "      <th>4</th>\n",
              "      <td>866921</td>\n",
              "      <td>1560</td>\n",
              "      <td>6</td>\n",
              "      <td>1</td>\n",
              "      <td>Bag Of Ice</td>\n",
              "      <td>37</td>\n",
              "      <td>1</td>\n",
              "    </tr>\n",
              "    <tr>\n",
              "      <th>...</th>\n",
              "      <td>...</td>\n",
              "      <td>...</td>\n",
              "      <td>...</td>\n",
              "      <td>...</td>\n",
              "      <td>...</td>\n",
              "      <td>...</td>\n",
              "      <td>...</td>\n",
              "    </tr>\n",
              "    <tr>\n",
              "      <th>2683833</th>\n",
              "      <td>1338379</td>\n",
              "      <td>33506</td>\n",
              "      <td>3</td>\n",
              "      <td>1</td>\n",
              "      <td>Simply 9 White Meat Chicken &amp; Whole Barley Rec...</td>\n",
              "      <td>40</td>\n",
              "      <td>8</td>\n",
              "    </tr>\n",
              "    <tr>\n",
              "      <th>2683834</th>\n",
              "      <td>191894</td>\n",
              "      <td>27878</td>\n",
              "      <td>3</td>\n",
              "      <td>1</td>\n",
              "      <td>Crackers Wheat Sundried Tomato Basil Crispy</td>\n",
              "      <td>78</td>\n",
              "      <td>19</td>\n",
              "    </tr>\n",
              "    <tr>\n",
              "      <th>2683835</th>\n",
              "      <td>3041739</td>\n",
              "      <td>31751</td>\n",
              "      <td>14</td>\n",
              "      <td>1</td>\n",
              "      <td>French Style Cut Green Beans</td>\n",
              "      <td>116</td>\n",
              "      <td>1</td>\n",
              "    </tr>\n",
              "    <tr>\n",
              "      <th>2683836</th>\n",
              "      <td>949244</td>\n",
              "      <td>24384</td>\n",
              "      <td>18</td>\n",
              "      <td>1</td>\n",
              "      <td>Invisible Matte Finish Tape</td>\n",
              "      <td>10</td>\n",
              "      <td>17</td>\n",
              "    </tr>\n",
              "    <tr>\n",
              "      <th>2683837</th>\n",
              "      <td>1078099</td>\n",
              "      <td>47673</td>\n",
              "      <td>11</td>\n",
              "      <td>1</td>\n",
              "      <td>Toast Chee Peanut Butter Sandwich Crackers</td>\n",
              "      <td>78</td>\n",
              "      <td>19</td>\n",
              "    </tr>\n",
              "  </tbody>\n",
              "</table>\n",
              "<p>2683838 rows × 7 columns</p>\n",
              "</div>"
            ],
            "text/plain": [
              "         order_id  product_id  add_to_cart_order  reordered  \\\n",
              "0          567889        1560                  1          1   \n",
              "1          761899        1560                  2          1   \n",
              "2         1388514        1560                  8          1   \n",
              "3         2629631        1560                  1          1   \n",
              "4          866921        1560                  6          1   \n",
              "...           ...         ...                ...        ...   \n",
              "2683833   1338379       33506                  3          1   \n",
              "2683834    191894       27878                  3          1   \n",
              "2683835   3041739       31751                 14          1   \n",
              "2683836    949244       24384                 18          1   \n",
              "2683837   1078099       47673                 11          1   \n",
              "\n",
              "                                              product_name  aisle_id  \\\n",
              "0                                               Bag Of Ice        37   \n",
              "1                                               Bag Of Ice        37   \n",
              "2                                               Bag Of Ice        37   \n",
              "3                                               Bag Of Ice        37   \n",
              "4                                               Bag Of Ice        37   \n",
              "...                                                    ...       ...   \n",
              "2683833  Simply 9 White Meat Chicken & Whole Barley Rec...        40   \n",
              "2683834        Crackers Wheat Sundried Tomato Basil Crispy        78   \n",
              "2683835                       French Style Cut Green Beans       116   \n",
              "2683836                        Invisible Matte Finish Tape        10   \n",
              "2683837         Toast Chee Peanut Butter Sandwich Crackers        78   \n",
              "\n",
              "         department_id  \n",
              "0                    1  \n",
              "1                    1  \n",
              "2                    1  \n",
              "3                    1  \n",
              "4                    1  \n",
              "...                ...  \n",
              "2683833              8  \n",
              "2683834             19  \n",
              "2683835              1  \n",
              "2683836             17  \n",
              "2683837             19  \n",
              "\n",
              "[2683838 rows x 7 columns]"
            ]
          },
          "execution_count": 53,
          "metadata": {},
          "output_type": "execute_result"
        }
      ],
      "source": [
        "df_merge = reorder_products.merge(products, on='product_id')\n",
        "df_merge"
      ]
    },
    {
      "cell_type": "markdown",
      "id": "c6722588",
      "metadata": {
        "id": "c6722588"
      },
      "source": [
        "<font style=\"color:green\">\n",
        "\n",
        "Y ahora agrupamos por las IDs y nombres de productos, contamos el tamaño de cada grupo, los ordenamos en orden descendente, y mantenemos las primeras 20 filas; tal como lo hicimos antes.\n",
        "\n",
        "</font>"
      ]
    },
    {
      "cell_type": "code",
      "execution_count": 54,
      "id": "professional-surfing",
      "metadata": {
        "colab": {
          "base_uri": "https://localhost:8080/"
        },
        "id": "professional-surfing",
        "outputId": "357250f0-6747-4657-ce31-33d7f2820cc4",
        "scrolled": true
      },
      "outputs": [
        {
          "data": {
            "text/plain": [
              "product_id  product_name            \n",
              "24852       Banana                      55763\n",
              "13176       Bag of Organic Bananas      44450\n",
              "21137       Organic Strawberries        28639\n",
              "21903       Organic Baby Spinach        26233\n",
              "47209       Organic Hass Avocado        23629\n",
              "47766       Organic Avocado             18743\n",
              "27845       Organic Whole Milk          16251\n",
              "47626       Large Lemon                 15044\n",
              "27966       Organic Raspberries         14748\n",
              "16797       Strawberries                13945\n",
              "26209       Limes                       13327\n",
              "22935       Organic Yellow Onion        11145\n",
              "24964       Organic Garlic              10411\n",
              "45007       Organic Zucchini            10076\n",
              "49683       Cucumber Kirby               9538\n",
              "28204       Organic Fuji Apple           8989\n",
              "8277        Apple Honeycrisp Organic     8836\n",
              "39275       Organic Blueberries          8799\n",
              "5876        Organic Lemon                8412\n",
              "49235       Organic Half & Half          8389\n",
              "dtype: int64"
            ]
          },
          "execution_count": 54,
          "metadata": {},
          "output_type": "execute_result"
        }
      ],
      "source": [
        "top_reordered_products = df_merge.groupby(['product_id', 'product_name']).size().sort_values(ascending=False)\n",
        "top_reordered_products.head(20)"
      ]
    },
    {
      "cell_type": "markdown",
      "id": "2200dcf7",
      "metadata": {
        "id": "2200dcf7"
      },
      "source": [
        "<font style=\"color:green\">\n",
        "\n",
        "La pregunta no requiere un gráfico de barras, pero incluimos uno aquí por cualquier cosa.\n",
        "\n",
        "</font>"
      ]
    },
    {
      "cell_type": "code",
      "execution_count": 55,
      "id": "48dd3658",
      "metadata": {
        "colab": {
          "base_uri": "https://localhost:8080/",
          "height": 670
        },
        "id": "48dd3658",
        "outputId": "4684ccd0-0f87-49cd-e101-d8167864fb11"
      },
      "outputs": [
        {
          "data": {
            "image/png": "[encoded data removed]",
            "text/plain": [
              "<Figure size 640x480 with 1 Axes>"
            ]
          },
          "metadata": {},
          "output_type": "display_data"
        }
      ],
      "source": [
        "top_reordered_products.head(20).plot.bar()\n",
        "plt.show()"
      ]
    },
    {
      "cell_type": "markdown",
      "id": "80e70c74",
      "metadata": {
        "id": "80e70c74"
      },
      "source": [
        "Parece que los productos agrícolas y los lácteos también son los productos que más se vuelven a pedir. Y es normal que los perecederos sean los artículos que más se pidan nuevamente."
      ]
    },
    {
      "cell_type": "markdown",
      "id": "9d312b14",
      "metadata": {
        "id": "9d312b14"
      },
      "source": [
        "### [C3] Para cada producto, ¿cuál es la tasa de repetición del pedido (número de repeticiones de pedido/total de pedidos?"
      ]
    },
    {
      "cell_type": "markdown",
      "id": "19272b37",
      "metadata": {
        "id": "19272b37"
      },
      "source": [
        "<font style=\"color:green\">\n",
        "\n",
        "La idea aquí es calcular para cada producto:\n",
        "\n",
        "tasa de repetición de pedido = (número de repeticiones de pedido) / (total de pedidos)\n",
        "\n",
        "También queremos incluir los nombres e IDs de productos junto con la tasa de repetición de pedido, así que nuevamente debemos fusionar `order_products` con `products`.\n",
        "\n",
        "Comencemos por asegurarnos de que la columna `'reordered'` únicamente contenga 1 (pedido nuevamente) y 0 (primer pedido). Ten en cuenta que está bien si un estudiante omite este paso, pero es una buena práctica comprobar siempre que los valores de columnas tengan sentido, especialmente cuando es fácil hacerlo.\n",
        "\n",
        "</font>"
      ]
    },
    {
      "cell_type": "code",
      "execution_count": 56,
      "id": "8ae9f4b1",
      "metadata": {
        "colab": {
          "base_uri": "https://localhost:8080/"
        },
        "id": "8ae9f4b1",
        "outputId": "5eec6ba5-38fc-4826-d720-5fe4d69d6a44"
      },
      "outputs": [
        {
          "data": {
            "text/plain": [
              "array([0, 1], dtype=int64)"
            ]
          },
          "execution_count": 56,
          "metadata": {},
          "output_type": "execute_result"
        }
      ],
      "source": [
        "order_products['reordered'].unique()"
      ]
    },
    {
      "cell_type": "markdown",
      "id": "462f2b43",
      "metadata": {
        "id": "462f2b43"
      },
      "source": [
        "<font style=\"color:green\">\n",
        "\n",
        "Perfecto, se ve bien. Ahora, vamos a usar el DataFrame fusionado para crear un Series de dos índices en donde el índice contenga los nombres e IDs de productos, y los valores de Series sean las tasas de repetición de pedido.\n",
        "\n",
        "Podemos utilizar `mean()` para calcular las tasas aquí, ya que los valores son solo 0 y 1.\n",
        "\n",
        "</font>"
      ]
    },
    {
      "cell_type": "code",
      "execution_count": 57,
      "id": "103e7fe1",
      "metadata": {
        "colab": {
          "base_uri": "https://localhost:8080/"
        },
        "id": "103e7fe1",
        "outputId": "de5c6eb8-89ab-461b-d5a7-0db90e32cd8d"
      },
      "outputs": [
        {
          "data": {
            "text/plain": [
              "product_id  product_name                                                     \n",
              "1           Chocolate Sandwich Cookies                                           0.564286\n",
              "2           All-Seasons Salt                                                     0.000000\n",
              "3           Robust Golden Unsweetened Oolong Tea                                 0.738095\n",
              "4           Smart Ones Classic Favorites Mini Rigatoni With Vodka Cream Sauce    0.510204\n",
              "7           Pure Coconut Water With Orange                                       0.500000\n",
              "                                                                                   ...   \n",
              "49690       HIGH PERFORMANCE ENERGY DRINK                                        0.800000\n",
              "49691       ORIGINAL PANCAKE & WAFFLE MIX                                        0.430556\n",
              "49692       ORGANIC INSTANT OATMEAL LIGHT MAPLE BROWN SUGAR                      0.416667\n",
              "49693       SPRING WATER BODY WASH                                               0.440000\n",
              "49694       BURRITO- STEAK & CHEESE                                              0.333333\n",
              "Name: reordered, Length: 45573, dtype: float64"
            ]
          },
          "execution_count": 57,
          "metadata": {},
          "output_type": "execute_result"
        }
      ],
      "source": [
        "df_merge = order_products.merge(products)\n",
        "reorder_rate = df_merge.groupby(['product_id', 'product_name'])['reordered'].mean()\n",
        "reorder_rate"
      ]
    },
    {
      "cell_type": "markdown",
      "id": "90229b26",
      "metadata": {
        "id": "90229b26"
      },
      "source": [
        "<font style=\"color:green\">\n",
        "\n",
        "El paso final es convertir el Series anterior en un DataFrame con tres columnas. La manera más sencilla de hacer esto es llamar `reset_index()`.\n",
        "\n",
        "Nosotros ordenamos los valores por ID de producto antes de mostrarlos, pero no es necesario.\n",
        "\n",
        "También observa que la última columna aún tiene el nombre de `'reordered'`, así que los estudiantes deben cambiarlo por un mejor nombre, si así lo desean.\n",
        "\n",
        "</font>"
      ]
    },
    {
      "cell_type": "code",
      "execution_count": 58,
      "id": "social-individual",
      "metadata": {
        "colab": {
          "base_uri": "https://localhost:8080/",
          "height": 424
        },
        "id": "social-individual",
        "outputId": "36228fb1-123c-40a7-ca06-5ec6f6f4fbaa"
      },
      "outputs": [
        {
          "data": {
            "text/html": [
              "<div>\n",
              "<style scoped>\n",
              "    .dataframe tbody tr th:only-of-type {\n",
              "        vertical-align: middle;\n",
              "    }\n",
              "\n",
              "    .dataframe tbody tr th {\n",
              "        vertical-align: top;\n",
              "    }\n",
              "\n",
              "    .dataframe thead th {\n",
              "        text-align: right;\n",
              "    }\n",
              "</style>\n",
              "<table border=\"1\" class=\"dataframe\">\n",
              "  <thead>\n",
              "    <tr style=\"text-align: right;\">\n",
              "      <th></th>\n",
              "      <th>product_id</th>\n",
              "      <th>product_name</th>\n",
              "      <th>reordered</th>\n",
              "    </tr>\n",
              "  </thead>\n",
              "  <tbody>\n",
              "    <tr>\n",
              "      <th>12126</th>\n",
              "      <td>1</td>\n",
              "      <td>Chocolate Sandwich Cookies</td>\n",
              "      <td>0.564286</td>\n",
              "    </tr>\n",
              "    <tr>\n",
              "      <th>43403</th>\n",
              "      <td>2</td>\n",
              "      <td>All-Seasons Salt</td>\n",
              "      <td>0.000000</td>\n",
              "    </tr>\n",
              "    <tr>\n",
              "      <th>3834</th>\n",
              "      <td>3</td>\n",
              "      <td>Robust Golden Unsweetened Oolong Tea</td>\n",
              "      <td>0.738095</td>\n",
              "    </tr>\n",
              "    <tr>\n",
              "      <th>14955</th>\n",
              "      <td>4</td>\n",
              "      <td>Smart Ones Classic Favorites Mini Rigatoni Wit...</td>\n",
              "      <td>0.510204</td>\n",
              "    </tr>\n",
              "    <tr>\n",
              "      <th>18024</th>\n",
              "      <td>7</td>\n",
              "      <td>Pure Coconut Water With Orange</td>\n",
              "      <td>0.500000</td>\n",
              "    </tr>\n",
              "    <tr>\n",
              "      <th>...</th>\n",
              "      <td>...</td>\n",
              "      <td>...</td>\n",
              "      <td>...</td>\n",
              "    </tr>\n",
              "    <tr>\n",
              "      <th>2623</th>\n",
              "      <td>49690</td>\n",
              "      <td>HIGH PERFORMANCE ENERGY DRINK</td>\n",
              "      <td>0.800000</td>\n",
              "    </tr>\n",
              "    <tr>\n",
              "      <th>21509</th>\n",
              "      <td>49691</td>\n",
              "      <td>ORIGINAL PANCAKE &amp; WAFFLE MIX</td>\n",
              "      <td>0.430556</td>\n",
              "    </tr>\n",
              "    <tr>\n",
              "      <th>22342</th>\n",
              "      <td>49692</td>\n",
              "      <td>ORGANIC INSTANT OATMEAL LIGHT MAPLE BROWN SUGAR</td>\n",
              "      <td>0.416667</td>\n",
              "    </tr>\n",
              "    <tr>\n",
              "      <th>21155</th>\n",
              "      <td>49693</td>\n",
              "      <td>SPRING WATER BODY WASH</td>\n",
              "      <td>0.440000</td>\n",
              "    </tr>\n",
              "    <tr>\n",
              "      <th>26906</th>\n",
              "      <td>49694</td>\n",
              "      <td>BURRITO- STEAK &amp; CHEESE</td>\n",
              "      <td>0.333333</td>\n",
              "    </tr>\n",
              "  </tbody>\n",
              "</table>\n",
              "<p>45573 rows × 3 columns</p>\n",
              "</div>"
            ],
            "text/plain": [
              "       product_id                                       product_name  \\\n",
              "12126           1                         Chocolate Sandwich Cookies   \n",
              "43403           2                                   All-Seasons Salt   \n",
              "3834            3               Robust Golden Unsweetened Oolong Tea   \n",
              "14955           4  Smart Ones Classic Favorites Mini Rigatoni Wit...   \n",
              "18024           7                     Pure Coconut Water With Orange   \n",
              "...           ...                                                ...   \n",
              "2623        49690                      HIGH PERFORMANCE ENERGY DRINK   \n",
              "21509       49691                      ORIGINAL PANCAKE & WAFFLE MIX   \n",
              "22342       49692    ORGANIC INSTANT OATMEAL LIGHT MAPLE BROWN SUGAR   \n",
              "21155       49693                             SPRING WATER BODY WASH   \n",
              "26906       49694                            BURRITO- STEAK & CHEESE   \n",
              "\n",
              "       reordered  \n",
              "12126   0.564286  \n",
              "43403   0.000000  \n",
              "3834    0.738095  \n",
              "14955   0.510204  \n",
              "18024   0.500000  \n",
              "...          ...  \n",
              "2623    0.800000  \n",
              "21509   0.430556  \n",
              "22342   0.416667  \n",
              "21155   0.440000  \n",
              "26906   0.333333  \n",
              "\n",
              "[45573 rows x 3 columns]"
            ]
          },
          "execution_count": 58,
          "metadata": {},
          "output_type": "execute_result"
        }
      ],
      "source": [
        "reorder_rate_as_df = reorder_rate.sort_values(ascending=False).reset_index()\n",
        "reorder_rate_as_df.sort_values(by='product_id')"
      ]
    },
    {
      "cell_type": "markdown",
      "id": "subject-boxing",
      "metadata": {
        "id": "subject-boxing"
      },
      "source": [
        "### [C4] Para cada cliente, ¿qué proporción de sus productos ya los había pedido? Calcula la tasa de repetición de pedido para cada usuario en lugar de para cada producto."
      ]
    },
    {
      "cell_type": "markdown",
      "id": "3d9c75e1",
      "metadata": {
        "id": "3d9c75e1"
      },
      "source": [
        "<font style=\"color:green\">\n",
        "\n",
        "Esta pregunta es parecida a la anterior, excepto que queremos calcular la tasa de repetición de pedido para cada usuario en lugar de para cada producto.\n",
        "\n",
        "A pesar de que los usuarios no tienen nombre en este conjunto de datos, debemos hacer una fusión para que en la misma tabla obtengamos la columna `'reordered'` y la columna `'user_id'`.\n",
        "\n",
        "Comenzamos haciendo la fusión, agrupando por ID de usuario, y llamando `mean()` en la columna `'reordered'` para calcular la tasa de repetición de pedido.\n",
        "\n",
        "</font>"
      ]
    },
    {
      "cell_type": "code",
      "execution_count": 59,
      "id": "medical-couple",
      "metadata": {
        "colab": {
          "base_uri": "https://localhost:8080/"
        },
        "id": "medical-couple",
        "outputId": "a588901a-4c71-4efb-f98d-43bcb7383e26",
        "scrolled": true
      },
      "outputs": [
        {
          "data": {
            "text/plain": [
              "user_id\n",
              "2         0.038462\n",
              "4         0.000000\n",
              "5         0.666667\n",
              "6         0.000000\n",
              "7         0.928571\n",
              "            ...   \n",
              "206203    0.222222\n",
              "206206    0.714286\n",
              "206207    0.891304\n",
              "206208    0.696000\n",
              "206209    0.320000\n",
              "Name: reordered, Length: 149626, dtype: float64"
            ]
          },
          "execution_count": 59,
          "metadata": {},
          "output_type": "execute_result"
        }
      ],
      "source": [
        "df_merge = order_products.merge(orders)\n",
        "reorder_pct = df_merge.groupby('user_id')['reordered'].mean()\n",
        "reorder_pct"
      ]
    },
    {
      "cell_type": "markdown",
      "id": "f476607c",
      "metadata": {
        "id": "f476607c"
      },
      "source": [
        "<font style=\"color:green\">\n",
        "\n",
        "Aquí no se pregunta si esto es un DataFrame con dos columnas, así que el resultado anterior está bien. Pero, si queremos, podemos usar nuevamente `reset_index()` para convertirlo en un DataFrame.\n",
        "\n",
        "</font>"
      ]
    },
    {
      "cell_type": "code",
      "execution_count": 60,
      "id": "8892e4b4",
      "metadata": {
        "colab": {
          "base_uri": "https://localhost:8080/",
          "height": 424
        },
        "id": "8892e4b4",
        "outputId": "b3acccd9-bc75-41ed-a5cd-b4542371af8d"
      },
      "outputs": [
        {
          "data": {
            "text/html": [
              "<div>\n",
              "<style scoped>\n",
              "    .dataframe tbody tr th:only-of-type {\n",
              "        vertical-align: middle;\n",
              "    }\n",
              "\n",
              "    .dataframe tbody tr th {\n",
              "        vertical-align: top;\n",
              "    }\n",
              "\n",
              "    .dataframe thead th {\n",
              "        text-align: right;\n",
              "    }\n",
              "</style>\n",
              "<table border=\"1\" class=\"dataframe\">\n",
              "  <thead>\n",
              "    <tr style=\"text-align: right;\">\n",
              "      <th></th>\n",
              "      <th>user_id</th>\n",
              "      <th>reordered</th>\n",
              "    </tr>\n",
              "  </thead>\n",
              "  <tbody>\n",
              "    <tr>\n",
              "      <th>0</th>\n",
              "      <td>137587</td>\n",
              "      <td>1.0</td>\n",
              "    </tr>\n",
              "    <tr>\n",
              "      <th>1</th>\n",
              "      <td>173474</td>\n",
              "      <td>1.0</td>\n",
              "    </tr>\n",
              "    <tr>\n",
              "      <th>2</th>\n",
              "      <td>13918</td>\n",
              "      <td>1.0</td>\n",
              "    </tr>\n",
              "    <tr>\n",
              "      <th>3</th>\n",
              "      <td>62300</td>\n",
              "      <td>1.0</td>\n",
              "    </tr>\n",
              "    <tr>\n",
              "      <th>4</th>\n",
              "      <td>62307</td>\n",
              "      <td>1.0</td>\n",
              "    </tr>\n",
              "    <tr>\n",
              "      <th>...</th>\n",
              "      <td>...</td>\n",
              "      <td>...</td>\n",
              "    </tr>\n",
              "    <tr>\n",
              "      <th>149621</th>\n",
              "      <td>190953</td>\n",
              "      <td>0.0</td>\n",
              "    </tr>\n",
              "    <tr>\n",
              "      <th>149622</th>\n",
              "      <td>119371</td>\n",
              "      <td>0.0</td>\n",
              "    </tr>\n",
              "    <tr>\n",
              "      <th>149623</th>\n",
              "      <td>63173</td>\n",
              "      <td>0.0</td>\n",
              "    </tr>\n",
              "    <tr>\n",
              "      <th>149624</th>\n",
              "      <td>63163</td>\n",
              "      <td>0.0</td>\n",
              "    </tr>\n",
              "    <tr>\n",
              "      <th>149625</th>\n",
              "      <td>165726</td>\n",
              "      <td>0.0</td>\n",
              "    </tr>\n",
              "  </tbody>\n",
              "</table>\n",
              "<p>149626 rows × 2 columns</p>\n",
              "</div>"
            ],
            "text/plain": [
              "        user_id  reordered\n",
              "0        137587        1.0\n",
              "1        173474        1.0\n",
              "2         13918        1.0\n",
              "3         62300        1.0\n",
              "4         62307        1.0\n",
              "...         ...        ...\n",
              "149621   190953        0.0\n",
              "149622   119371        0.0\n",
              "149623    63173        0.0\n",
              "149624    63163        0.0\n",
              "149625   165726        0.0\n",
              "\n",
              "[149626 rows x 2 columns]"
            ]
          },
          "execution_count": 60,
          "metadata": {},
          "output_type": "execute_result"
        }
      ],
      "source": [
        "reorder_pct_as_df = reorder_pct.sort_values(ascending=False).reset_index()\n",
        "reorder_pct_as_df"
      ]
    },
    {
      "cell_type": "markdown",
      "id": "92d35137",
      "metadata": {
        "id": "92d35137"
      },
      "source": [
        "### [C5] ¿Cuáles son los 20 principales artículos que las personas ponen primero en sus carritos?"
      ]
    },
    {
      "cell_type": "markdown",
      "id": "983da134",
      "metadata": {
        "id": "983da134"
      },
      "source": [
        "<font style=\"color:green\">\n",
        "\n",
        "Queremos mostrar los nombres, IDs y conteos para los 20 artículos que más frecuentemente son el primer artículo en seleccionarse en un pedido.\n",
        "\n",
        "Nuestra estrategia es fusionar tablas, filtrar la tabla fusionada para que solo mantengamos las filas de los productos que agregamos primero al carrito, después contamos cuántas filas tenemos para cada producto único y mantenemos únicamente las 20 principales.\n",
        "\n",
        "Vamos a empezar por fusionar y filtrar.\n",
        "\n",
        "</font>"
      ]
    },
    {
      "cell_type": "code",
      "execution_count": 61,
      "id": "0ae57274",
      "metadata": {
        "colab": {
          "base_uri": "https://localhost:8080/",
          "height": 424
        },
        "id": "0ae57274",
        "outputId": "9b5cfee0-e41e-49a7-cff3-ec2e0ee38650",
        "scrolled": true
      },
      "outputs": [
        {
          "data": {
            "text/html": [
              "<div>\n",
              "<style scoped>\n",
              "    .dataframe tbody tr th:only-of-type {\n",
              "        vertical-align: middle;\n",
              "    }\n",
              "\n",
              "    .dataframe tbody tr th {\n",
              "        vertical-align: top;\n",
              "    }\n",
              "\n",
              "    .dataframe thead th {\n",
              "        text-align: right;\n",
              "    }\n",
              "</style>\n",
              "<table border=\"1\" class=\"dataframe\">\n",
              "  <thead>\n",
              "    <tr style=\"text-align: right;\">\n",
              "      <th></th>\n",
              "      <th>order_id</th>\n",
              "      <th>product_id</th>\n",
              "      <th>add_to_cart_order</th>\n",
              "      <th>reordered</th>\n",
              "      <th>product_name</th>\n",
              "      <th>aisle_id</th>\n",
              "      <th>department_id</th>\n",
              "    </tr>\n",
              "  </thead>\n",
              "  <tbody>\n",
              "    <tr>\n",
              "      <th>6</th>\n",
              "      <td>1463503</td>\n",
              "      <td>11440</td>\n",
              "      <td>1</td>\n",
              "      <td>0</td>\n",
              "      <td>Chicken Breast Tenders Breaded</td>\n",
              "      <td>129</td>\n",
              "      <td>1</td>\n",
              "    </tr>\n",
              "    <tr>\n",
              "      <th>17</th>\n",
              "      <td>2201430</td>\n",
              "      <td>11440</td>\n",
              "      <td>1</td>\n",
              "      <td>1</td>\n",
              "      <td>Chicken Breast Tenders Breaded</td>\n",
              "      <td>129</td>\n",
              "      <td>1</td>\n",
              "    </tr>\n",
              "    <tr>\n",
              "      <th>21</th>\n",
              "      <td>1036054</td>\n",
              "      <td>11440</td>\n",
              "      <td>1</td>\n",
              "      <td>1</td>\n",
              "      <td>Chicken Breast Tenders Breaded</td>\n",
              "      <td>129</td>\n",
              "      <td>1</td>\n",
              "    </tr>\n",
              "    <tr>\n",
              "      <th>50</th>\n",
              "      <td>3008652</td>\n",
              "      <td>11440</td>\n",
              "      <td>1</td>\n",
              "      <td>1</td>\n",
              "      <td>Chicken Breast Tenders Breaded</td>\n",
              "      <td>129</td>\n",
              "      <td>1</td>\n",
              "    </tr>\n",
              "    <tr>\n",
              "      <th>62</th>\n",
              "      <td>2946144</td>\n",
              "      <td>11440</td>\n",
              "      <td>1</td>\n",
              "      <td>1</td>\n",
              "      <td>Chicken Breast Tenders Breaded</td>\n",
              "      <td>129</td>\n",
              "      <td>1</td>\n",
              "    </tr>\n",
              "    <tr>\n",
              "      <th>...</th>\n",
              "      <td>...</td>\n",
              "      <td>...</td>\n",
              "      <td>...</td>\n",
              "      <td>...</td>\n",
              "      <td>...</td>\n",
              "      <td>...</td>\n",
              "      <td>...</td>\n",
              "    </tr>\n",
              "    <tr>\n",
              "      <th>4544972</th>\n",
              "      <td>1518168</td>\n",
              "      <td>16952</td>\n",
              "      <td>1</td>\n",
              "      <td>0</td>\n",
              "      <td>Sensitive Night Cream</td>\n",
              "      <td>73</td>\n",
              "      <td>11</td>\n",
              "    </tr>\n",
              "    <tr>\n",
              "      <th>4544977</th>\n",
              "      <td>1776450</td>\n",
              "      <td>21507</td>\n",
              "      <td>1</td>\n",
              "      <td>0</td>\n",
              "      <td>Gluten Free All-Purpose Rice Flour Blend</td>\n",
              "      <td>17</td>\n",
              "      <td>13</td>\n",
              "    </tr>\n",
              "    <tr>\n",
              "      <th>4544995</th>\n",
              "      <td>2333206</td>\n",
              "      <td>25467</td>\n",
              "      <td>1</td>\n",
              "      <td>0</td>\n",
              "      <td>Madagascar Pure Vanilla</td>\n",
              "      <td>17</td>\n",
              "      <td>13</td>\n",
              "    </tr>\n",
              "    <tr>\n",
              "      <th>4545005</th>\n",
              "      <td>532895</td>\n",
              "      <td>8182</td>\n",
              "      <td>1</td>\n",
              "      <td>0</td>\n",
              "      <td>Total Mint Stripe Gel Toothpaste</td>\n",
              "      <td>20</td>\n",
              "      <td>11</td>\n",
              "    </tr>\n",
              "    <tr>\n",
              "      <th>4545006</th>\n",
              "      <td>3132243</td>\n",
              "      <td>40024</td>\n",
              "      <td>1</td>\n",
              "      <td>0</td>\n",
              "      <td>Egg Replacer Powder</td>\n",
              "      <td>17</td>\n",
              "      <td>13</td>\n",
              "    </tr>\n",
              "  </tbody>\n",
              "</table>\n",
              "<p>450046 rows × 7 columns</p>\n",
              "</div>"
            ],
            "text/plain": [
              "         order_id  product_id  add_to_cart_order  reordered  \\\n",
              "6         1463503       11440                  1          0   \n",
              "17        2201430       11440                  1          1   \n",
              "21        1036054       11440                  1          1   \n",
              "50        3008652       11440                  1          1   \n",
              "62        2946144       11440                  1          1   \n",
              "...           ...         ...                ...        ...   \n",
              "4544972   1518168       16952                  1          0   \n",
              "4544977   1776450       21507                  1          0   \n",
              "4544995   2333206       25467                  1          0   \n",
              "4545005    532895        8182                  1          0   \n",
              "4545006   3132243       40024                  1          0   \n",
              "\n",
              "                                     product_name  aisle_id  department_id  \n",
              "6                  Chicken Breast Tenders Breaded       129              1  \n",
              "17                 Chicken Breast Tenders Breaded       129              1  \n",
              "21                 Chicken Breast Tenders Breaded       129              1  \n",
              "50                 Chicken Breast Tenders Breaded       129              1  \n",
              "62                 Chicken Breast Tenders Breaded       129              1  \n",
              "...                                           ...       ...            ...  \n",
              "4544972                     Sensitive Night Cream        73             11  \n",
              "4544977  Gluten Free All-Purpose Rice Flour Blend        17             13  \n",
              "4544995                   Madagascar Pure Vanilla        17             13  \n",
              "4545005          Total Mint Stripe Gel Toothpaste        20             11  \n",
              "4545006                       Egg Replacer Powder        17             13  \n",
              "\n",
              "[450046 rows x 7 columns]"
            ]
          },
          "execution_count": 61,
          "metadata": {},
          "output_type": "execute_result"
        }
      ],
      "source": [
        "df_merge = order_products.merge(products)\n",
        "first_in_cart = df_merge[df_merge['add_to_cart_order'] == 1]\n",
        "first_in_cart"
      ]
    },
    {
      "cell_type": "markdown",
      "id": "53d30589",
      "metadata": {
        "id": "53d30589"
      },
      "source": [
        "<font style=\"color:green\">\n",
        "\n",
        "Ahora que ya tenemos una tabla debidamente filtrada con la cual trabajar, podemos agrupar por nombre e ID de producto y simplemente contar cuántas filas hay para cada grupo. Vamos a ordenar los valores en orden descendente para que podamos ver los más frecuentes.\n",
        "\n",
        "</font>"
      ]
    },
    {
      "cell_type": "code",
      "execution_count": 62,
      "id": "forty-netherlands",
      "metadata": {
        "colab": {
          "base_uri": "https://localhost:8080/"
        },
        "id": "forty-netherlands",
        "outputId": "b6b4bb41-abca-463e-d78d-941fc88e9985",
        "scrolled": true
      },
      "outputs": [
        {
          "data": {
            "text/plain": [
              "product_id  product_name                                               \n",
              "24852       Banana                                                         15562\n",
              "13176       Bag of Organic Bananas                                         11026\n",
              "27845       Organic Whole Milk                                              4363\n",
              "21137       Organic Strawberries                                            3946\n",
              "47209       Organic Hass Avocado                                            3390\n",
              "                                                                           ...  \n",
              "10981       Cloud White Decorating Cupcake Icing                               1\n",
              "10985       Premium Twin Pack Rock Cornish Game Hen                            1\n",
              "38272       Organic Raw Coconut Flour                                          1\n",
              "10989       Garbage Disposal Freshener & Cleaner Red Pear with Magnolia        1\n",
              "36996       Cool Sport Spray-On Sunscreen SPF 50                               1\n",
              "Name: product_id, Length: 26760, dtype: int64"
            ]
          },
          "execution_count": 62,
          "metadata": {},
          "output_type": "execute_result"
        }
      ],
      "source": [
        "first_count = first_in_cart.groupby(['product_id', 'product_name'])['product_id'].count().sort_values(ascending=False)\n",
        "first_count"
      ]
    },
    {
      "cell_type": "markdown",
      "id": "66ecfe90",
      "metadata": {
        "id": "66ecfe90"
      },
      "source": [
        "<font style=\"color:green\">\n",
        "\n",
        "El resultado anterior debería ser suficiente, pero podemos llamar `reset_index()` si queremos convertir nuestro resultado en un DataFrame. En este caso, debemos usar el parámetro `name=`, de otro modo, obtendremos un error por tener dos columnas con el mismo nombre.\n",
        "\n",
        "</font>"
      ]
    },
    {
      "cell_type": "code",
      "execution_count": 63,
      "id": "08e41ec2",
      "metadata": {
        "colab": {
          "base_uri": "https://localhost:8080/",
          "height": 677
        },
        "id": "08e41ec2",
        "outputId": "74a1112a-ffad-40a0-dbd7-a2bdc51afcbd"
      },
      "outputs": [
        {
          "data": {
            "text/html": [
              "<div>\n",
              "<style scoped>\n",
              "    .dataframe tbody tr th:only-of-type {\n",
              "        vertical-align: middle;\n",
              "    }\n",
              "\n",
              "    .dataframe tbody tr th {\n",
              "        vertical-align: top;\n",
              "    }\n",
              "\n",
              "    .dataframe thead th {\n",
              "        text-align: right;\n",
              "    }\n",
              "</style>\n",
              "<table border=\"1\" class=\"dataframe\">\n",
              "  <thead>\n",
              "    <tr style=\"text-align: right;\">\n",
              "      <th></th>\n",
              "      <th>product_id</th>\n",
              "      <th>product_name</th>\n",
              "      <th>count</th>\n",
              "    </tr>\n",
              "  </thead>\n",
              "  <tbody>\n",
              "    <tr>\n",
              "      <th>0</th>\n",
              "      <td>24852</td>\n",
              "      <td>Banana</td>\n",
              "      <td>15562</td>\n",
              "    </tr>\n",
              "    <tr>\n",
              "      <th>1</th>\n",
              "      <td>13176</td>\n",
              "      <td>Bag of Organic Bananas</td>\n",
              "      <td>11026</td>\n",
              "    </tr>\n",
              "    <tr>\n",
              "      <th>2</th>\n",
              "      <td>27845</td>\n",
              "      <td>Organic Whole Milk</td>\n",
              "      <td>4363</td>\n",
              "    </tr>\n",
              "    <tr>\n",
              "      <th>3</th>\n",
              "      <td>21137</td>\n",
              "      <td>Organic Strawberries</td>\n",
              "      <td>3946</td>\n",
              "    </tr>\n",
              "    <tr>\n",
              "      <th>4</th>\n",
              "      <td>47209</td>\n",
              "      <td>Organic Hass Avocado</td>\n",
              "      <td>3390</td>\n",
              "    </tr>\n",
              "    <tr>\n",
              "      <th>5</th>\n",
              "      <td>21903</td>\n",
              "      <td>Organic Baby Spinach</td>\n",
              "      <td>3336</td>\n",
              "    </tr>\n",
              "    <tr>\n",
              "      <th>6</th>\n",
              "      <td>47766</td>\n",
              "      <td>Organic Avocado</td>\n",
              "      <td>3044</td>\n",
              "    </tr>\n",
              "    <tr>\n",
              "      <th>7</th>\n",
              "      <td>19660</td>\n",
              "      <td>Spring Water</td>\n",
              "      <td>2336</td>\n",
              "    </tr>\n",
              "    <tr>\n",
              "      <th>8</th>\n",
              "      <td>16797</td>\n",
              "      <td>Strawberries</td>\n",
              "      <td>2308</td>\n",
              "    </tr>\n",
              "    <tr>\n",
              "      <th>9</th>\n",
              "      <td>27966</td>\n",
              "      <td>Organic Raspberries</td>\n",
              "      <td>2024</td>\n",
              "    </tr>\n",
              "    <tr>\n",
              "      <th>10</th>\n",
              "      <td>44632</td>\n",
              "      <td>Sparkling Water Grapefruit</td>\n",
              "      <td>1914</td>\n",
              "    </tr>\n",
              "    <tr>\n",
              "      <th>11</th>\n",
              "      <td>49235</td>\n",
              "      <td>Organic Half &amp; Half</td>\n",
              "      <td>1797</td>\n",
              "    </tr>\n",
              "    <tr>\n",
              "      <th>12</th>\n",
              "      <td>47626</td>\n",
              "      <td>Large Lemon</td>\n",
              "      <td>1737</td>\n",
              "    </tr>\n",
              "    <tr>\n",
              "      <th>13</th>\n",
              "      <td>196</td>\n",
              "      <td>Soda</td>\n",
              "      <td>1733</td>\n",
              "    </tr>\n",
              "    <tr>\n",
              "      <th>14</th>\n",
              "      <td>38689</td>\n",
              "      <td>Organic Reduced Fat Milk</td>\n",
              "      <td>1397</td>\n",
              "    </tr>\n",
              "    <tr>\n",
              "      <th>15</th>\n",
              "      <td>26209</td>\n",
              "      <td>Limes</td>\n",
              "      <td>1370</td>\n",
              "    </tr>\n",
              "    <tr>\n",
              "      <th>16</th>\n",
              "      <td>12341</td>\n",
              "      <td>Hass Avocados</td>\n",
              "      <td>1340</td>\n",
              "    </tr>\n",
              "    <tr>\n",
              "      <th>17</th>\n",
              "      <td>5785</td>\n",
              "      <td>Organic Reduced Fat 2% Milk</td>\n",
              "      <td>1310</td>\n",
              "    </tr>\n",
              "    <tr>\n",
              "      <th>18</th>\n",
              "      <td>27086</td>\n",
              "      <td>Half &amp; Half</td>\n",
              "      <td>1309</td>\n",
              "    </tr>\n",
              "    <tr>\n",
              "      <th>19</th>\n",
              "      <td>43352</td>\n",
              "      <td>Raspberries</td>\n",
              "      <td>1246</td>\n",
              "    </tr>\n",
              "  </tbody>\n",
              "</table>\n",
              "</div>"
            ],
            "text/plain": [
              "    product_id                 product_name  count\n",
              "0        24852                       Banana  15562\n",
              "1        13176       Bag of Organic Bananas  11026\n",
              "2        27845           Organic Whole Milk   4363\n",
              "3        21137         Organic Strawberries   3946\n",
              "4        47209         Organic Hass Avocado   3390\n",
              "5        21903         Organic Baby Spinach   3336\n",
              "6        47766              Organic Avocado   3044\n",
              "7        19660                 Spring Water   2336\n",
              "8        16797                 Strawberries   2308\n",
              "9        27966          Organic Raspberries   2024\n",
              "10       44632   Sparkling Water Grapefruit   1914\n",
              "11       49235          Organic Half & Half   1797\n",
              "12       47626                  Large Lemon   1737\n",
              "13         196                         Soda   1733\n",
              "14       38689     Organic Reduced Fat Milk   1397\n",
              "15       26209                        Limes   1370\n",
              "16       12341                Hass Avocados   1340\n",
              "17        5785  Organic Reduced Fat 2% Milk   1310\n",
              "18       27086                  Half & Half   1309\n",
              "19       43352                  Raspberries   1246"
            ]
          },
          "execution_count": 63,
          "metadata": {},
          "output_type": "execute_result"
        }
      ],
      "source": [
        "first_count_as_df = first_count.reset_index(name='count')\n",
        "first_count_as_df.head(20)"
      ]
    },
    {
      "cell_type": "markdown",
      "id": "28ce9872",
      "metadata": {
        "id": "28ce9872"
      },
      "source": [
        "Los productos que con mayor frecuencia se agregan primero en el carrito son productos agrícolas, lácteos y bebidas tales como gaseosas o agua. En realidad no podría decir por qué es así sin tener experiencia usando Instacart, ya que esto podría tener más que ver con el diseño de la aplicación que con las propiedades de los productos. Lo que sí puedo ver es que hay una gran superposición entre este resultado y el anterior sobre los tipos de artículos más populares y que más vuelven a pedirse. Simplemente podría deberse a que la aplicación da prioridad a los artículos populares como las primeras sugerencias de compras, así que solamente es más fácil para los clientes agregar primero estos artículos a su carrito."
      ]
    }
  ],
  "metadata": {
    "colab": {
      "provenance": []
    },
    "kernelspec": {
      "display_name": "Python 3 (ipykernel)",
      "language": "python",
      "name": "python3"
    },
    "language_info": {
      "codemirror_mode": {
        "name": "ipython",
        "version": 3
      },
      "file_extension": ".py",
      "mimetype": "text/x-python",
      "name": "python",
      "nbconvert_exporter": "python",
      "pygments_lexer": "ipython3",
      "version": "3.10.6"
    }
  },
  "nbformat": 4,
  "nbformat_minor": 5
}
